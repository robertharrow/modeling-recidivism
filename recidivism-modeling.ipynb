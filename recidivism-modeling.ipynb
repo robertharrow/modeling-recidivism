{
 "cells": [
  {
   "cell_type": "markdown",
   "metadata": {},
   "source": [
    "# Iowa Prison Recidivism Analysis\n",
    "\n",
    "Author: Robert Harrow\n",
    "\n",
    "## Overview\n",
    "\n",
    "Stakeholder: Iowa Department of Corrections\n",
    "Business Questions:\n",
    "1. What features can help predict recidivism?\n",
    "2. What can the DoC do to reduce recidivism?"
   ]
  },
  {
   "cell_type": "markdown",
   "metadata": {},
   "source": [
    "## Data Understanding & Preperation\n",
    "\n",
    "### Importing Dataset\n",
    "\n",
    "Dataset located at: https://mydata.iowa.gov/Correctional-System/3-Year-Recidivism-for-Offenders-Released-from-Pris/mw8r-vqy4\n",
    "\n",
    "**Load Dependencies**"
   ]
  },
  {
   "cell_type": "code",
   "execution_count": 56,
   "metadata": {
    "scrolled": false
   },
   "outputs": [],
   "source": [
    "import pandas as pd\n",
    "import numpy as np\n",
    "import seaborn as sns\n",
    "from scipy import stats as stats\n",
    "import matplotlib.pyplot as plt\n",
    "%matplotlib inline\n",
    "\n",
    "from sklearn.preprocessing import OneHotEncoder, StandardScaler, FunctionTransformer, LabelEncoder\n",
    "from sklearn.compose import ColumnTransformer\n",
    "from sklearn.pipeline import Pipeline\n",
    "\n",
    "from imblearn.over_sampling import SMOTE\n",
    "from imblearn.under_sampling import RandomUnderSampler\n",
    "from imblearn.pipeline import Pipeline as imbpipe\n",
    "\n",
    "from sklearn.dummy import DummyClassifier\n",
    "from sklearn.linear_model import LogisticRegression\n",
    "from sklearn.neighbors import KNeighborsClassifier\n",
    "from sklearn.tree import DecisionTreeClassifier\n",
    "\n",
    "from sklearn.ensemble import RandomForestClassifier\n",
    "from xgboost import XGBClassifier\n",
    "\n",
    "from sklearn.metrics import accuracy_score, precision_score, recall_score, confusion_matrix,\\\n",
    "precision_recall_fscore_support, f1_score, plot_confusion_matrix\n",
    "from sklearn.model_selection import train_test_split, GridSearchCV,\\\n",
    "cross_validate, cross_val_predict, cross_val_score\n",
    "\n",
    "import joblib\n",
    "\n",
    "from sklearn.metrics import roc_auc_score, roc_curve, auc"
   ]
  },
  {
   "cell_type": "code",
   "execution_count": 2,
   "metadata": {},
   "outputs": [
    {
     "name": "stdout",
     "output_type": "stream",
     "text": [
      "Imbalanced-Learn 0.9.1\n"
     ]
    }
   ],
   "source": [
    "import imblearn\n",
    "print(\"Imbalanced-Learn\", imblearn.__version__)"
   ]
  },
  {
   "cell_type": "markdown",
   "metadata": {},
   "source": [
    "### Data Dictionary\n",
    "\n",
    "| Column Name                | Description                                                                                                                                                                                                          |\n",
    "|:---------------------------|:---------------------------------------------------------------------------------------------------------------------------------------------------------------------------------------------------------------------|\n",
    "| Fiscal Year Released       | Fiscal year (year ending June 30) for which the offender was released from prison.                                                                                                                                   |\n",
    "| Recidivism Reporting Year  | Fiscal year (year ending June 30) that marks the end of the 3-year tracking period. For example, offenders exited prison in FY 2012 are found in recidivism reporting year FY 2015.                                  |\n",
    "| Main Supervising District  | The Judicial District supervising the offender for the longest time during the tracking period.                                                                                                                      |\n",
    "| Release Type               | Reasoning for Offender's release from prison.                                                                                                                                                                        |\n",
    "| Race - Ethnicity           | Offender's Race and Ethnicity                                                                                                                                                                                        |\n",
    "| Age At Release             | Offender's age group at release from prison.                                                                                                                                                                         |\n",
    "| Sex                        | Gender of our offender                                                                                                                                                                                               |\n",
    "| Offense Classification     | Maximum penalties: A Felony = Life; B Felony = 25 or 50 years; C Felony = 10 years; D Felony = 5 years; Aggravated Misdemeanor = 2 years; Serious Misdemeanor = 1 year; Simple Misdemeanor = 30 days                 |\n",
    "| Offense Type               | General category for the most serious offense for which the offender was placed in prison.                                                                                                                           |\n",
    "| Offense Subtype            | Further classification of the most serious offense for which the offender was placed in prison.                                                                                                                      |\n",
    "| Return to Prison           | No = Did not return to prison within the three year tracking period; Yes = Admitted to prison for any reason within the three year tracking period                                                                   |\n",
    "| Days to Return             | Number of days it took before the offender returned to prison.                                                                                                                                                       |\n",
    "| Recidivism Type            | Indicates the reason for return to prison.                                                                                                                                                                           |\n",
    "| New Offense Classification | New conviction maximum penalties: A Felony = Life; B Felony = 25 or 50 years; C Felony = 10 years; D Felony = 5 years; Aggravated Misdemeanor = 2 years; Serious Misdemeanor = 1 year; Simple Misdemeanor = 30 days  |\n",
    "| New Offense Type           | General category for the new conviction while the offender is out of prison.                                                                                                                                         |\n",
    "| New Offense Sub Type       | Further classification of the new conviction.                                                                                                                                                                        |\n",
    "| Target Population          | The Department of Corrections has undertaken specific strategies to reduce recidivism rates for prisoners who are on parole.                                                                                         |\n"
   ]
  },
  {
   "cell_type": "code",
   "execution_count": 3,
   "metadata": {
    "scrolled": false
   },
   "outputs": [],
   "source": [
    "prisoner_df = pd.read_csv('data/recidivism.csv')"
   ]
  },
  {
   "cell_type": "code",
   "execution_count": 4,
   "metadata": {
    "scrolled": false
   },
   "outputs": [
    {
     "data": {
      "text/html": [
       "<div>\n",
       "<style scoped>\n",
       "    .dataframe tbody tr th:only-of-type {\n",
       "        vertical-align: middle;\n",
       "    }\n",
       "\n",
       "    .dataframe tbody tr th {\n",
       "        vertical-align: top;\n",
       "    }\n",
       "\n",
       "    .dataframe thead th {\n",
       "        text-align: right;\n",
       "    }\n",
       "</style>\n",
       "<table border=\"1\" class=\"dataframe\">\n",
       "  <thead>\n",
       "    <tr style=\"text-align: right;\">\n",
       "      <th></th>\n",
       "      <th>Fiscal Year Released</th>\n",
       "      <th>Recidivism Reporting Year</th>\n",
       "      <th>Main Supervising District</th>\n",
       "      <th>Release Type</th>\n",
       "      <th>Race - Ethnicity</th>\n",
       "      <th>Age At Release</th>\n",
       "      <th>Sex</th>\n",
       "      <th>Offense Classification</th>\n",
       "      <th>Offense Type</th>\n",
       "      <th>Offense Subtype</th>\n",
       "      <th>Return to Prison</th>\n",
       "      <th>Days to Return</th>\n",
       "      <th>Recidivism Type</th>\n",
       "      <th>New Offense Classification</th>\n",
       "      <th>New Offense Type</th>\n",
       "      <th>New Offense Sub Type</th>\n",
       "      <th>Target Population</th>\n",
       "    </tr>\n",
       "  </thead>\n",
       "  <tbody>\n",
       "    <tr>\n",
       "      <th>0</th>\n",
       "      <td>2010</td>\n",
       "      <td>2013</td>\n",
       "      <td>7JD</td>\n",
       "      <td>Parole</td>\n",
       "      <td>Black - Non-Hispanic</td>\n",
       "      <td>25-34</td>\n",
       "      <td>Male</td>\n",
       "      <td>C Felony</td>\n",
       "      <td>Violent</td>\n",
       "      <td>Robbery</td>\n",
       "      <td>Yes</td>\n",
       "      <td>433.0</td>\n",
       "      <td>New</td>\n",
       "      <td>C Felony</td>\n",
       "      <td>Drug</td>\n",
       "      <td>Trafficking</td>\n",
       "      <td>Yes</td>\n",
       "    </tr>\n",
       "    <tr>\n",
       "      <th>1</th>\n",
       "      <td>2010</td>\n",
       "      <td>2013</td>\n",
       "      <td>NaN</td>\n",
       "      <td>Discharged – End of Sentence</td>\n",
       "      <td>White - Non-Hispanic</td>\n",
       "      <td>25-34</td>\n",
       "      <td>Male</td>\n",
       "      <td>D Felony</td>\n",
       "      <td>Property</td>\n",
       "      <td>Theft</td>\n",
       "      <td>Yes</td>\n",
       "      <td>453.0</td>\n",
       "      <td>Tech</td>\n",
       "      <td>NaN</td>\n",
       "      <td>NaN</td>\n",
       "      <td>NaN</td>\n",
       "      <td>No</td>\n",
       "    </tr>\n",
       "    <tr>\n",
       "      <th>2</th>\n",
       "      <td>2010</td>\n",
       "      <td>2013</td>\n",
       "      <td>5JD</td>\n",
       "      <td>Parole</td>\n",
       "      <td>White - Non-Hispanic</td>\n",
       "      <td>35-44</td>\n",
       "      <td>Male</td>\n",
       "      <td>B Felony</td>\n",
       "      <td>Drug</td>\n",
       "      <td>Trafficking</td>\n",
       "      <td>Yes</td>\n",
       "      <td>832.0</td>\n",
       "      <td>Tech</td>\n",
       "      <td>NaN</td>\n",
       "      <td>NaN</td>\n",
       "      <td>NaN</td>\n",
       "      <td>Yes</td>\n",
       "    </tr>\n",
       "    <tr>\n",
       "      <th>3</th>\n",
       "      <td>2010</td>\n",
       "      <td>2013</td>\n",
       "      <td>6JD</td>\n",
       "      <td>Parole</td>\n",
       "      <td>White - Non-Hispanic</td>\n",
       "      <td>25-34</td>\n",
       "      <td>Male</td>\n",
       "      <td>B Felony</td>\n",
       "      <td>Other</td>\n",
       "      <td>Other Criminal</td>\n",
       "      <td>No</td>\n",
       "      <td>NaN</td>\n",
       "      <td>No Recidivism</td>\n",
       "      <td>NaN</td>\n",
       "      <td>NaN</td>\n",
       "      <td>NaN</td>\n",
       "      <td>Yes</td>\n",
       "    </tr>\n",
       "    <tr>\n",
       "      <th>4</th>\n",
       "      <td>2010</td>\n",
       "      <td>2013</td>\n",
       "      <td>NaN</td>\n",
       "      <td>Discharged – End of Sentence</td>\n",
       "      <td>Black - Non-Hispanic</td>\n",
       "      <td>35-44</td>\n",
       "      <td>Male</td>\n",
       "      <td>D Felony</td>\n",
       "      <td>Violent</td>\n",
       "      <td>Assault</td>\n",
       "      <td>Yes</td>\n",
       "      <td>116.0</td>\n",
       "      <td>Tech</td>\n",
       "      <td>NaN</td>\n",
       "      <td>NaN</td>\n",
       "      <td>NaN</td>\n",
       "      <td>No</td>\n",
       "    </tr>\n",
       "  </tbody>\n",
       "</table>\n",
       "</div>"
      ],
      "text/plain": [
       "   Fiscal Year Released  Recidivism Reporting Year Main Supervising District  \\\n",
       "0                  2010                       2013                       7JD   \n",
       "1                  2010                       2013                       NaN   \n",
       "2                  2010                       2013                       5JD   \n",
       "3                  2010                       2013                       6JD   \n",
       "4                  2010                       2013                       NaN   \n",
       "\n",
       "                   Release Type      Race - Ethnicity Age At Release    Sex  \\\n",
       "0                        Parole  Black - Non-Hispanic           25-34  Male   \n",
       "1  Discharged – End of Sentence  White - Non-Hispanic           25-34  Male   \n",
       "2                        Parole  White - Non-Hispanic           35-44  Male   \n",
       "3                        Parole  White - Non-Hispanic           25-34  Male   \n",
       "4  Discharged – End of Sentence  Black - Non-Hispanic           35-44  Male   \n",
       "\n",
       "  Offense Classification Offense Type Offense Subtype Return to Prison  \\\n",
       "0               C Felony      Violent         Robbery              Yes   \n",
       "1               D Felony     Property           Theft              Yes   \n",
       "2               B Felony         Drug     Trafficking              Yes   \n",
       "3               B Felony        Other  Other Criminal               No   \n",
       "4               D Felony      Violent         Assault              Yes   \n",
       "\n",
       "   Days to Return Recidivism Type New Offense Classification New Offense Type  \\\n",
       "0           433.0             New                   C Felony             Drug   \n",
       "1           453.0            Tech                        NaN              NaN   \n",
       "2           832.0            Tech                        NaN              NaN   \n",
       "3             NaN   No Recidivism                        NaN              NaN   \n",
       "4           116.0            Tech                        NaN              NaN   \n",
       "\n",
       "  New Offense Sub Type Target Population  \n",
       "0          Trafficking               Yes  \n",
       "1                  NaN                No  \n",
       "2                  NaN               Yes  \n",
       "3                  NaN               Yes  \n",
       "4                  NaN                No  "
      ]
     },
     "execution_count": 4,
     "metadata": {},
     "output_type": "execute_result"
    }
   ],
   "source": [
    "# Preview first 5 rows\n",
    "prisoner_df.head()"
   ]
  },
  {
   "cell_type": "code",
   "execution_count": 5,
   "metadata": {
    "scrolled": false
   },
   "outputs": [
    {
     "name": "stdout",
     "output_type": "stream",
     "text": [
      "<class 'pandas.core.frame.DataFrame'>\n",
      "RangeIndex: 26020 entries, 0 to 26019\n",
      "Data columns (total 17 columns):\n",
      " #   Column                      Non-Null Count  Dtype  \n",
      "---  ------                      --------------  -----  \n",
      " 0   Fiscal Year Released        26020 non-null  int64  \n",
      " 1   Recidivism Reporting Year   26020 non-null  int64  \n",
      " 2   Main Supervising District   16439 non-null  object \n",
      " 3   Release Type                24258 non-null  object \n",
      " 4   Race - Ethnicity            25990 non-null  object \n",
      " 5   Age At Release              26017 non-null  object \n",
      " 6   Sex                         26017 non-null  object \n",
      " 7   Offense Classification      26020 non-null  object \n",
      " 8   Offense Type                26020 non-null  object \n",
      " 9   Offense Subtype             26020 non-null  object \n",
      " 10  Return to Prison            26020 non-null  object \n",
      " 11  Days to Return              8681 non-null   float64\n",
      " 12  Recidivism Type             26020 non-null  object \n",
      " 13  New Offense Classification  6718 non-null   object \n",
      " 14  New Offense Type            6718 non-null   object \n",
      " 15  New Offense Sub Type        6699 non-null   object \n",
      " 16  Target Population           26020 non-null  object \n",
      "dtypes: float64(1), int64(2), object(14)\n",
      "memory usage: 3.4+ MB\n"
     ]
    }
   ],
   "source": [
    "# Get overview of the data\n",
    "prisoner_df.info()"
   ]
  },
  {
   "cell_type": "code",
   "execution_count": 6,
   "metadata": {
    "scrolled": false
   },
   "outputs": [
    {
     "data": {
      "text/plain": [
       "No     17339\n",
       "Yes     8681\n",
       "Name: Return to Prison, dtype: int64"
      ]
     },
     "execution_count": 6,
     "metadata": {},
     "output_type": "execute_result"
    }
   ],
   "source": [
    "# Explore distribution of target\n",
    "prisoner_df['Return to Prison'].value_counts()"
   ]
  },
  {
   "cell_type": "code",
   "execution_count": 7,
   "metadata": {
    "scrolled": false
   },
   "outputs": [
    {
     "data": {
      "text/plain": [
       "No Recidivism    17339\n",
       "New               5516\n",
       "Tech              3165\n",
       "Name: Recidivism Type, dtype: int64"
      ]
     },
     "execution_count": 7,
     "metadata": {},
     "output_type": "execute_result"
    }
   ],
   "source": [
    "prisoner_df['Recidivism Type'].value_counts()"
   ]
  },
  {
   "cell_type": "code",
   "execution_count": 8,
   "metadata": {
    "scrolled": false
   },
   "outputs": [
    {
     "data": {
      "text/plain": [
       "Fiscal Year Released          0.000000\n",
       "Recidivism Reporting Year     0.000000\n",
       "Main Supervising District     0.368217\n",
       "Release Type                  0.067717\n",
       "Race - Ethnicity              0.001153\n",
       "Age At Release                0.000115\n",
       "Sex                           0.000115\n",
       "Offense Classification        0.000000\n",
       "Offense Type                  0.000000\n",
       "Offense Subtype               0.000000\n",
       "Return to Prison              0.000000\n",
       "Days to Return                0.666372\n",
       "Recidivism Type               0.000000\n",
       "New Offense Classification    0.741814\n",
       "New Offense Type              0.741814\n",
       "New Offense Sub Type          0.742544\n",
       "Target Population             0.000000\n",
       "dtype: float64"
      ]
     },
     "execution_count": 8,
     "metadata": {},
     "output_type": "execute_result"
    }
   ],
   "source": [
    "# Exploring proportion of missing data\n",
    "prisoner_df.isna().mean()"
   ]
  },
  {
   "cell_type": "markdown",
   "metadata": {},
   "source": [
    "### Basic Data Cleaning\n",
    "\n",
    "Data is missing for the following columns:\n",
    "* **Main Supervising District.** Based on an email I received from the Iowa Department of Corrections <em>\"When a Main Supervising District is blank, this means they discharged straight from prison and were not supervised by Community Based Corrections.\"</em>\n",
    "* **Release Type/Race - Ethnicity/Age At Release/Sex.** Just 0.01% - 6% of data is missing here. I will likely just drop these records.\n",
    "* **Days to Return/New Offense Classification/New Offense Type/New Offense Sub Type.** It makes sense for this data to be missing since we have records of people who never returned to prison. Also, we don't need these columns for modeling."
   ]
  },
  {
   "cell_type": "code",
   "execution_count": 9,
   "metadata": {
    "scrolled": false
   },
   "outputs": [],
   "source": [
    "# Replacing Main Supervising District NaN with 'None'\n",
    "prisoner_df['Main Supervising District'] = prisoner_df['Main Supervising District'].fillna('None')"
   ]
  },
  {
   "cell_type": "code",
   "execution_count": 10,
   "metadata": {
    "scrolled": false
   },
   "outputs": [],
   "source": [
    "# Dealing with records with small amounts of missing values\n",
    "prisoner_df.dropna(subset=['Release Type', 'Race - Ethnicity','Age At Release ','Sex'], inplace=True)"
   ]
  },
  {
   "cell_type": "code",
   "execution_count": 11,
   "metadata": {
    "scrolled": false
   },
   "outputs": [],
   "source": [
    "# Dropping columns not needed for modeling\n",
    "cols_to_drop = ['Fiscal Year Released',\n",
    "                'Recidivism Reporting Year',\n",
    "                'Days to Return',\n",
    "                'Recidivism Type',\n",
    "                'New Offense Classification',\n",
    "                'New Offense Type',\n",
    "                'New Offense Sub Type',\n",
    "                'Offense Subtype' # dropping this for now because it gets too granural\n",
    "               ]"
   ]
  },
  {
   "cell_type": "code",
   "execution_count": 12,
   "metadata": {
    "scrolled": false
   },
   "outputs": [],
   "source": [
    "prisoner_df_relevant = prisoner_df.drop(cols_to_drop, axis=1)"
   ]
  },
  {
   "cell_type": "code",
   "execution_count": 13,
   "metadata": {
    "scrolled": false
   },
   "outputs": [],
   "source": [
    "prisoner_df_relevant[\"Return to Prison\"].replace({\"Yes\": 1, \"No\": 0}, inplace=True)"
   ]
  },
  {
   "cell_type": "code",
   "execution_count": 14,
   "metadata": {
    "scrolled": true
   },
   "outputs": [
    {
     "name": "stdout",
     "output_type": "stream",
     "text": [
      "None                  7787\n",
      "5JD                   4982\n",
      "1JD                   2787\n",
      "2JD                   1988\n",
      "8JD                   1556\n",
      "7JD                   1514\n",
      "3JD                   1188\n",
      "6JD                   1098\n",
      "4JD                    666\n",
      "ISC                    350\n",
      "Interstate Compact     309\n",
      "Name: Main Supervising District, dtype: int64\n",
      "Parole                                 9810\n",
      "Parole Granted                         5577\n",
      "Discharged – End of Sentence           5007\n",
      "Discharged - Expiration of Sentence    2335\n",
      "Released to Special Sentence            401\n",
      "Special Sentence                        347\n",
      "Paroled w/Immediate Discharge           334\n",
      "Paroled to Detainer - Out of State      137\n",
      "Paroled to Detainer - INS               134\n",
      "Paroled to Detainer - U.S. Marshall      77\n",
      "Paroled to Detainer - Iowa               66\n",
      "Name: Release Type, dtype: int64\n",
      "White - Non-Hispanic                               16460\n",
      "Black - Non-Hispanic                                5687\n",
      "White - Hispanic                                    1365\n",
      "American Indian or Alaska Native - Non-Hispanic      463\n",
      "Asian or Pacific Islander - Non-Hispanic             175\n",
      "Black - Hispanic                                      36\n",
      "American Indian or Alaska Native - Hispanic           19\n",
      "White -                                               12\n",
      "Asian or Pacific Islander - Hispanic                   5\n",
      "Black -                                                2\n",
      "N/A -                                                  1\n",
      "Name: Race - Ethnicity, dtype: int64\n",
      "25-34           8879\n",
      "35-44           5847\n",
      "Under 25        4229\n",
      "45-54           4079\n",
      "55 and Older    1191\n",
      "Name: Age At Release , dtype: int64\n",
      "Male      21050\n",
      "Female     3175\n",
      "Name: Sex, dtype: int64\n",
      "D Felony                                    9786\n",
      "C Felony                                    6453\n",
      "Aggravated Misdemeanor                      4327\n",
      "B Felony                                    1716\n",
      "Felony - Enhancement to Original Penalty    1488\n",
      "Felony - Enhanced                            220\n",
      "Serious Misdemeanor                          139\n",
      "Special Sentence 2005                         69\n",
      "Felony - Mandatory Minimum                    10\n",
      "Other Felony                                   6\n",
      "A Felony                                       4\n",
      "Simple Misdemeanor                             3\n",
      "Other Felony (Old Code)                        2\n",
      "Sexual Predator Community Supervision          2\n",
      "Name: Offense Classification, dtype: int64\n",
      "Drug            7573\n",
      "Property        6863\n",
      "Violent         5288\n",
      "Public Order    3334\n",
      "Other           1167\n",
      "Name: Offense Type, dtype: int64\n",
      "0    15894\n",
      "1     8331\n",
      "Name: Return to Prison, dtype: int64\n",
      "Yes    13807\n",
      "No     10418\n",
      "Name: Target Population, dtype: int64\n"
     ]
    }
   ],
   "source": [
    "for col in prisoner_df_relevant.columns:\n",
    "    print(prisoner_df_relevant[col].value_counts())"
   ]
  },
  {
   "cell_type": "code",
   "execution_count": 15,
   "metadata": {
    "scrolled": false
   },
   "outputs": [],
   "source": [
    "# Dropping Race & Offense Classification records for which we don't have enough data for\n",
    "prisoner_df_relevant = prisoner_df_relevant.groupby('Race - Ethnicity').filter(lambda x: len(x) > 100)\n",
    "prisoner_df_relevant = prisoner_df_relevant.groupby('Offense Classification').filter(lambda x: len(x) > 100)"
   ]
  },
  {
   "cell_type": "markdown",
   "metadata": {},
   "source": [
    "### Feature Engineering"
   ]
  },
  {
   "cell_type": "code",
   "execution_count": 16,
   "metadata": {},
   "outputs": [
    {
     "data": {
      "text/plain": [
       "Index(['Main Supervising District', 'Release Type', 'Race - Ethnicity',\n",
       "       'Age At Release ', 'Sex', 'Offense Classification', 'Offense Type',\n",
       "       'Return to Prison', 'Target Population'],\n",
       "      dtype='object')"
      ]
     },
     "execution_count": 16,
     "metadata": {},
     "output_type": "execute_result"
    }
   ],
   "source": [
    "prisoner_df_relevant.columns"
   ]
  },
  {
   "cell_type": "code",
   "execution_count": 17,
   "metadata": {},
   "outputs": [
    {
     "data": {
      "text/html": [
       "<div>\n",
       "<style scoped>\n",
       "    .dataframe tbody tr th:only-of-type {\n",
       "        vertical-align: middle;\n",
       "    }\n",
       "\n",
       "    .dataframe tbody tr th {\n",
       "        vertical-align: top;\n",
       "    }\n",
       "\n",
       "    .dataframe thead th {\n",
       "        text-align: right;\n",
       "    }\n",
       "</style>\n",
       "<table border=\"1\" class=\"dataframe\">\n",
       "  <thead>\n",
       "    <tr style=\"text-align: right;\">\n",
       "      <th></th>\n",
       "      <th>Main Supervising District</th>\n",
       "      <th>Release Type</th>\n",
       "      <th>Race - Ethnicity</th>\n",
       "      <th>Age At Release</th>\n",
       "      <th>Sex</th>\n",
       "      <th>Offense Classification</th>\n",
       "      <th>Offense Type</th>\n",
       "      <th>Return to Prison</th>\n",
       "      <th>Target Population</th>\n",
       "    </tr>\n",
       "  </thead>\n",
       "  <tbody>\n",
       "    <tr>\n",
       "      <th>0</th>\n",
       "      <td>7JD</td>\n",
       "      <td>Parole</td>\n",
       "      <td>Black - Non-Hispanic</td>\n",
       "      <td>25-34</td>\n",
       "      <td>Male</td>\n",
       "      <td>C Felony</td>\n",
       "      <td>Violent</td>\n",
       "      <td>1</td>\n",
       "      <td>Yes</td>\n",
       "    </tr>\n",
       "    <tr>\n",
       "      <th>1</th>\n",
       "      <td>None</td>\n",
       "      <td>Discharged – End of Sentence</td>\n",
       "      <td>White - Non-Hispanic</td>\n",
       "      <td>25-34</td>\n",
       "      <td>Male</td>\n",
       "      <td>D Felony</td>\n",
       "      <td>Property</td>\n",
       "      <td>1</td>\n",
       "      <td>No</td>\n",
       "    </tr>\n",
       "    <tr>\n",
       "      <th>2</th>\n",
       "      <td>5JD</td>\n",
       "      <td>Parole</td>\n",
       "      <td>White - Non-Hispanic</td>\n",
       "      <td>35-44</td>\n",
       "      <td>Male</td>\n",
       "      <td>B Felony</td>\n",
       "      <td>Drug</td>\n",
       "      <td>1</td>\n",
       "      <td>Yes</td>\n",
       "    </tr>\n",
       "    <tr>\n",
       "      <th>3</th>\n",
       "      <td>6JD</td>\n",
       "      <td>Parole</td>\n",
       "      <td>White - Non-Hispanic</td>\n",
       "      <td>25-34</td>\n",
       "      <td>Male</td>\n",
       "      <td>B Felony</td>\n",
       "      <td>Other</td>\n",
       "      <td>0</td>\n",
       "      <td>Yes</td>\n",
       "    </tr>\n",
       "    <tr>\n",
       "      <th>4</th>\n",
       "      <td>None</td>\n",
       "      <td>Discharged – End of Sentence</td>\n",
       "      <td>Black - Non-Hispanic</td>\n",
       "      <td>35-44</td>\n",
       "      <td>Male</td>\n",
       "      <td>D Felony</td>\n",
       "      <td>Violent</td>\n",
       "      <td>1</td>\n",
       "      <td>No</td>\n",
       "    </tr>\n",
       "    <tr>\n",
       "      <th>...</th>\n",
       "      <td>...</td>\n",
       "      <td>...</td>\n",
       "      <td>...</td>\n",
       "      <td>...</td>\n",
       "      <td>...</td>\n",
       "      <td>...</td>\n",
       "      <td>...</td>\n",
       "      <td>...</td>\n",
       "      <td>...</td>\n",
       "    </tr>\n",
       "    <tr>\n",
       "      <th>26015</th>\n",
       "      <td>None</td>\n",
       "      <td>Paroled to Detainer - INS</td>\n",
       "      <td>White - Hispanic</td>\n",
       "      <td>Under 25</td>\n",
       "      <td>Male</td>\n",
       "      <td>C Felony</td>\n",
       "      <td>Violent</td>\n",
       "      <td>0</td>\n",
       "      <td>Yes</td>\n",
       "    </tr>\n",
       "    <tr>\n",
       "      <th>26016</th>\n",
       "      <td>6JD</td>\n",
       "      <td>Released to Special Sentence</td>\n",
       "      <td>White - Non-Hispanic</td>\n",
       "      <td>35-44</td>\n",
       "      <td>Male</td>\n",
       "      <td>C Felony</td>\n",
       "      <td>Violent</td>\n",
       "      <td>0</td>\n",
       "      <td>No</td>\n",
       "    </tr>\n",
       "    <tr>\n",
       "      <th>26017</th>\n",
       "      <td>5JD</td>\n",
       "      <td>Parole Granted</td>\n",
       "      <td>White - Non-Hispanic</td>\n",
       "      <td>25-34</td>\n",
       "      <td>Female</td>\n",
       "      <td>Aggravated Misdemeanor</td>\n",
       "      <td>Public Order</td>\n",
       "      <td>0</td>\n",
       "      <td>No</td>\n",
       "    </tr>\n",
       "    <tr>\n",
       "      <th>26018</th>\n",
       "      <td>5JD</td>\n",
       "      <td>Paroled w/Immediate Discharge</td>\n",
       "      <td>White - Non-Hispanic</td>\n",
       "      <td>25-34</td>\n",
       "      <td>Male</td>\n",
       "      <td>D Felony</td>\n",
       "      <td>Property</td>\n",
       "      <td>0</td>\n",
       "      <td>Yes</td>\n",
       "    </tr>\n",
       "    <tr>\n",
       "      <th>26019</th>\n",
       "      <td>None</td>\n",
       "      <td>Paroled to Detainer - Out of State</td>\n",
       "      <td>White - Non-Hispanic</td>\n",
       "      <td>35-44</td>\n",
       "      <td>Male</td>\n",
       "      <td>D Felony</td>\n",
       "      <td>Violent</td>\n",
       "      <td>1</td>\n",
       "      <td>Yes</td>\n",
       "    </tr>\n",
       "  </tbody>\n",
       "</table>\n",
       "<p>24054 rows × 9 columns</p>\n",
       "</div>"
      ],
      "text/plain": [
       "      Main Supervising District                        Release Type  \\\n",
       "0                           7JD                              Parole   \n",
       "1                          None        Discharged – End of Sentence   \n",
       "2                           5JD                              Parole   \n",
       "3                           6JD                              Parole   \n",
       "4                          None        Discharged – End of Sentence   \n",
       "...                         ...                                 ...   \n",
       "26015                      None           Paroled to Detainer - INS   \n",
       "26016                       6JD        Released to Special Sentence   \n",
       "26017                       5JD                      Parole Granted   \n",
       "26018                       5JD       Paroled w/Immediate Discharge   \n",
       "26019                      None  Paroled to Detainer - Out of State   \n",
       "\n",
       "           Race - Ethnicity Age At Release      Sex  Offense Classification  \\\n",
       "0      Black - Non-Hispanic           25-34    Male                C Felony   \n",
       "1      White - Non-Hispanic           25-34    Male                D Felony   \n",
       "2      White - Non-Hispanic           35-44    Male                B Felony   \n",
       "3      White - Non-Hispanic           25-34    Male                B Felony   \n",
       "4      Black - Non-Hispanic           35-44    Male                D Felony   \n",
       "...                     ...             ...     ...                     ...   \n",
       "26015      White - Hispanic        Under 25    Male                C Felony   \n",
       "26016  White - Non-Hispanic           35-44    Male                C Felony   \n",
       "26017  White - Non-Hispanic           25-34  Female  Aggravated Misdemeanor   \n",
       "26018  White - Non-Hispanic           25-34    Male                D Felony   \n",
       "26019  White - Non-Hispanic           35-44    Male                D Felony   \n",
       "\n",
       "       Offense Type  Return to Prison Target Population  \n",
       "0           Violent                 1               Yes  \n",
       "1          Property                 1                No  \n",
       "2              Drug                 1               Yes  \n",
       "3             Other                 0               Yes  \n",
       "4           Violent                 1                No  \n",
       "...             ...               ...               ...  \n",
       "26015       Violent                 0               Yes  \n",
       "26016       Violent                 0                No  \n",
       "26017  Public Order                 0                No  \n",
       "26018      Property                 0               Yes  \n",
       "26019       Violent                 1               Yes  \n",
       "\n",
       "[24054 rows x 9 columns]"
      ]
     },
     "execution_count": 17,
     "metadata": {},
     "output_type": "execute_result"
    }
   ],
   "source": [
    "prisoner_df_relevant"
   ]
  },
  {
   "cell_type": "markdown",
   "metadata": {},
   "source": [
    "### Split data for cleaning & training"
   ]
  },
  {
   "cell_type": "code",
   "execution_count": 18,
   "metadata": {
    "scrolled": false
   },
   "outputs": [],
   "source": [
    "X = prisoner_df_relevant.drop(['Return to Prison'], axis=1)\n",
    "y = prisoner_df_relevant['Return to Prison']\n",
    "\n",
    "X_train, X_test, y_train, y_test = train_test_split(X, y, random_state=42, stratify=y)"
   ]
  },
  {
   "cell_type": "code",
   "execution_count": 19,
   "metadata": {
    "scrolled": false
   },
   "outputs": [],
   "source": [
    "def release_type_transformer(df):\n",
    "    '''\n",
    "    Create 3 bins to reduce release type to the three major types of prison releases\n",
    "    '''\n",
    "    df.loc[df['Release Type'].str.contains('parole', case=False), 'Release Type'] = 'parole'\n",
    "    df.loc[df['Release Type'].str.contains('discharged', case=False), 'Release Type'] = 'discharged'\n",
    "    df.loc[df['Release Type'].str.contains('special', case=False), 'Release Type'] = 'special sentence'\n",
    "    return df\n",
    "\n",
    "def offense_classification_transformer(df):\n",
    "    df.loc[df['Offense Classification'].str.contains('enhance', case=False),\n",
    "           'Offense Classification'] = 'enhanced felony'\n",
    "    return df"
   ]
  },
  {
   "cell_type": "code",
   "execution_count": 20,
   "metadata": {
    "scrolled": false
   },
   "outputs": [],
   "source": [
    "cleaning_pipeline = Pipeline(steps=[\n",
    "    ('release', FunctionTransformer(release_type_transformer)),\n",
    "    ('classification', FunctionTransformer(offense_classification_transformer))\n",
    "])"
   ]
  },
  {
   "cell_type": "code",
   "execution_count": 21,
   "metadata": {
    "scrolled": false
   },
   "outputs": [],
   "source": [
    "X_train_clean = cleaning_pipeline.fit_transform(X_train)"
   ]
  },
  {
   "cell_type": "code",
   "execution_count": 22,
   "metadata": {
    "scrolled": false
   },
   "outputs": [
    {
     "data": {
      "text/html": [
       "<div>\n",
       "<style scoped>\n",
       "    .dataframe tbody tr th:only-of-type {\n",
       "        vertical-align: middle;\n",
       "    }\n",
       "\n",
       "    .dataframe tbody tr th {\n",
       "        vertical-align: top;\n",
       "    }\n",
       "\n",
       "    .dataframe thead th {\n",
       "        text-align: right;\n",
       "    }\n",
       "</style>\n",
       "<table border=\"1\" class=\"dataframe\">\n",
       "  <thead>\n",
       "    <tr style=\"text-align: right;\">\n",
       "      <th></th>\n",
       "      <th>Main Supervising District</th>\n",
       "      <th>Release Type</th>\n",
       "      <th>Race - Ethnicity</th>\n",
       "      <th>Age At Release</th>\n",
       "      <th>Sex</th>\n",
       "      <th>Offense Classification</th>\n",
       "      <th>Offense Type</th>\n",
       "      <th>Target Population</th>\n",
       "    </tr>\n",
       "  </thead>\n",
       "  <tbody>\n",
       "    <tr>\n",
       "      <th>1518</th>\n",
       "      <td>None</td>\n",
       "      <td>discharged</td>\n",
       "      <td>White - Non-Hispanic</td>\n",
       "      <td>35-44</td>\n",
       "      <td>Male</td>\n",
       "      <td>D Felony</td>\n",
       "      <td>Violent</td>\n",
       "      <td>No</td>\n",
       "    </tr>\n",
       "    <tr>\n",
       "      <th>16583</th>\n",
       "      <td>5JD</td>\n",
       "      <td>parole</td>\n",
       "      <td>Black - Non-Hispanic</td>\n",
       "      <td>45-54</td>\n",
       "      <td>Male</td>\n",
       "      <td>D Felony</td>\n",
       "      <td>Property</td>\n",
       "      <td>Yes</td>\n",
       "    </tr>\n",
       "    <tr>\n",
       "      <th>12078</th>\n",
       "      <td>None</td>\n",
       "      <td>discharged</td>\n",
       "      <td>White - Non-Hispanic</td>\n",
       "      <td>45-54</td>\n",
       "      <td>Male</td>\n",
       "      <td>D Felony</td>\n",
       "      <td>Drug</td>\n",
       "      <td>No</td>\n",
       "    </tr>\n",
       "    <tr>\n",
       "      <th>2430</th>\n",
       "      <td>None</td>\n",
       "      <td>discharged</td>\n",
       "      <td>White - Non-Hispanic</td>\n",
       "      <td>25-34</td>\n",
       "      <td>Male</td>\n",
       "      <td>C Felony</td>\n",
       "      <td>Drug</td>\n",
       "      <td>No</td>\n",
       "    </tr>\n",
       "    <tr>\n",
       "      <th>16881</th>\n",
       "      <td>7JD</td>\n",
       "      <td>parole</td>\n",
       "      <td>White - Non-Hispanic</td>\n",
       "      <td>Under 25</td>\n",
       "      <td>Male</td>\n",
       "      <td>D Felony</td>\n",
       "      <td>Property</td>\n",
       "      <td>Yes</td>\n",
       "    </tr>\n",
       "    <tr>\n",
       "      <th>...</th>\n",
       "      <td>...</td>\n",
       "      <td>...</td>\n",
       "      <td>...</td>\n",
       "      <td>...</td>\n",
       "      <td>...</td>\n",
       "      <td>...</td>\n",
       "      <td>...</td>\n",
       "      <td>...</td>\n",
       "    </tr>\n",
       "    <tr>\n",
       "      <th>4181</th>\n",
       "      <td>2JD</td>\n",
       "      <td>parole</td>\n",
       "      <td>Black - Non-Hispanic</td>\n",
       "      <td>25-34</td>\n",
       "      <td>Male</td>\n",
       "      <td>C Felony</td>\n",
       "      <td>Violent</td>\n",
       "      <td>Yes</td>\n",
       "    </tr>\n",
       "    <tr>\n",
       "      <th>2397</th>\n",
       "      <td>None</td>\n",
       "      <td>discharged</td>\n",
       "      <td>Black - Non-Hispanic</td>\n",
       "      <td>45-54</td>\n",
       "      <td>Male</td>\n",
       "      <td>enhanced felony</td>\n",
       "      <td>Drug</td>\n",
       "      <td>No</td>\n",
       "    </tr>\n",
       "    <tr>\n",
       "      <th>13009</th>\n",
       "      <td>None</td>\n",
       "      <td>discharged</td>\n",
       "      <td>White - Non-Hispanic</td>\n",
       "      <td>Under 25</td>\n",
       "      <td>Male</td>\n",
       "      <td>D Felony</td>\n",
       "      <td>Violent</td>\n",
       "      <td>No</td>\n",
       "    </tr>\n",
       "    <tr>\n",
       "      <th>24590</th>\n",
       "      <td>4JD</td>\n",
       "      <td>parole</td>\n",
       "      <td>White - Non-Hispanic</td>\n",
       "      <td>25-34</td>\n",
       "      <td>Male</td>\n",
       "      <td>C Felony</td>\n",
       "      <td>Drug</td>\n",
       "      <td>No</td>\n",
       "    </tr>\n",
       "    <tr>\n",
       "      <th>6416</th>\n",
       "      <td>1JD</td>\n",
       "      <td>parole</td>\n",
       "      <td>White - Non-Hispanic</td>\n",
       "      <td>25-34</td>\n",
       "      <td>Male</td>\n",
       "      <td>D Felony</td>\n",
       "      <td>Property</td>\n",
       "      <td>Yes</td>\n",
       "    </tr>\n",
       "  </tbody>\n",
       "</table>\n",
       "<p>18040 rows × 8 columns</p>\n",
       "</div>"
      ],
      "text/plain": [
       "      Main Supervising District Release Type      Race - Ethnicity  \\\n",
       "1518                       None   discharged  White - Non-Hispanic   \n",
       "16583                       5JD       parole  Black - Non-Hispanic   \n",
       "12078                      None   discharged  White - Non-Hispanic   \n",
       "2430                       None   discharged  White - Non-Hispanic   \n",
       "16881                       7JD       parole  White - Non-Hispanic   \n",
       "...                         ...          ...                   ...   \n",
       "4181                        2JD       parole  Black - Non-Hispanic   \n",
       "2397                       None   discharged  Black - Non-Hispanic   \n",
       "13009                      None   discharged  White - Non-Hispanic   \n",
       "24590                       4JD       parole  White - Non-Hispanic   \n",
       "6416                        1JD       parole  White - Non-Hispanic   \n",
       "\n",
       "      Age At Release    Sex Offense Classification Offense Type  \\\n",
       "1518            35-44  Male               D Felony      Violent   \n",
       "16583           45-54  Male               D Felony     Property   \n",
       "12078           45-54  Male               D Felony         Drug   \n",
       "2430            25-34  Male               C Felony         Drug   \n",
       "16881        Under 25  Male               D Felony     Property   \n",
       "...               ...   ...                    ...          ...   \n",
       "4181            25-34  Male               C Felony      Violent   \n",
       "2397            45-54  Male        enhanced felony         Drug   \n",
       "13009        Under 25  Male               D Felony      Violent   \n",
       "24590           25-34  Male               C Felony         Drug   \n",
       "6416            25-34  Male               D Felony     Property   \n",
       "\n",
       "      Target Population  \n",
       "1518                 No  \n",
       "16583               Yes  \n",
       "12078                No  \n",
       "2430                 No  \n",
       "16881               Yes  \n",
       "...                 ...  \n",
       "4181                Yes  \n",
       "2397                 No  \n",
       "13009                No  \n",
       "24590                No  \n",
       "6416                Yes  \n",
       "\n",
       "[18040 rows x 8 columns]"
      ]
     },
     "execution_count": 22,
     "metadata": {},
     "output_type": "execute_result"
    }
   ],
   "source": [
    "X_train_clean"
   ]
  },
  {
   "cell_type": "markdown",
   "metadata": {},
   "source": [
    "### Model Iterations"
   ]
  },
  {
   "cell_type": "code",
   "execution_count": 23,
   "metadata": {
    "scrolled": false
   },
   "outputs": [],
   "source": [
    "def print_cv_scores(pipe, X, y):\n",
    "    scoring = ['accuracy','precision_macro', 'recall_macro', 'f1_macro']\n",
    "    results = cross_validate(pipe, X, \n",
    "                                   y, \n",
    "                                   return_train_score=True, scoring=scoring)\n",
    "    \n",
    "    print(results['train_accuracy'])\n",
    "    print('Training Accuracy', results['train_accuracy'].mean())\n",
    "    print('##############')\n",
    "    print(results['test_accuracy'])\n",
    "    print('Cross_Val Accuracy', results['test_accuracy'].mean())\n",
    "    print('##############')\n",
    "    print('Training Macro Precision:', results['train_precision_macro'].mean())\n",
    "    print('Cross_Val Macro Precision:', results['test_precision_macro'].mean())\n",
    "    print('##############')\n",
    "    print('Training Macro Recall:', results['train_recall_macro'].mean())\n",
    "    print('Cross_Val Macro Recall:', results['test_recall_macro'].mean())\n",
    "    print('##############')\n",
    "    print('Training Macro F1:', results['train_f1_macro'].mean())\n",
    "    print('Cross_Val Macro F1:', results['test_f1_macro'].mean())"
   ]
  },
  {
   "cell_type": "markdown",
   "metadata": {},
   "source": [
    "### Dummy classifier"
   ]
  },
  {
   "cell_type": "code",
   "execution_count": 24,
   "metadata": {
    "scrolled": false
   },
   "outputs": [],
   "source": [
    "dummy_pipe = Pipeline(steps=[\n",
    "    (\"ohe\", OneHotEncoder(sparse=False)),\n",
    "    ('dc', DummyClassifier(strategy='most_frequent'))])"
   ]
  },
  {
   "cell_type": "code",
   "execution_count": 25,
   "metadata": {
    "scrolled": false
   },
   "outputs": [
    {
     "data": {
      "text/html": [
       "<style>#sk-container-id-1 {color: black;background-color: white;}#sk-container-id-1 pre{padding: 0;}#sk-container-id-1 div.sk-toggleable {background-color: white;}#sk-container-id-1 label.sk-toggleable__label {cursor: pointer;display: block;width: 100%;margin-bottom: 0;padding: 0.3em;box-sizing: border-box;text-align: center;}#sk-container-id-1 label.sk-toggleable__label-arrow:before {content: \"▸\";float: left;margin-right: 0.25em;color: #696969;}#sk-container-id-1 label.sk-toggleable__label-arrow:hover:before {color: black;}#sk-container-id-1 div.sk-estimator:hover label.sk-toggleable__label-arrow:before {color: black;}#sk-container-id-1 div.sk-toggleable__content {max-height: 0;max-width: 0;overflow: hidden;text-align: left;background-color: #f0f8ff;}#sk-container-id-1 div.sk-toggleable__content pre {margin: 0.2em;color: black;border-radius: 0.25em;background-color: #f0f8ff;}#sk-container-id-1 input.sk-toggleable__control:checked~div.sk-toggleable__content {max-height: 200px;max-width: 100%;overflow: auto;}#sk-container-id-1 input.sk-toggleable__control:checked~label.sk-toggleable__label-arrow:before {content: \"▾\";}#sk-container-id-1 div.sk-estimator input.sk-toggleable__control:checked~label.sk-toggleable__label {background-color: #d4ebff;}#sk-container-id-1 div.sk-label input.sk-toggleable__control:checked~label.sk-toggleable__label {background-color: #d4ebff;}#sk-container-id-1 input.sk-hidden--visually {border: 0;clip: rect(1px 1px 1px 1px);clip: rect(1px, 1px, 1px, 1px);height: 1px;margin: -1px;overflow: hidden;padding: 0;position: absolute;width: 1px;}#sk-container-id-1 div.sk-estimator {font-family: monospace;background-color: #f0f8ff;border: 1px dotted black;border-radius: 0.25em;box-sizing: border-box;margin-bottom: 0.5em;}#sk-container-id-1 div.sk-estimator:hover {background-color: #d4ebff;}#sk-container-id-1 div.sk-parallel-item::after {content: \"\";width: 100%;border-bottom: 1px solid gray;flex-grow: 1;}#sk-container-id-1 div.sk-label:hover label.sk-toggleable__label {background-color: #d4ebff;}#sk-container-id-1 div.sk-serial::before {content: \"\";position: absolute;border-left: 1px solid gray;box-sizing: border-box;top: 0;bottom: 0;left: 50%;z-index: 0;}#sk-container-id-1 div.sk-serial {display: flex;flex-direction: column;align-items: center;background-color: white;padding-right: 0.2em;padding-left: 0.2em;position: relative;}#sk-container-id-1 div.sk-item {position: relative;z-index: 1;}#sk-container-id-1 div.sk-parallel {display: flex;align-items: stretch;justify-content: center;background-color: white;position: relative;}#sk-container-id-1 div.sk-item::before, #sk-container-id-1 div.sk-parallel-item::before {content: \"\";position: absolute;border-left: 1px solid gray;box-sizing: border-box;top: 0;bottom: 0;left: 50%;z-index: -1;}#sk-container-id-1 div.sk-parallel-item {display: flex;flex-direction: column;z-index: 1;position: relative;background-color: white;}#sk-container-id-1 div.sk-parallel-item:first-child::after {align-self: flex-end;width: 50%;}#sk-container-id-1 div.sk-parallel-item:last-child::after {align-self: flex-start;width: 50%;}#sk-container-id-1 div.sk-parallel-item:only-child::after {width: 0;}#sk-container-id-1 div.sk-dashed-wrapped {border: 1px dashed gray;margin: 0 0.4em 0.5em 0.4em;box-sizing: border-box;padding-bottom: 0.4em;background-color: white;}#sk-container-id-1 div.sk-label label {font-family: monospace;font-weight: bold;display: inline-block;line-height: 1.2em;}#sk-container-id-1 div.sk-label-container {text-align: center;}#sk-container-id-1 div.sk-container {/* jupyter's `normalize.less` sets `[hidden] { display: none; }` but bootstrap.min.css set `[hidden] { display: none !important; }` so we also need the `!important` here to be able to override the default hidden behavior on the sphinx rendered scikit-learn.org. See: https://github.com/scikit-learn/scikit-learn/issues/21755 */display: inline-block !important;position: relative;}#sk-container-id-1 div.sk-text-repr-fallback {display: none;}</style><div id=\"sk-container-id-1\" class=\"sk-top-container\"><div class=\"sk-text-repr-fallback\"><pre>Pipeline(steps=[(&#x27;ohe&#x27;, OneHotEncoder(sparse=False)),\n",
       "                (&#x27;dc&#x27;, DummyClassifier(strategy=&#x27;most_frequent&#x27;))])</pre><b>In a Jupyter environment, please rerun this cell to show the HTML representation or trust the notebook. <br />On GitHub, the HTML representation is unable to render, please try loading this page with nbviewer.org.</b></div><div class=\"sk-container\" hidden><div class=\"sk-item sk-dashed-wrapped\"><div class=\"sk-label-container\"><div class=\"sk-label sk-toggleable\"><input class=\"sk-toggleable__control sk-hidden--visually\" id=\"sk-estimator-id-1\" type=\"checkbox\" ><label for=\"sk-estimator-id-1\" class=\"sk-toggleable__label sk-toggleable__label-arrow\">Pipeline</label><div class=\"sk-toggleable__content\"><pre>Pipeline(steps=[(&#x27;ohe&#x27;, OneHotEncoder(sparse=False)),\n",
       "                (&#x27;dc&#x27;, DummyClassifier(strategy=&#x27;most_frequent&#x27;))])</pre></div></div></div><div class=\"sk-serial\"><div class=\"sk-item\"><div class=\"sk-estimator sk-toggleable\"><input class=\"sk-toggleable__control sk-hidden--visually\" id=\"sk-estimator-id-2\" type=\"checkbox\" ><label for=\"sk-estimator-id-2\" class=\"sk-toggleable__label sk-toggleable__label-arrow\">OneHotEncoder</label><div class=\"sk-toggleable__content\"><pre>OneHotEncoder(sparse=False)</pre></div></div></div><div class=\"sk-item\"><div class=\"sk-estimator sk-toggleable\"><input class=\"sk-toggleable__control sk-hidden--visually\" id=\"sk-estimator-id-3\" type=\"checkbox\" ><label for=\"sk-estimator-id-3\" class=\"sk-toggleable__label sk-toggleable__label-arrow\">DummyClassifier</label><div class=\"sk-toggleable__content\"><pre>DummyClassifier(strategy=&#x27;most_frequent&#x27;)</pre></div></div></div></div></div></div></div>"
      ],
      "text/plain": [
       "Pipeline(steps=[('ohe', OneHotEncoder(sparse=False)),\n",
       "                ('dc', DummyClassifier(strategy='most_frequent'))])"
      ]
     },
     "execution_count": 25,
     "metadata": {},
     "output_type": "execute_result"
    }
   ],
   "source": [
    "dummy_pipe.fit(X_train_clean, y_train)"
   ]
  },
  {
   "cell_type": "code",
   "execution_count": 26,
   "metadata": {
    "scrolled": false
   },
   "outputs": [
    {
     "name": "stderr",
     "output_type": "stream",
     "text": [
      "/Users/robertharrow/opt/anaconda3/envs/learn-env/lib/python3.8/site-packages/sklearn/metrics/_classification.py:1327: UndefinedMetricWarning: Precision is ill-defined and being set to 0.0 in labels with no predicted samples. Use `zero_division` parameter to control this behavior.\n",
      "  _warn_prf(average, modifier, msg_start, len(result))\n",
      "/Users/robertharrow/opt/anaconda3/envs/learn-env/lib/python3.8/site-packages/sklearn/metrics/_classification.py:1327: UndefinedMetricWarning: Precision is ill-defined and being set to 0.0 in labels with no predicted samples. Use `zero_division` parameter to control this behavior.\n",
      "  _warn_prf(average, modifier, msg_start, len(result))\n",
      "/Users/robertharrow/opt/anaconda3/envs/learn-env/lib/python3.8/site-packages/sklearn/metrics/_classification.py:1327: UndefinedMetricWarning: Precision is ill-defined and being set to 0.0 in labels with no predicted samples. Use `zero_division` parameter to control this behavior.\n",
      "  _warn_prf(average, modifier, msg_start, len(result))\n",
      "/Users/robertharrow/opt/anaconda3/envs/learn-env/lib/python3.8/site-packages/sklearn/metrics/_classification.py:1327: UndefinedMetricWarning: Precision is ill-defined and being set to 0.0 in labels with no predicted samples. Use `zero_division` parameter to control this behavior.\n",
      "  _warn_prf(average, modifier, msg_start, len(result))\n",
      "/Users/robertharrow/opt/anaconda3/envs/learn-env/lib/python3.8/site-packages/sklearn/metrics/_classification.py:1327: UndefinedMetricWarning: Precision is ill-defined and being set to 0.0 in labels with no predicted samples. Use `zero_division` parameter to control this behavior.\n",
      "  _warn_prf(average, modifier, msg_start, len(result))\n",
      "/Users/robertharrow/opt/anaconda3/envs/learn-env/lib/python3.8/site-packages/sklearn/metrics/_classification.py:1327: UndefinedMetricWarning: Precision is ill-defined and being set to 0.0 in labels with no predicted samples. Use `zero_division` parameter to control this behavior.\n",
      "  _warn_prf(average, modifier, msg_start, len(result))\n",
      "/Users/robertharrow/opt/anaconda3/envs/learn-env/lib/python3.8/site-packages/sklearn/metrics/_classification.py:1327: UndefinedMetricWarning: Precision is ill-defined and being set to 0.0 in labels with no predicted samples. Use `zero_division` parameter to control this behavior.\n",
      "  _warn_prf(average, modifier, msg_start, len(result))\n"
     ]
    },
    {
     "name": "stdout",
     "output_type": "stream",
     "text": [
      "[0.65604213 0.65611142 0.65611142 0.65611142 0.65611142]\n",
      "Training Accuracy 0.6560975609756098\n",
      "##############\n",
      "[0.65631929 0.65604213 0.65604213 0.65604213 0.65604213]\n",
      "Cross_Val Accuracy 0.6560975609756097\n",
      "##############\n",
      "Training Macro Precision: 0.3280487804878049\n",
      "Cross_Val Macro Precision: 0.32804878048780484\n",
      "##############\n",
      "Training Macro Recall: 0.5\n",
      "Cross_Val Macro Recall: 0.5\n",
      "##############\n",
      "Training Macro F1: 0.39617083930067876\n",
      "Cross_Val Macro F1: 0.39617083676407167\n"
     ]
    },
    {
     "name": "stderr",
     "output_type": "stream",
     "text": [
      "/Users/robertharrow/opt/anaconda3/envs/learn-env/lib/python3.8/site-packages/sklearn/metrics/_classification.py:1327: UndefinedMetricWarning: Precision is ill-defined and being set to 0.0 in labels with no predicted samples. Use `zero_division` parameter to control this behavior.\n",
      "  _warn_prf(average, modifier, msg_start, len(result))\n",
      "/Users/robertharrow/opt/anaconda3/envs/learn-env/lib/python3.8/site-packages/sklearn/metrics/_classification.py:1327: UndefinedMetricWarning: Precision is ill-defined and being set to 0.0 in labels with no predicted samples. Use `zero_division` parameter to control this behavior.\n",
      "  _warn_prf(average, modifier, msg_start, len(result))\n",
      "/Users/robertharrow/opt/anaconda3/envs/learn-env/lib/python3.8/site-packages/sklearn/metrics/_classification.py:1327: UndefinedMetricWarning: Precision is ill-defined and being set to 0.0 in labels with no predicted samples. Use `zero_division` parameter to control this behavior.\n",
      "  _warn_prf(average, modifier, msg_start, len(result))\n"
     ]
    }
   ],
   "source": [
    "print_cv_scores(dummy_pipe, X_train_clean, y_train)"
   ]
  },
  {
   "cell_type": "code",
   "execution_count": 27,
   "metadata": {
    "scrolled": false
   },
   "outputs": [
    {
     "name": "stderr",
     "output_type": "stream",
     "text": [
      "/Users/robertharrow/opt/anaconda3/envs/learn-env/lib/python3.8/site-packages/sklearn/utils/deprecation.py:87: FutureWarning: Function plot_confusion_matrix is deprecated; Function `plot_confusion_matrix` is deprecated in 1.0 and will be removed in 1.2. Use one of the class methods: ConfusionMatrixDisplay.from_predictions or ConfusionMatrixDisplay.from_estimator.\n",
      "  warnings.warn(msg, category=FutureWarning)\n"
     ]
    },
    {
     "data": {
      "text/plain": [
       "<sklearn.metrics._plot.confusion_matrix.ConfusionMatrixDisplay at 0x7fd733e8efa0>"
      ]
     },
     "execution_count": 27,
     "metadata": {},
     "output_type": "execute_result"
    },
    {
     "data": {
      "image/png": "[encoded data removed]",
      "text/plain": [
       "<Figure size 432x288 with 2 Axes>"
      ]
     },
     "metadata": {
      "needs_background": "light"
     },
     "output_type": "display_data"
    }
   ],
   "source": [
    "plot_confusion_matrix(dummy_pipe, X_train_clean, y_train)"
   ]
  },
  {
   "cell_type": "markdown",
   "metadata": {},
   "source": [
    "### Logistic Regression classifier\n",
    "#### With SMOTE"
   ]
  },
  {
   "cell_type": "code",
   "execution_count": 85,
   "metadata": {
    "scrolled": false
   },
   "outputs": [],
   "source": [
    "# lr_param_grid = {\n",
    "#     'lr__C': [0.01, 0.1, 1, 10, 1e5]\n",
    "# }\n",
    "\n",
    "# lr1_pipe = imbpipe(steps=[\n",
    "#     (\"ohe\", OneHotEncoder(sparse=False)),\n",
    "#     ('sm', SMOTE(random_state=42)),\n",
    "#     ('lr', LogisticRegression(max_iter=1000, random_state=123))\n",
    "# ])\n",
    "\n",
    "# lr1_gridsearch = GridSearchCV(estimator=lr1_pipe, \n",
    "#                           param_grid=lr_param_grid, \n",
    "#                           scoring='recall', \n",
    "#                           cv=5)\n",
    "\n",
    "# # Fit the training data\n",
    "# lr1_gridsearch.fit(X_train_clean, y_train)\n",
    "\n",
    "# # Pickling the model\n",
    "# with open(\"models/lr1_gridsearch.pkl\", \"wb\") as f:\n",
    "#     joblib.dump(lr1_gridsearch, f)"
   ]
  },
  {
   "cell_type": "code",
   "execution_count": 29,
   "metadata": {
    "scrolled": false
   },
   "outputs": [],
   "source": [
    "# Reading the pickle file\n",
    "with open('models/lr1_gridsearch.pkl', 'rb') as f:\n",
    "    lr1_gridsearch = joblib.load(f)"
   ]
  },
  {
   "cell_type": "code",
   "execution_count": 86,
   "metadata": {
    "scrolled": false
   },
   "outputs": [
    {
     "name": "stdout",
     "output_type": "stream",
     "text": [
      "{'lr__C': 10}\n"
     ]
    }
   ],
   "source": [
    "print(lr1_gridsearch.best_params_)"
   ]
  },
  {
   "cell_type": "code",
   "execution_count": 87,
   "metadata": {
    "scrolled": false
   },
   "outputs": [],
   "source": [
    "# # Logistic Regression with best params\n",
    "\n",
    "# lr_pipe2 = imbpipe(steps=[\n",
    "#     (\"ohe\", OneHotEncoder(sparse=False)),\n",
    "#     ('sm', SMOTE(random_state=42)),\n",
    "#     ('lr', LogisticRegression(max_iter=1000, C = 10,\n",
    "#                               random_state=123))\n",
    "# ])\n",
    "\n",
    "# lr_pipe2.fit(X_train_clean, y_train)\n",
    "\n",
    "# with open(\"models/lr_pipe2.pkl\", \"wb\") as f:\n",
    "#     joblib.dump(lr_pipe2, f)"
   ]
  },
  {
   "cell_type": "code",
   "execution_count": 32,
   "metadata": {
    "scrolled": false
   },
   "outputs": [],
   "source": [
    "# Reading the pickle file\n",
    "with open('models/lr_pipe2.pkl', 'rb') as f:\n",
    "    lr_pipe2 = joblib.load(f)"
   ]
  },
  {
   "cell_type": "code",
   "execution_count": 88,
   "metadata": {
    "scrolled": false
   },
   "outputs": [
    {
     "name": "stdout",
     "output_type": "stream",
     "text": [
      "[0.61238914 0.61377494 0.60760809 0.61197339 0.60968681]\n",
      "Training Accuracy 0.6110864745011086\n",
      "##############\n",
      "[0.60310421 0.59478936 0.62056541 0.61446785 0.6039357 ]\n",
      "Cross_Val Accuracy 0.6073725055432373\n",
      "##############\n",
      "Training Macro Precision: 0.6131451961083887\n",
      "Cross_Val Macro Precision: 0.6093173832255625\n",
      "##############\n",
      "Training Macro Recall: 0.6253170495286344\n",
      "Cross_Val Macro Recall: 0.6210963102590987\n",
      "##############\n",
      "Training Macro F1: 0.6021593172895612\n",
      "Cross_Val Macro F1: 0.5983451442916474\n"
     ]
    },
    {
     "name": "stderr",
     "output_type": "stream",
     "text": [
      "/Users/robertharrow/opt/anaconda3/envs/learn-env/lib/python3.8/site-packages/sklearn/utils/deprecation.py:87: FutureWarning: Function plot_confusion_matrix is deprecated; Function `plot_confusion_matrix` is deprecated in 1.0 and will be removed in 1.2. Use one of the class methods: ConfusionMatrixDisplay.from_predictions or ConfusionMatrixDisplay.from_estimator.\n",
      "  warnings.warn(msg, category=FutureWarning)\n"
     ]
    },
    {
     "data": {
      "text/plain": [
       "<sklearn.metrics._plot.confusion_matrix.ConfusionMatrixDisplay at 0x7fd6674a9a90>"
      ]
     },
     "execution_count": 88,
     "metadata": {},
     "output_type": "execute_result"
    },
    {
     "data": {
      "image/png": "[encoded data removed]",
      "text/plain": [
       "<Figure size 432x288 with 2 Axes>"
      ]
     },
     "metadata": {
      "needs_background": "light"
     },
     "output_type": "display_data"
    }
   ],
   "source": [
    "print_cv_scores(lr_pipe2, X_train_clean, y_train)\n",
    "plot_confusion_matrix(lr_pipe2, X_train_clean, y_train, normalize='true')"
   ]
  },
  {
   "cell_type": "markdown",
   "metadata": {},
   "source": [
    "### Logistic Regression Without SMOTE"
   ]
  },
  {
   "cell_type": "code",
   "execution_count": 48,
   "metadata": {
    "scrolled": false
   },
   "outputs": [],
   "source": [
    "# lr3_pipe = Pipeline(steps=[\n",
    "#     (\"ohe\", OneHotEncoder(sparse=False)),\n",
    "#     ('lr', LogisticRegression(max_iter=1000, random_state=123))\n",
    "# ])\n",
    "\n",
    "# lr3_gridsearch = GridSearchCV(estimator=lr3_pipe, \n",
    "#                           param_grid=lr_param_grid, \n",
    "#                           scoring='recall', \n",
    "#                           cv=5)\n",
    "\n",
    "# # Fit the training data\n",
    "# lr3_gridsearch.fit(X_train_clean, y_train)\n",
    "\n",
    "# with open(\"models/lr3_gridsearch.pkl\", \"wb\") as f:\n",
    "#     joblib.dump(lr3_gridsearch, f)"
   ]
  },
  {
   "cell_type": "code",
   "execution_count": 35,
   "metadata": {
    "scrolled": false
   },
   "outputs": [],
   "source": [
    "# Reading the pickle file\n",
    "with open('models/lr3_gridsearch.pkl', 'rb') as f:\n",
    "    lr3_gridsearch = joblib.load(f)"
   ]
  },
  {
   "cell_type": "code",
   "execution_count": 49,
   "metadata": {
    "scrolled": false
   },
   "outputs": [
    {
     "name": "stdout",
     "output_type": "stream",
     "text": [
      "{'lr__C': 100000.0}\n"
     ]
    }
   ],
   "source": [
    "print(lr3_gridsearch.best_params_)"
   ]
  },
  {
   "cell_type": "code",
   "execution_count": 50,
   "metadata": {
    "scrolled": false
   },
   "outputs": [],
   "source": [
    "# # Logistic Regression with best params no SMOTE\n",
    "\n",
    "# lr_pipe4 = Pipeline(steps=[\n",
    "#     (\"ohe\", OneHotEncoder(sparse=False)),\n",
    "#     ('lr', LogisticRegression(max_iter=1000, C = 100000, random_state=123))\n",
    "# ])\n",
    "\n",
    "# lr_pipe4.fit(X_train_clean, y_train)\n",
    "\n",
    "# with open(\"models/lr_pipe4.pkl\", \"wb\") as f:\n",
    "#     joblib.dump(lr_pipe4, f)"
   ]
  },
  {
   "cell_type": "code",
   "execution_count": 38,
   "metadata": {
    "scrolled": false
   },
   "outputs": [],
   "source": [
    "# Reading the pickle file\n",
    "with open('models/lr_pipe4.pkl', 'rb') as f:\n",
    "    lr_pipe4 = joblib.load(f)"
   ]
  },
  {
   "cell_type": "code",
   "execution_count": 84,
   "metadata": {
    "scrolled": false
   },
   "outputs": [
    {
     "name": "stdout",
     "output_type": "stream",
     "text": [
      "[0.66622783 0.66733647 0.66553492 0.66518847 0.66477273]\n",
      "Training Accuracy 0.6658120842572062\n",
      "##############\n",
      "[0.65909091 0.66241685 0.65687361 0.66796009 0.67184035]\n",
      "Cross_Val Accuracy 0.6636363636363637\n",
      "##############\n",
      "Training Macro Precision: 0.6124241602953626\n",
      "Cross_Val Macro Precision: 0.6070624125533541\n",
      "##############\n",
      "Training Macro Recall: 0.5490215612539278\n",
      "Cross_Val Macro Recall: 0.5464747629909119\n",
      "##############\n",
      "Training Macro F1: 0.5241597191860728\n",
      "Cross_Val Macro F1: 0.5205219662874063\n"
     ]
    },
    {
     "name": "stderr",
     "output_type": "stream",
     "text": [
      "/Users/robertharrow/opt/anaconda3/envs/learn-env/lib/python3.8/site-packages/sklearn/utils/deprecation.py:87: FutureWarning: Function plot_confusion_matrix is deprecated; Function `plot_confusion_matrix` is deprecated in 1.0 and will be removed in 1.2. Use one of the class methods: ConfusionMatrixDisplay.from_predictions or ConfusionMatrixDisplay.from_estimator.\n",
      "  warnings.warn(msg, category=FutureWarning)\n"
     ]
    },
    {
     "data": {
      "text/plain": [
       "<sklearn.metrics._plot.confusion_matrix.ConfusionMatrixDisplay at 0x7fd7331ab4f0>"
      ]
     },
     "execution_count": 84,
     "metadata": {},
     "output_type": "execute_result"
    },
    {
     "data": {
      "image/png": "[encoded data removed]",
      "text/plain": [
       "<Figure size 432x288 with 2 Axes>"
      ]
     },
     "metadata": {
      "needs_background": "light"
     },
     "output_type": "display_data"
    }
   ],
   "source": [
    "print_cv_scores(lr_pipe4, X_train_clean, y_train)\n",
    "plot_confusion_matrix(lr_pipe4, X_train_clean, y_train, normalize='true')"
   ]
  },
  {
   "cell_type": "markdown",
   "metadata": {},
   "source": [
    "### Decision Tree classifier\n",
    "#### With SMOTE"
   ]
  },
  {
   "cell_type": "code",
   "execution_count": 58,
   "metadata": {
    "scrolled": false
   },
   "outputs": [],
   "source": [
    "# dt1_pipe = imbpipe(steps=[\n",
    "#     (\"ohe\", OneHotEncoder(sparse=False)),\n",
    "#     ('sm', SMOTE(random_state=123)),\n",
    "#     ('dt', DecisionTreeClassifier(random_state=123))\n",
    "# ])\n",
    "\n",
    "# dt_param_grid = {\n",
    "#     'dt__criterion': ['gini', 'entropy'],\n",
    "#     'dt__max_depth': [None, 2, 3, 4, 5, 6],\n",
    "#     'dt__min_samples_split': [2, 5, 10],\n",
    "#     'dt__min_samples_leaf': [1, 2, 3, 4, 5, 6]\n",
    "# }\n",
    "\n",
    "# dt_gridsearch = GridSearchCV(estimator=dt1_pipe, \n",
    "#                           param_grid=dt_param_grid, \n",
    "#                           scoring='recall', \n",
    "#                           cv=5)\n",
    "\n",
    "# # Fit the training data\n",
    "# dt_gridsearch.fit(X_train_clean, y_train)\n",
    "\n",
    "# with open(\"models/dt_gridsearch.pkl\", \"wb\") as f:\n",
    "#     joblib.dump(dt_gridsearch, f)"
   ]
  },
  {
   "cell_type": "code",
   "execution_count": null,
   "metadata": {
    "scrolled": false
   },
   "outputs": [],
   "source": [
    "# Reading the pickle file\n",
    "with open('models/dt_gridsearch.pkl', 'rb') as f:\n",
    "    dt_gridsearch = joblib.load(f)"
   ]
  },
  {
   "cell_type": "code",
   "execution_count": 59,
   "metadata": {
    "scrolled": false
   },
   "outputs": [
    {
     "name": "stdout",
     "output_type": "stream",
     "text": [
      "{'dt__criterion': 'gini', 'dt__max_depth': 2, 'dt__min_samples_leaf': 1, 'dt__min_samples_split': 2}\n"
     ]
    }
   ],
   "source": [
    "print(dt_gridsearch.best_params_)"
   ]
  },
  {
   "cell_type": "code",
   "execution_count": 61,
   "metadata": {
    "scrolled": false
   },
   "outputs": [],
   "source": [
    "# # Optimized Decision Tree\n",
    "# dt2_pipe = imbpipe(steps=[\n",
    "#     (\"ohe\", OneHotEncoder(sparse=False)),\n",
    "#     ('sm', SMOTE(random_state=123)),\n",
    "#     ('dt', DecisionTreeClassifier(criterion='gini',\n",
    "#                                   max_depth = 2,\n",
    "#                                   min_samples_leaf = 1,\n",
    "#                                   min_samples_split= 2,\n",
    "#                                   random_state=123))\n",
    "# ])\n",
    "\n",
    "# dt2_pipe.fit(X_train_clean, y_train)\n",
    "\n",
    "# with open(\"models/dt2_pipe.pkl\", \"wb\") as f:\n",
    "#     joblib.dump(dt2_pipe, f)"
   ]
  },
  {
   "cell_type": "code",
   "execution_count": null,
   "metadata": {
    "scrolled": false
   },
   "outputs": [],
   "source": [
    "# Reading the pickle file\n",
    "with open('models/dt2_pipe.pkl', 'rb') as f:\n",
    "    dt2_pipe = joblib.load(f)"
   ]
  },
  {
   "cell_type": "code",
   "execution_count": 62,
   "metadata": {
    "scrolled": false
   },
   "outputs": [
    {
     "name": "stdout",
     "output_type": "stream",
     "text": [
      "[0.53713969 0.53963415 0.53519956 0.53610033 0.53928769]\n",
      "Training Accuracy 0.5374722838137472\n",
      "##############\n",
      "[0.5385255  0.52854767 0.53991131 0.54268293 0.52993348]\n",
      "Cross_Val Accuracy 0.535920177383592\n",
      "##############\n",
      "Training Macro Precision: 0.5978878578124257\n",
      "Cross_Val Macro Precision: 0.5968093707139591\n",
      "##############\n",
      "Training Macro Recall: 0.597211631236093\n",
      "Cross_Val Macro Recall: 0.595943788612971\n",
      "##############\n",
      "Training Macro F1: 0.5374587423153312\n",
      "Cross_Val Macro F1: 0.535882852118769\n"
     ]
    },
    {
     "name": "stderr",
     "output_type": "stream",
     "text": [
      "/Users/robertharrow/opt/anaconda3/envs/learn-env/lib/python3.8/site-packages/sklearn/utils/deprecation.py:87: FutureWarning: Function plot_confusion_matrix is deprecated; Function `plot_confusion_matrix` is deprecated in 1.0 and will be removed in 1.2. Use one of the class methods: ConfusionMatrixDisplay.from_predictions or ConfusionMatrixDisplay.from_estimator.\n",
      "  warnings.warn(msg, category=FutureWarning)\n"
     ]
    },
    {
     "data": {
      "text/plain": [
       "<sklearn.metrics._plot.confusion_matrix.ConfusionMatrixDisplay at 0x7fd68c87df40>"
      ]
     },
     "execution_count": 62,
     "metadata": {},
     "output_type": "execute_result"
    },
    {
     "data": {
      "image/png": "[encoded data removed]",
      "text/plain": [
       "<Figure size 432x288 with 2 Axes>"
      ]
     },
     "metadata": {
      "needs_background": "light"
     },
     "output_type": "display_data"
    }
   ],
   "source": [
    "print_cv_scores(dt2_pipe, X_train_clean, y_train)\n",
    "plot_confusion_matrix(dt2_pipe, X_train_clean, y_train, normalize='true')"
   ]
  },
  {
   "cell_type": "markdown",
   "metadata": {},
   "source": [
    "#### Decision Tree Without SMOTE"
   ]
  },
  {
   "cell_type": "code",
   "execution_count": 63,
   "metadata": {
    "scrolled": false
   },
   "outputs": [],
   "source": [
    "# dt3_pipe = Pipeline(steps=[\n",
    "#     (\"ohe\", OneHotEncoder(sparse=False)),\n",
    "#     ('dt', DecisionTreeClassifier(random_state=123))\n",
    "# ])\n",
    "\n",
    "# dt3_gridsearch = GridSearchCV(estimator=dt3_pipe, \n",
    "#                           param_grid=dt_param_grid, \n",
    "#                           scoring='recall', \n",
    "#                           cv=5)\n",
    "\n",
    "# # Fit the training data\n",
    "# dt3_gridsearch.fit(X_train_clean, y_train)\n",
    "\n",
    "# with open(\"models/dt3_gridsearch.pkl\", \"wb\") as f:\n",
    "#     joblib.dump(dt3_gridsearch, f)"
   ]
  },
  {
   "cell_type": "code",
   "execution_count": null,
   "metadata": {
    "scrolled": false
   },
   "outputs": [],
   "source": [
    "# Reading the pickle file\n",
    "with open('models/dt3_gridsearch.pkl', 'rb') as f:\n",
    "    dt3_gridsearch = joblib.load(f)"
   ]
  },
  {
   "cell_type": "code",
   "execution_count": 64,
   "metadata": {
    "scrolled": false
   },
   "outputs": [
    {
     "name": "stdout",
     "output_type": "stream",
     "text": [
      "{'dt__criterion': 'gini', 'dt__max_depth': None, 'dt__min_samples_leaf': 1, 'dt__min_samples_split': 2}\n"
     ]
    }
   ],
   "source": [
    "print(dt3_gridsearch.best_params_)"
   ]
  },
  {
   "cell_type": "code",
   "execution_count": 65,
   "metadata": {
    "scrolled": false
   },
   "outputs": [],
   "source": [
    "# # Optimized Decision Tree without SMOTE\n",
    "\n",
    "# dt4_pipe = Pipeline(steps=[\n",
    "#     (\"ohe\", OneHotEncoder(sparse=False)),\n",
    "#     ('dt', DecisionTreeClassifier(criterion='gini',\n",
    "#                                   max_depth = None,\n",
    "#                                   min_samples_leaf = 1,\n",
    "#                                   min_samples_split= 2,\n",
    "#                                   random_state=123))\n",
    "# ])\n",
    "\n",
    "# dt4_pipe.fit(X_train_clean, y_train)\n",
    "\n",
    "# with open(\"models/dt4_pipe.pkl\", \"wb\") as f:\n",
    "#     joblib.dump(dt4_pipe, f)"
   ]
  },
  {
   "cell_type": "code",
   "execution_count": null,
   "metadata": {
    "scrolled": false
   },
   "outputs": [],
   "source": [
    "# Reading the pickle file\n",
    "with open('models/dt4_pipe.pkl', 'rb') as f:\n",
    "    dt4_pipe = joblib.load(f)"
   ]
  },
  {
   "cell_type": "code",
   "execution_count": 66,
   "metadata": {
    "scrolled": false
   },
   "outputs": [
    {
     "name": "stdout",
     "output_type": "stream",
     "text": [
      "[0.75921563 0.76039357 0.76184867 0.75893847 0.75789911]\n",
      "Training Accuracy 0.7596590909090908\n",
      "##############\n",
      "[0.64550998 0.63276053 0.64329268 0.64218404 0.64966741]\n",
      "Cross_Val Accuracy 0.6426829268292684\n",
      "##############\n",
      "Training Macro Precision: 0.7549953194096792\n",
      "Cross_Val Macro Precision: 0.5803261816939399\n",
      "##############\n",
      "Training Macro Recall: 0.6873549285223242\n",
      "Cross_Val Macro Recall: 0.5609916590109831\n",
      "##############\n",
      "Training Macro F1: 0.6998861610762711\n",
      "Cross_Val Macro F1: 0.5583585484925656\n"
     ]
    },
    {
     "name": "stderr",
     "output_type": "stream",
     "text": [
      "/Users/robertharrow/opt/anaconda3/envs/learn-env/lib/python3.8/site-packages/sklearn/utils/deprecation.py:87: FutureWarning: Function plot_confusion_matrix is deprecated; Function `plot_confusion_matrix` is deprecated in 1.0 and will be removed in 1.2. Use one of the class methods: ConfusionMatrixDisplay.from_predictions or ConfusionMatrixDisplay.from_estimator.\n",
      "  warnings.warn(msg, category=FutureWarning)\n"
     ]
    },
    {
     "data": {
      "text/plain": [
       "<sklearn.metrics._plot.confusion_matrix.ConfusionMatrixDisplay at 0x7fd7338cf460>"
      ]
     },
     "execution_count": 66,
     "metadata": {},
     "output_type": "execute_result"
    },
    {
     "data": {
      "image/png": "[encoded data removed]",
      "text/plain": [
       "<Figure size 432x288 with 2 Axes>"
      ]
     },
     "metadata": {
      "needs_background": "light"
     },
     "output_type": "display_data"
    }
   ],
   "source": [
    "print_cv_scores(dt4_pipe, X_train_clean, y_train)\n",
    "plot_confusion_matrix(dt4_pipe, X_train_clean, y_train, normalize='true')"
   ]
  },
  {
   "cell_type": "markdown",
   "metadata": {},
   "source": [
    "### Random Forest classifier\n",
    "#### With SMOTE"
   ]
  },
  {
   "cell_type": "code",
   "execution_count": 67,
   "metadata": {
    "scrolled": false
   },
   "outputs": [],
   "source": [
    "# # Searching for the best RF hyperparameters\n",
    "# rf_grid = [{'RF__max_depth': [4, 5, 6], \n",
    "#          'RF__min_samples_split': [2, 5, 10], \n",
    "#          'RF__min_samples_leaf': [1, 3, 5]}]\n",
    "\n",
    "# rf1_pipe = imbpipe(steps=[\n",
    "#     (\"ohe\", OneHotEncoder(sparse=False)),\n",
    "#     ('sm', SMOTE(random_state=123)),\n",
    "#     ('RF', RandomForestClassifier(random_state=123))\n",
    "# ])\n",
    "\n",
    "# rf_gridsearch = GridSearchCV(estimator=rf1_pipe, \n",
    "#                           param_grid=rf_grid, \n",
    "#                           scoring='recall', \n",
    "#                           cv=5)\n",
    "\n",
    "# # Fit the training data\n",
    "# rf_gridsearch.fit(X_train_clean, y_train)\n",
    "\n",
    "# with open(\"models/rf_gridsearch.pkl\", \"wb\") as f:\n",
    "#     joblib.dump(rf_gridsearch, f)"
   ]
  },
  {
   "cell_type": "code",
   "execution_count": null,
   "metadata": {
    "scrolled": false
   },
   "outputs": [],
   "source": [
    "# Reading the pickle file\n",
    "with open('models/rf_gridsearch.pkl', 'rb') as f:\n",
    "    rf_gridsearch = joblib.load(f)"
   ]
  },
  {
   "cell_type": "code",
   "execution_count": 68,
   "metadata": {
    "scrolled": false
   },
   "outputs": [
    {
     "name": "stdout",
     "output_type": "stream",
     "text": [
      "{'RF__max_depth': 4, 'RF__min_samples_leaf': 5, 'RF__min_samples_split': 2}\n"
     ]
    }
   ],
   "source": [
    "# Print the recall on test set and best params\n",
    "print(rf_gridsearch.best_params_)"
   ]
  },
  {
   "cell_type": "code",
   "execution_count": 69,
   "metadata": {
    "scrolled": false
   },
   "outputs": [],
   "source": [
    "# # Optimized RT Classifier\n",
    "\n",
    "# rf2_pipe = imbpipe(steps=[\n",
    "#     (\"ohe\", OneHotEncoder(sparse=False)),\n",
    "#     ('sm', SMOTE(random_state=123)),\n",
    "#     ('dt',  RandomForestClassifier(max_depth = 4,\n",
    "#                                    min_samples_leaf = 5,\n",
    "#                                    min_samples_split = 2,\n",
    "#                                    random_state=123))\n",
    "# ])\n",
    "\n",
    "# rf2_pipe.fit(X_train_clean, y_train)\n",
    "\n",
    "# with open(\"models/rf2_pipe.pkl\", \"wb\") as f:\n",
    "#     joblib.dump(rf2_pipe, f)"
   ]
  },
  {
   "cell_type": "code",
   "execution_count": null,
   "metadata": {
    "scrolled": false
   },
   "outputs": [],
   "source": [
    "# Reading the pickle file\n",
    "with open('models/rf2_pipe.pkl', 'rb') as f:\n",
    "    rf2_pipe = joblib.load(f)"
   ]
  },
  {
   "cell_type": "code",
   "execution_count": 70,
   "metadata": {
    "scrolled": false
   },
   "outputs": [
    {
     "name": "stdout",
     "output_type": "stream",
     "text": [
      "[0.58384146 0.58252494 0.57434867 0.5741408  0.57566519]\n",
      "Training Accuracy 0.5781042128603104\n",
      "##############\n",
      "[0.58259424 0.56347007 0.5828714  0.57677384 0.56624169]\n",
      "Cross_Val Accuracy 0.5743902439024391\n",
      "##############\n",
      "Training Macro Precision: 0.6084540288945266\n",
      "Cross_Val Macro Precision: 0.6045224961163778\n",
      "##############\n",
      "Training Macro Recall: 0.6165376218611511\n",
      "Cross_Val Macro Recall: 0.6123369626762836\n",
      "##############\n",
      "Training Macro F1: 0.5760486053354329\n",
      "Cross_Val Macro F1: 0.5722967079197107\n"
     ]
    },
    {
     "name": "stderr",
     "output_type": "stream",
     "text": [
      "/Users/robertharrow/opt/anaconda3/envs/learn-env/lib/python3.8/site-packages/sklearn/utils/deprecation.py:87: FutureWarning: Function plot_confusion_matrix is deprecated; Function `plot_confusion_matrix` is deprecated in 1.0 and will be removed in 1.2. Use one of the class methods: ConfusionMatrixDisplay.from_predictions or ConfusionMatrixDisplay.from_estimator.\n",
      "  warnings.warn(msg, category=FutureWarning)\n"
     ]
    },
    {
     "data": {
      "text/plain": [
       "<sklearn.metrics._plot.confusion_matrix.ConfusionMatrixDisplay at 0x7fd65a33bdf0>"
      ]
     },
     "execution_count": 70,
     "metadata": {},
     "output_type": "execute_result"
    },
    {
     "data": {
      "image/png": "[encoded data removed]",
      "text/plain": [
       "<Figure size 432x288 with 2 Axes>"
      ]
     },
     "metadata": {
      "needs_background": "light"
     },
     "output_type": "display_data"
    }
   ],
   "source": [
    "print_cv_scores(rf2_pipe, X_train_clean, y_train)\n",
    "plot_confusion_matrix(rf2_pipe, X_train_clean, y_train, normalize='true')"
   ]
  },
  {
   "cell_type": "markdown",
   "metadata": {},
   "source": [
    "#### Random Forest without SMOTE"
   ]
  },
  {
   "cell_type": "code",
   "execution_count": 71,
   "metadata": {
    "scrolled": false
   },
   "outputs": [],
   "source": [
    "# # Optimized RT Classifier\n",
    "# # Searching for the best RF hyperparameters\n",
    "\n",
    "# rf3_pipe = Pipeline(steps=[\n",
    "#     (\"ohe\", OneHotEncoder(sparse=False)),\n",
    "#     ('RF', RandomForestClassifier(random_state=123))\n",
    "# ])\n",
    "\n",
    "# rf3_gridsearch = GridSearchCV(estimator=rf3_pipe, \n",
    "#                           param_grid=rf_grid, \n",
    "#                           scoring='recall', \n",
    "#                           cv=5)\n",
    "\n",
    "# # Fit the training data\n",
    "# rf3_gridsearch.fit(X_train_clean, y_train)\n",
    "\n",
    "# with open(\"models/rf3_gridsearch.pkl\", \"wb\") as f:\n",
    "#     joblib.dump(rf3_gridsearch, f)"
   ]
  },
  {
   "cell_type": "code",
   "execution_count": null,
   "metadata": {
    "scrolled": false
   },
   "outputs": [],
   "source": [
    "# Reading the pickle file\n",
    "with open('models/rf3_gridsearch.pkl', 'rb') as f:\n",
    "    rf3_gridsearch = joblib.load(f)"
   ]
  },
  {
   "cell_type": "code",
   "execution_count": 72,
   "metadata": {
    "scrolled": false
   },
   "outputs": [
    {
     "name": "stdout",
     "output_type": "stream",
     "text": [
      "{'RF__max_depth': 6, 'RF__min_samples_leaf': 1, 'RF__min_samples_split': 2}\n"
     ]
    }
   ],
   "source": [
    "# Print the recall on test set and best params\n",
    "print(rf3_gridsearch.best_params_)"
   ]
  },
  {
   "cell_type": "code",
   "execution_count": 73,
   "metadata": {
    "scrolled": false
   },
   "outputs": [],
   "source": [
    "# rf4_pipe = Pipeline(steps=[\n",
    "#     (\"ohe\", OneHotEncoder(sparse=False)),\n",
    "#     ('dt',  RandomForestClassifier(max_depth = 6,\n",
    "#                                    min_samples_leaf = 1,\n",
    "#                                    min_samples_split = 2,\n",
    "#                                    random_state=123))\n",
    "# ])\n",
    "\n",
    "# rf4_pipe.fit(X_train_clean, y_train)\n",
    "\n",
    "# with open(\"models/rf4_pipe.pkl\", \"wb\") as f:\n",
    "#     joblib.dump(rf4_pipe, f)"
   ]
  },
  {
   "cell_type": "code",
   "execution_count": null,
   "metadata": {
    "scrolled": false
   },
   "outputs": [],
   "source": [
    "# Reading the pickle file\n",
    "with open('models/rf4_pipe.pkl', 'rb') as f:\n",
    "    rf4_pipe = joblib.load(f)"
   ]
  },
  {
   "cell_type": "code",
   "execution_count": 74,
   "metadata": {
    "scrolled": false
   },
   "outputs": [
    {
     "name": "stdout",
     "output_type": "stream",
     "text": [
      "[0.66200111 0.66213969 0.6656735  0.66435698 0.66103104]\n",
      "Training Accuracy 0.6630404656319291\n",
      "##############\n",
      "[0.6613082  0.66047672 0.65631929 0.65881375 0.65936807]\n",
      "Cross_Val Accuracy 0.6592572062084257\n",
      "##############\n",
      "Training Macro Precision: 0.7103528815456124\n",
      "Cross_Val Macro Precision: 0.6507029142292907\n",
      "##############\n",
      "Training Macro Recall: 0.5124816224027656\n",
      "Cross_Val Macro Recall: 0.5077771713582591\n",
      "##############\n",
      "Training Macro F1: 0.42635160466944705\n",
      "Cross_Val Macro F1: 0.4180982348498368\n"
     ]
    },
    {
     "name": "stderr",
     "output_type": "stream",
     "text": [
      "/Users/robertharrow/opt/anaconda3/envs/learn-env/lib/python3.8/site-packages/sklearn/utils/deprecation.py:87: FutureWarning: Function plot_confusion_matrix is deprecated; Function `plot_confusion_matrix` is deprecated in 1.0 and will be removed in 1.2. Use one of the class methods: ConfusionMatrixDisplay.from_predictions or ConfusionMatrixDisplay.from_estimator.\n",
      "  warnings.warn(msg, category=FutureWarning)\n"
     ]
    },
    {
     "data": {
      "text/plain": [
       "<sklearn.metrics._plot.confusion_matrix.ConfusionMatrixDisplay at 0x7fd699f24760>"
      ]
     },
     "execution_count": 74,
     "metadata": {},
     "output_type": "execute_result"
    },
    {
     "data": {
      "image/png": "[encoded data removed]",
      "text/plain": [
       "<Figure size 432x288 with 2 Axes>"
      ]
     },
     "metadata": {
      "needs_background": "light"
     },
     "output_type": "display_data"
    }
   ],
   "source": [
    "print_cv_scores(rf4_pipe, X_train_clean, y_train)\n",
    "plot_confusion_matrix(rf4_pipe, X_train_clean, y_train, normalize='true')"
   ]
  },
  {
   "cell_type": "markdown",
   "metadata": {},
   "source": [
    "### XGBoost classifier\n",
    "#### With SMOTE"
   ]
  },
  {
   "cell_type": "code",
   "execution_count": 75,
   "metadata": {
    "scrolled": false
   },
   "outputs": [],
   "source": [
    "# # Searching for the best hyperparameters\n",
    "# xgb_grid = {\n",
    "#     'xg__learning_rate': [0.05, 0.10, 0.15, 0.20, 0.25, 0.30],\n",
    "#     'xg__max_depth': [3, 4, 5, 6, 8, 10, 12, 15],\n",
    "#     'xg__min_child_weight': [1, 3, 5, 7],\n",
    "#     'xg__subsample': [0.5, 0.7],\n",
    "#     'xg__n_estimators': [100],\n",
    "# }\n",
    "\n",
    "# xgb1_pipe = imbpipe(steps=[\n",
    "#     (\"ohe\", OneHotEncoder(sparse=False)),\n",
    "#     ('sm', SMOTE(random_state=123)),\n",
    "#     ('xg', XGBClassifier(random_state=123))\n",
    "# ])\n",
    "\n",
    "# xgb_gridsearch = GridSearchCV(estimator=xgb1_pipe, \n",
    "#                           param_grid=xgb_grid, \n",
    "#                           scoring='recall', \n",
    "#                           cv=5)\n",
    "\n",
    "# # Fit the training data\n",
    "# xgb_gridsearch.fit(X_train_clean, y_train)\n",
    "\n",
    "# with open(\"models/xgb_gridsearch.pkl\", \"wb\") as f:\n",
    "#     joblib.dump(xgb_gridsearch, f)"
   ]
  },
  {
   "cell_type": "code",
   "execution_count": null,
   "metadata": {
    "scrolled": false
   },
   "outputs": [],
   "source": [
    "# Reading the pickle file\n",
    "with open('models/xgb_gridsearch.pkl', 'rb') as f:\n",
    "    xgb_gridsearch = joblib.load(f)"
   ]
  },
  {
   "cell_type": "code",
   "execution_count": 76,
   "metadata": {
    "scrolled": false
   },
   "outputs": [
    {
     "name": "stdout",
     "output_type": "stream",
     "text": [
      "{'xg__learning_rate': 0.05, 'xg__max_depth': 3, 'xg__min_child_weight': 1, 'xg__n_estimators': 100, 'xg__subsample': 0.5}\n"
     ]
    }
   ],
   "source": [
    "# Print the recall on test set and best params\n",
    "print(xgb_gridsearch.best_params_)"
   ]
  },
  {
   "cell_type": "code",
   "execution_count": 78,
   "metadata": {
    "scrolled": false
   },
   "outputs": [],
   "source": [
    "# # Optimized XGBoost Classifier\n",
    "# xgb2_pipe = imbpipe(steps=[\n",
    "#     (\"ohe\", OneHotEncoder(sparse=False)),\n",
    "#     ('sm', SMOTE(random_state=123)),\n",
    "#     ('xg', XGBClassifier(learning_rate = 0.05,\n",
    "#                          max_depth = 3,\n",
    "#                          min_child_weight = 1,\n",
    "#                          n_estimators = 100,\n",
    "#                          subsample = 0.5,\n",
    "#                          random_state=123))\n",
    "# ])\n",
    "\n",
    "# xgb2_pipe.fit(X_train_clean, y_train)\n",
    "\n",
    "# with open(\"models/xgb2_pipe.pkl\", \"wb\") as f:\n",
    "#     joblib.dump(xgb2_pipe, f)"
   ]
  },
  {
   "cell_type": "code",
   "execution_count": null,
   "metadata": {
    "scrolled": false
   },
   "outputs": [],
   "source": [
    "# Reading the pickle file\n",
    "with open('models/xgb2_pipe.pkl', 'rb') as f:\n",
    "    xgb2_pipe = joblib.load(f)"
   ]
  },
  {
   "cell_type": "code",
   "execution_count": 79,
   "metadata": {
    "scrolled": false
   },
   "outputs": [
    {
     "name": "stdout",
     "output_type": "stream",
     "text": [
      "[0.62084257 0.62215909 0.62042683 0.61488359 0.61717018]\n",
      "Training Accuracy 0.6190964523281597\n",
      "##############\n",
      "[0.60837029 0.60254989 0.62222838 0.61751663 0.60920177]\n",
      "Cross_Val Accuracy 0.6119733924611974\n",
      "##############\n",
      "Training Macro Precision: 0.6156941507239744\n",
      "Cross_Val Macro Precision: 0.6088497198833206\n",
      "##############\n",
      "Training Macro Recall: 0.6280941967665049\n",
      "Cross_Val Macro Recall: 0.6204635920502252\n",
      "##############\n",
      "Training Macro F1: 0.6081130111730249\n",
      "Cross_Val Macro F1: 0.6008517343372579\n"
     ]
    },
    {
     "name": "stderr",
     "output_type": "stream",
     "text": [
      "/Users/robertharrow/opt/anaconda3/envs/learn-env/lib/python3.8/site-packages/sklearn/utils/deprecation.py:87: FutureWarning: Function plot_confusion_matrix is deprecated; Function `plot_confusion_matrix` is deprecated in 1.0 and will be removed in 1.2. Use one of the class methods: ConfusionMatrixDisplay.from_predictions or ConfusionMatrixDisplay.from_estimator.\n",
      "  warnings.warn(msg, category=FutureWarning)\n"
     ]
    },
    {
     "data": {
      "text/plain": [
       "<sklearn.metrics._plot.confusion_matrix.ConfusionMatrixDisplay at 0x7fd65a0ab760>"
      ]
     },
     "execution_count": 79,
     "metadata": {},
     "output_type": "execute_result"
    },
    {
     "data": {
      "image/png": "[encoded data removed]",
      "text/plain": [
       "<Figure size 432x288 with 2 Axes>"
      ]
     },
     "metadata": {
      "needs_background": "light"
     },
     "output_type": "display_data"
    }
   ],
   "source": [
    "print_cv_scores(xgb2_pipe, X_train_clean, y_train)\n",
    "plot_confusion_matrix(xgb2_pipe, X_train_clean, y_train, normalize='true')"
   ]
  },
  {
   "cell_type": "markdown",
   "metadata": {},
   "source": [
    "#### XGBoost Classifier without SMOTE"
   ]
  },
  {
   "cell_type": "code",
   "execution_count": 80,
   "metadata": {
    "scrolled": false
   },
   "outputs": [],
   "source": [
    "# xgb3_pipe = Pipeline(steps=[\n",
    "#     (\"ohe\", OneHotEncoder(sparse=False)),\n",
    "#     ('xg', XGBClassifier(random_state=123))\n",
    "# ])\n",
    "\n",
    "# xgb3_gridsearch = GridSearchCV(estimator=xgb3_pipe, \n",
    "#                           param_grid=xgb_grid, \n",
    "#                           scoring='recall', \n",
    "#                           cv=5)\n",
    "\n",
    "# # Fit the training data\n",
    "# xgb3_gridsearch.fit(X_train_clean, y_train)\n",
    "\n",
    "# with open(\"models/xgb3_gridsearch.pkl\", \"wb\") as f:\n",
    "#     joblib.dump(xgb3_gridsearch, f)"
   ]
  },
  {
   "cell_type": "code",
   "execution_count": null,
   "metadata": {
    "scrolled": false
   },
   "outputs": [],
   "source": [
    "# Reading the pickle file\n",
    "with open('models/xgb3_gridsearch.pkl', 'rb') as f:\n",
    "    xgb3_gridsearch = joblib.load(f)"
   ]
  },
  {
   "cell_type": "code",
   "execution_count": 81,
   "metadata": {
    "scrolled": false
   },
   "outputs": [
    {
     "name": "stdout",
     "output_type": "stream",
     "text": [
      "{'xg__learning_rate': 0.3, 'xg__max_depth': 15, 'xg__min_child_weight': 1, 'xg__n_estimators': 100, 'xg__subsample': 0.5}\n"
     ]
    }
   ],
   "source": [
    "# Print the recall on test set and best params\n",
    "print(xgb3_gridsearch.best_params_)"
   ]
  },
  {
   "cell_type": "code",
   "execution_count": 82,
   "metadata": {
    "scrolled": false
   },
   "outputs": [],
   "source": [
    "# xgb4_pipe = Pipeline(steps=[\n",
    "#     (\"ohe\", OneHotEncoder(sparse=False)),\n",
    "#     ('xg', XGBClassifier(learning_rate = 0.3,\n",
    "#                          max_depth = 15,\n",
    "#                          min_child_weight = 1,\n",
    "#                          n_estimators = 100,\n",
    "#                          subsample = 0.5,\n",
    "#                          random_state=123))\n",
    "# ])\n",
    "\n",
    "# xgb4_pipe.fit(X_train_clean, y_train)\n",
    "\n",
    "# with open(\"models/xgb4_pipe.pkl\", \"wb\") as f:\n",
    "#     joblib.dump(xgb4_pipe, f)"
   ]
  },
  {
   "cell_type": "code",
   "execution_count": null,
   "metadata": {
    "scrolled": false
   },
   "outputs": [],
   "source": [
    "# Reading the pickle file\n",
    "with open('models/xgb4_pipe.pkl', 'rb') as f:\n",
    "    xgb4_pipe = joblib.load(f)"
   ]
  },
  {
   "cell_type": "code",
   "execution_count": 83,
   "metadata": {
    "scrolled": false
   },
   "outputs": [
    {
     "name": "stdout",
     "output_type": "stream",
     "text": [
      "[0.75242517 0.75332594 0.75388027 0.75332594 0.75097007]\n",
      "Training Accuracy 0.7527854767184036\n",
      "##############\n",
      "[0.64467849 0.62389135 0.64301552 0.63747228 0.64218404]\n",
      "Cross_Val Accuracy 0.6382483370288248\n",
      "##############\n",
      "Training Macro Precision: 0.7339100699583112\n",
      "Cross_Val Macro Precision: 0.5802346757358766\n",
      "##############\n",
      "Training Macro Recall: 0.6922407921312608\n",
      "Cross_Val Macro Recall: 0.5667018697692192\n",
      "##############\n",
      "Training Macro F1: 0.702796174508608\n",
      "Cross_Val Macro F1: 0.5666934380176116\n"
     ]
    },
    {
     "name": "stderr",
     "output_type": "stream",
     "text": [
      "/Users/robertharrow/opt/anaconda3/envs/learn-env/lib/python3.8/site-packages/sklearn/utils/deprecation.py:87: FutureWarning: Function plot_confusion_matrix is deprecated; Function `plot_confusion_matrix` is deprecated in 1.0 and will be removed in 1.2. Use one of the class methods: ConfusionMatrixDisplay.from_predictions or ConfusionMatrixDisplay.from_estimator.\n",
      "  warnings.warn(msg, category=FutureWarning)\n"
     ]
    },
    {
     "data": {
      "text/plain": [
       "<sklearn.metrics._plot.confusion_matrix.ConfusionMatrixDisplay at 0x7fd65a82a880>"
      ]
     },
     "execution_count": 83,
     "metadata": {},
     "output_type": "execute_result"
    },
    {
     "data": {
      "image/png": "[encoded data removed]",
      "text/plain": [
       "<Figure size 432x288 with 2 Axes>"
      ]
     },
     "metadata": {
      "needs_background": "light"
     },
     "output_type": "display_data"
    }
   ],
   "source": [
    "print_cv_scores(xgb4_pipe, X_train_clean, y_train)\n",
    "plot_confusion_matrix(xgb4_pipe, X_train_clean, y_train, normalize='true')"
   ]
  },
  {
   "cell_type": "code",
   "execution_count": null,
   "metadata": {
    "scrolled": false
   },
   "outputs": [],
   "source": [
    "# orig_feature_names = list(xgb2_pipe['ohe'].get_feature_names())\n",
    "# xgb2_pipe['xg'].get_booster().feature_names = orig_feature_names\n",
    "# xgb2_pipe['xg'].get_booster().get_fscore()"
   ]
  },
  {
   "cell_type": "code",
   "execution_count": null,
   "metadata": {
    "scrolled": false
   },
   "outputs": [],
   "source": [
    "# # Code from https://stackoverflow.com/questions/40081888/xgboost-plot-importance-figure-size\n",
    "# def my_plot_importance(booster, figsize, **kwargs): \n",
    "#     from matplotlib import pyplot as plt\n",
    "#     from xgboost import plot_importance\n",
    "#     fig, ax = plt.subplots(1,1,figsize=figsize)\n",
    "#     return plot_importance(booster=booster, ax=ax, **kwargs)"
   ]
  },
  {
   "cell_type": "code",
   "execution_count": null,
   "metadata": {
    "scrolled": false
   },
   "outputs": [],
   "source": [
    "# my_plot_importance(xgb2_pipe['xg'],(10,20))"
   ]
  },
  {
   "cell_type": "markdown",
   "metadata": {},
   "source": [
    "### Iterating Further on Best Performing Model\n",
    "\n",
    "We saw in the previous section that Logistic Regression yielded the best recall score. Next, we'll run some more tests to see if we can further improve model performance.\n",
    "\n",
    "#### Recursive Feature Elimination"
   ]
  },
  {
   "cell_type": "markdown",
   "metadata": {},
   "source": [
    "### Investingating the Best Performing Model\n",
    "Out of all the different models and hyper-parameters we tried above, we got the best performence using Logistic Regression. Let's take a look at the coefficients driving that model."
   ]
  },
  {
   "cell_type": "code",
   "execution_count": null,
   "metadata": {
    "scrolled": false
   },
   "outputs": [],
   "source": [
    "coefs = list(lr_pipe2['lr'].coef_[0])\n",
    "features = list(lr_pipe2['ohe'].get_feature_names_out())\n",
    "zipped = list(zip(features,coefs))\n",
    "results = pd.DataFrame(zipped, columns=['Feature','Coeffficient'])"
   ]
  },
  {
   "cell_type": "code",
   "execution_count": null,
   "metadata": {
    "scrolled": false
   },
   "outputs": [],
   "source": [
    "results.sort_values(by='Coeffficient', ascending=False)"
   ]
  },
  {
   "cell_type": "markdown",
   "metadata": {},
   "source": [
    "## Exploratory Data Analysis"
   ]
  },
  {
   "cell_type": "code",
   "execution_count": null,
   "metadata": {},
   "outputs": [],
   "source": [
    "clean_data = pd.concat([y_train, X_train_clean], axis=1)"
   ]
  },
  {
   "cell_type": "code",
   "execution_count": null,
   "metadata": {
    "scrolled": false
   },
   "outputs": [],
   "source": [
    "clean_data.columns"
   ]
  },
  {
   "cell_type": "code",
   "execution_count": null,
   "metadata": {},
   "outputs": [],
   "source": [
    "clean_data['Return to Prison'].value_counts(normalize=True)"
   ]
  },
  {
   "cell_type": "code",
   "execution_count": null,
   "metadata": {
    "scrolled": false
   },
   "outputs": [],
   "source": [
    "recidvism_by_sex = pd.crosstab(clean_data.Sex, clean_data['Return to Prison'], normalize='index')\n",
    "recidvism_by_sex"
   ]
  },
  {
   "cell_type": "code",
   "execution_count": null,
   "metadata": {
    "scrolled": false
   },
   "outputs": [],
   "source": [
    "# Graph the crosstab table\n",
    "fig, ax = plt.subplots(figsize=(10, 8))\n",
    "recidvism_by_sex[1].plot.bar(ax=ax, color=('orangered', 'cornflowerblue'))\n",
    "plt.title('Recidivism by Sex', size=15)\n",
    "plt.ylabel('% of Population Returning to Prison within 3 years of release', size=12)\n",
    "\n",
    "# Adding line to emphasize average recidivisim rate in population\n",
    "plt.hlines(y=0.344136, xmin=-50, xmax=100, alpha=0.8, color='red', ls='--', label='% recidivism overall')\n",
    "\n",
    "\n",
    "plt.legend()\n",
    "plt.xticks(rotation = 45)\n",
    "plt.show()"
   ]
  },
  {
   "cell_type": "code",
   "execution_count": null,
   "metadata": {
    "scrolled": false
   },
   "outputs": [],
   "source": [
    "recidvism_by_off_type = pd.crosstab(clean_data['Offense Type'],\n",
    "                               clean_data['Return to Prison'],\n",
    "                               normalize='index')"
   ]
  },
  {
   "cell_type": "code",
   "execution_count": null,
   "metadata": {
    "scrolled": false
   },
   "outputs": [],
   "source": [
    "# Graph the crosstab table\n",
    "fig, ax = plt.subplots(figsize=(10, 8))\n",
    "recidvism_by_off_type[1].sort_values().plot.bar(ax=ax)\n",
    "plt.title('Recidivism by Offense Type', size=15)\n",
    "plt.ylabel('% of Population Returning to Prison within 3 years of release', size=12)\n",
    "\n",
    "# Adding line to emphasize average recidivisim rate in population\n",
    "plt.hlines(y=0.344136, xmin=-50, xmax=100, alpha=0.8, color='red', ls='--', label='% recidivism overall')\n",
    "\n",
    "plt.legend()\n",
    "plt.xticks(rotation = 45)\n",
    "plt.show()"
   ]
  },
  {
   "cell_type": "code",
   "execution_count": null,
   "metadata": {
    "scrolled": false
   },
   "outputs": [],
   "source": [
    "recidvism_by_off_class = pd.crosstab(clean_data['Offense Classification'],\n",
    "                               clean_data['Return to Prison'],\n",
    "                               normalize='index')"
   ]
  },
  {
   "cell_type": "code",
   "execution_count": null,
   "metadata": {},
   "outputs": [],
   "source": [
    "# Graph the crosstab table\n",
    "fig, ax = plt.subplots(figsize=(16, 8))\n",
    "recidvism_by_off_class[1].sort_values().plot.bar(ax=ax)\n",
    "plt.title('Recidivism by Offense Type', size=15)\n",
    "plt.ylabel('% of Population Returning to Prison within 3 years of release', size=12)\n",
    "\n",
    "# Adding line to emphasize average recidivisim rate in population\n",
    "plt.hlines(y=0.344136, xmin=-50, xmax=100, alpha=0.8, color='red', ls='--', label='% recidivism overall')\n",
    "\n",
    "plt.legend()\n",
    "plt.xticks(rotation = 45)\n",
    "plt.show()"
   ]
  },
  {
   "cell_type": "code",
   "execution_count": null,
   "metadata": {},
   "outputs": [],
   "source": [
    "recidvism_by_race = pd.crosstab(clean_data['Race - Ethnicity'],\n",
    "                                    clean_data['Return to Prison'], normalize='index')"
   ]
  },
  {
   "cell_type": "code",
   "execution_count": null,
   "metadata": {},
   "outputs": [],
   "source": [
    "# Graph the crosstab table\n",
    "fig, ax = plt.subplots(figsize=(16, 8))\n",
    "recidvism_by_race[1].sort_values().plot.bar(ax=ax)\n",
    "plt.title('Recidivism by Offense Type', size=15)\n",
    "plt.ylabel('% of Population Returning to Prison within 3 years of release', size=12)\n",
    "\n",
    "# Adding line to emphasize average recidivisim rate in population\n",
    "plt.hlines(y=0.344136, xmin=-50, xmax=100, alpha=0.8, color='red', ls='--', label='% recidivism overall')\n",
    "\n",
    "plt.legend()\n",
    "plt.xticks(rotation = 45)\n",
    "plt.show()"
   ]
  },
  {
   "cell_type": "code",
   "execution_count": null,
   "metadata": {},
   "outputs": [],
   "source": [
    "recidvism_by_race_sex = pd.crosstab(clean_data['Sex-Race'],\n",
    "                                    clean_data['Return to Prison'], normalize='index')\n",
    "\n",
    "# Graph the crosstab table\n",
    "fig, ax = plt.subplots(figsize=(16, 8))\n",
    "recidvism_by_race_sex[1].sort_values().plot.bar(ax=ax)\n",
    "plt.title('Recidivism by Offense Type', size=15)\n",
    "plt.ylabel('% of Population Returning to Prison within 3 years of release', size=12)\n",
    "\n",
    "# Adding line to emphasize average recidivisim rate in population\n",
    "plt.hlines(y=0.344136, xmin=-50, xmax=100, alpha=0.8, color='red', ls='--', label='% recidivism overall')\n",
    "\n",
    "plt.legend()\n",
    "plt.xticks(rotation = 45)\n",
    "plt.show()"
   ]
  },
  {
   "cell_type": "code",
   "execution_count": null,
   "metadata": {},
   "outputs": [],
   "source": [
    "recidvism_by_age_race_sex = pd.crosstab(clean_data['Age-Sex-Race'],\n",
    "                                    clean_data['Return to Prison'], normalize='index')\n",
    "\n",
    "# Graph the crosstab table\n",
    "fig, ax = plt.subplots(figsize=(16, 8))\n",
    "recidvism_by_age_race_sex[1].sort_values().plot.barh(ax=ax)\n",
    "plt.title('Recidivism by Offense Type', size=15)\n",
    "plt.ylabel('% of Population Returning to Prison within 3 years of release', size=12)\n",
    "\n",
    "# Adding line to emphasize average recidivisim rate in population\n",
    "plt.vlines(x=0.344136, ymin=-50, ymax=100, alpha=0.8, color='red', ls='--', label='% recidivism overall')\n",
    "\n",
    "plt.legend()\n",
    "plt.show()"
   ]
  },
  {
   "cell_type": "code",
   "execution_count": null,
   "metadata": {},
   "outputs": [],
   "source": []
  }
 ],
 "metadata": {
  "kernelspec": {
   "display_name": "Python (learn-env)",
   "language": "python",
   "name": "learn-env"
  },
  "language_info": {
   "codemirror_mode": {
    "name": "ipython",
    "version": 3
   },
   "file_extension": ".py",
   "mimetype": "text/x-python",
   "name": "python",
   "nbconvert_exporter": "python",
   "pygments_lexer": "ipython3",
   "version": "3.8.5"
  }
 },
 "nbformat": 4,
 "nbformat_minor": 4
}
