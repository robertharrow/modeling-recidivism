{
 "cells": [
  {
   "cell_type": "markdown",
   "metadata": {},
   "source": [
    "# Iowa Prison Recidivism Analysis\n",
    "\n",
    "Author: Robert Harrow\n",
    "\n",
    "## Overview\n",
    "\n",
    "Stakeholder: Iowa Department of Corrections\n",
    "Business Questions:\n",
    "1. What features can help predict recidivism?\n",
    "2. What can the DoC do to reduce recidivism?"
   ]
  },
  {
   "cell_type": "markdown",
   "metadata": {},
   "source": [
    "## Data Understanding & Preperation\n",
    "\n",
    "### Importing Dataset\n",
    "\n",
    "Dataset located at: https://mydata.iowa.gov/Correctional-System/3-Year-Recidivism-for-Offenders-Released-from-Pris/mw8r-vqy4\n",
    "\n",
    "**Load Dependencies**"
   ]
  },
  {
   "cell_type": "code",
   "execution_count": 91,
   "metadata": {},
   "outputs": [],
   "source": [
    "import pandas as pd\n",
    "import numpy as np\n",
    "import seaborn as sns\n",
    "from scipy import stats as stats\n",
    "import matplotlib.pyplot as plt\n",
    "%matplotlib inline\n",
    "\n",
    "from sklearn.preprocessing import OneHotEncoder, StandardScaler, FunctionTransformer, LabelEncoder\n",
    "from sklearn.compose import ColumnTransformer\n",
    "from sklearn.pipeline import Pipeline\n",
    "\n",
    "from imblearn.over_sampling import SMOTE\n",
    "from imblearn.under_sampling import RandomUnderSampler\n",
    "from imblearn.pipeline import Pipeline as imbpipe\n",
    "\n",
    "from sklearn.dummy import DummyClassifier\n",
    "from sklearn.linear_model import LogisticRegression\n",
    "from sklearn.neighbors import KNeighborsClassifier\n",
    "from sklearn.tree import DecisionTreeClassifier\n",
    "\n",
    "from sklearn.ensemble import RandomForestClassifier\n",
    "from xgboost import XGBClassifier\n",
    "\n",
    "from sklearn.metrics import accuracy_score, precision_score, recall_score, confusion_matrix,\\\n",
    "precision_recall_fscore_support, f1_score, plot_confusion_matrix\n",
    "from sklearn.model_selection import train_test_split, GridSearchCV,\\\n",
    "cross_validate, cross_val_predict, cross_val_score\n",
    "\n",
    "import joblib\n",
    "\n",
    "from sklearn.metrics import roc_auc_score, roc_curve, auc"
   ]
  },
  {
   "cell_type": "markdown",
   "metadata": {},
   "source": [
    "### Data Dictionary\n",
    "\n",
    "| Column Name                | Description                                                                                                                                                                                                          |\n",
    "|:---------------------------|:---------------------------------------------------------------------------------------------------------------------------------------------------------------------------------------------------------------------|\n",
    "| Fiscal Year Released       | Fiscal year (year ending June 30) for which the offender was released from prison.                                                                                                                                   |\n",
    "| Recidivism Reporting Year  | Fiscal year (year ending June 30) that marks the end of the 3-year tracking period. For example, offenders exited prison in FY 2012 are found in recidivism reporting year FY 2015.                                  |\n",
    "| Main Supervising District  | The Judicial District supervising the offender for the longest time during the tracking period.                                                                                                                      |\n",
    "| Release Type               | Reasoning for Offender's release from prison.                                                                                                                                                                        |\n",
    "| Race - Ethnicity           | Offender's Race and Ethnicity                                                                                                                                                                                        |\n",
    "| Age At Release             | Offender's age group at release from prison.                                                                                                                                                                         |\n",
    "| Sex                        | Gender of our offender                                                                                                                                                                                               |\n",
    "| Offense Classification     | Maximum penalties: A Felony = Life; B Felony = 25 or 50 years; C Felony = 10 years; D Felony = 5 years; Aggravated Misdemeanor = 2 years; Serious Misdemeanor = 1 year; Simple Misdemeanor = 30 days                 |\n",
    "| Offense Type               | General category for the most serious offense for which the offender was placed in prison.                                                                                                                           |\n",
    "| Offense Subtype            | Further classification of the most serious offense for which the offender was placed in prison.                                                                                                                      |\n",
    "| Return to Prison           | No = Did not return to prison within the three year tracking period; Yes = Admitted to prison for any reason within the three year tracking period                                                                   |\n",
    "| Days to Return             | Number of days it took before the offender returned to prison.                                                                                                                                                       |\n",
    "| Recidivism Type            | Indicates the reason for return to prison.                                                                                                                                                                           |\n",
    "| New Offense Classification | New conviction maximum penalties: A Felony = Life; B Felony = 25 or 50 years; C Felony = 10 years; D Felony = 5 years; Aggravated Misdemeanor = 2 years; Serious Misdemeanor = 1 year; Simple Misdemeanor = 30 days  |\n",
    "| New Offense Type           | General category for the new conviction while the offender is out of prison.                                                                                                                                         |\n",
    "| New Offense Sub Type       | Further classification of the new conviction.                                                                                                                                                                        |\n",
    "| Target Population          | The Department of Corrections has undertaken specific strategies to reduce recidivism rates for prisoners who are on parole.                                                                                         |\n"
   ]
  },
  {
   "cell_type": "code",
   "execution_count": 2,
   "metadata": {},
   "outputs": [],
   "source": [
    "prisoner_df = pd.read_csv('data/recidivism.csv')"
   ]
  },
  {
   "cell_type": "code",
   "execution_count": 3,
   "metadata": {},
   "outputs": [
    {
     "data": {
      "text/html": [
       "<div>\n",
       "<style scoped>\n",
       "    .dataframe tbody tr th:only-of-type {\n",
       "        vertical-align: middle;\n",
       "    }\n",
       "\n",
       "    .dataframe tbody tr th {\n",
       "        vertical-align: top;\n",
       "    }\n",
       "\n",
       "    .dataframe thead th {\n",
       "        text-align: right;\n",
       "    }\n",
       "</style>\n",
       "<table border=\"1\" class=\"dataframe\">\n",
       "  <thead>\n",
       "    <tr style=\"text-align: right;\">\n",
       "      <th></th>\n",
       "      <th>Fiscal Year Released</th>\n",
       "      <th>Recidivism Reporting Year</th>\n",
       "      <th>Main Supervising District</th>\n",
       "      <th>Release Type</th>\n",
       "      <th>Race - Ethnicity</th>\n",
       "      <th>Age At Release</th>\n",
       "      <th>Sex</th>\n",
       "      <th>Offense Classification</th>\n",
       "      <th>Offense Type</th>\n",
       "      <th>Offense Subtype</th>\n",
       "      <th>Return to Prison</th>\n",
       "      <th>Days to Return</th>\n",
       "      <th>Recidivism Type</th>\n",
       "      <th>New Offense Classification</th>\n",
       "      <th>New Offense Type</th>\n",
       "      <th>New Offense Sub Type</th>\n",
       "      <th>Target Population</th>\n",
       "    </tr>\n",
       "  </thead>\n",
       "  <tbody>\n",
       "    <tr>\n",
       "      <th>0</th>\n",
       "      <td>2010</td>\n",
       "      <td>2013</td>\n",
       "      <td>7JD</td>\n",
       "      <td>Parole</td>\n",
       "      <td>Black - Non-Hispanic</td>\n",
       "      <td>25-34</td>\n",
       "      <td>Male</td>\n",
       "      <td>C Felony</td>\n",
       "      <td>Violent</td>\n",
       "      <td>Robbery</td>\n",
       "      <td>Yes</td>\n",
       "      <td>433.0</td>\n",
       "      <td>New</td>\n",
       "      <td>C Felony</td>\n",
       "      <td>Drug</td>\n",
       "      <td>Trafficking</td>\n",
       "      <td>Yes</td>\n",
       "    </tr>\n",
       "    <tr>\n",
       "      <th>1</th>\n",
       "      <td>2010</td>\n",
       "      <td>2013</td>\n",
       "      <td>NaN</td>\n",
       "      <td>Discharged – End of Sentence</td>\n",
       "      <td>White - Non-Hispanic</td>\n",
       "      <td>25-34</td>\n",
       "      <td>Male</td>\n",
       "      <td>D Felony</td>\n",
       "      <td>Property</td>\n",
       "      <td>Theft</td>\n",
       "      <td>Yes</td>\n",
       "      <td>453.0</td>\n",
       "      <td>Tech</td>\n",
       "      <td>NaN</td>\n",
       "      <td>NaN</td>\n",
       "      <td>NaN</td>\n",
       "      <td>No</td>\n",
       "    </tr>\n",
       "    <tr>\n",
       "      <th>2</th>\n",
       "      <td>2010</td>\n",
       "      <td>2013</td>\n",
       "      <td>5JD</td>\n",
       "      <td>Parole</td>\n",
       "      <td>White - Non-Hispanic</td>\n",
       "      <td>35-44</td>\n",
       "      <td>Male</td>\n",
       "      <td>B Felony</td>\n",
       "      <td>Drug</td>\n",
       "      <td>Trafficking</td>\n",
       "      <td>Yes</td>\n",
       "      <td>832.0</td>\n",
       "      <td>Tech</td>\n",
       "      <td>NaN</td>\n",
       "      <td>NaN</td>\n",
       "      <td>NaN</td>\n",
       "      <td>Yes</td>\n",
       "    </tr>\n",
       "    <tr>\n",
       "      <th>3</th>\n",
       "      <td>2010</td>\n",
       "      <td>2013</td>\n",
       "      <td>6JD</td>\n",
       "      <td>Parole</td>\n",
       "      <td>White - Non-Hispanic</td>\n",
       "      <td>25-34</td>\n",
       "      <td>Male</td>\n",
       "      <td>B Felony</td>\n",
       "      <td>Other</td>\n",
       "      <td>Other Criminal</td>\n",
       "      <td>No</td>\n",
       "      <td>NaN</td>\n",
       "      <td>No Recidivism</td>\n",
       "      <td>NaN</td>\n",
       "      <td>NaN</td>\n",
       "      <td>NaN</td>\n",
       "      <td>Yes</td>\n",
       "    </tr>\n",
       "    <tr>\n",
       "      <th>4</th>\n",
       "      <td>2010</td>\n",
       "      <td>2013</td>\n",
       "      <td>NaN</td>\n",
       "      <td>Discharged – End of Sentence</td>\n",
       "      <td>Black - Non-Hispanic</td>\n",
       "      <td>35-44</td>\n",
       "      <td>Male</td>\n",
       "      <td>D Felony</td>\n",
       "      <td>Violent</td>\n",
       "      <td>Assault</td>\n",
       "      <td>Yes</td>\n",
       "      <td>116.0</td>\n",
       "      <td>Tech</td>\n",
       "      <td>NaN</td>\n",
       "      <td>NaN</td>\n",
       "      <td>NaN</td>\n",
       "      <td>No</td>\n",
       "    </tr>\n",
       "  </tbody>\n",
       "</table>\n",
       "</div>"
      ],
      "text/plain": [
       "   Fiscal Year Released  Recidivism Reporting Year Main Supervising District  \\\n",
       "0                  2010                       2013                       7JD   \n",
       "1                  2010                       2013                       NaN   \n",
       "2                  2010                       2013                       5JD   \n",
       "3                  2010                       2013                       6JD   \n",
       "4                  2010                       2013                       NaN   \n",
       "\n",
       "                   Release Type      Race - Ethnicity Age At Release    Sex  \\\n",
       "0                        Parole  Black - Non-Hispanic           25-34  Male   \n",
       "1  Discharged – End of Sentence  White - Non-Hispanic           25-34  Male   \n",
       "2                        Parole  White - Non-Hispanic           35-44  Male   \n",
       "3                        Parole  White - Non-Hispanic           25-34  Male   \n",
       "4  Discharged – End of Sentence  Black - Non-Hispanic           35-44  Male   \n",
       "\n",
       "  Offense Classification Offense Type Offense Subtype Return to Prison  \\\n",
       "0               C Felony      Violent         Robbery              Yes   \n",
       "1               D Felony     Property           Theft              Yes   \n",
       "2               B Felony         Drug     Trafficking              Yes   \n",
       "3               B Felony        Other  Other Criminal               No   \n",
       "4               D Felony      Violent         Assault              Yes   \n",
       "\n",
       "   Days to Return Recidivism Type New Offense Classification New Offense Type  \\\n",
       "0           433.0             New                   C Felony             Drug   \n",
       "1           453.0            Tech                        NaN              NaN   \n",
       "2           832.0            Tech                        NaN              NaN   \n",
       "3             NaN   No Recidivism                        NaN              NaN   \n",
       "4           116.0            Tech                        NaN              NaN   \n",
       "\n",
       "  New Offense Sub Type Target Population  \n",
       "0          Trafficking               Yes  \n",
       "1                  NaN                No  \n",
       "2                  NaN               Yes  \n",
       "3                  NaN               Yes  \n",
       "4                  NaN                No  "
      ]
     },
     "execution_count": 3,
     "metadata": {},
     "output_type": "execute_result"
    }
   ],
   "source": [
    "# Preview first 5 rows\n",
    "prisoner_df.head()"
   ]
  },
  {
   "cell_type": "code",
   "execution_count": 4,
   "metadata": {},
   "outputs": [
    {
     "name": "stdout",
     "output_type": "stream",
     "text": [
      "<class 'pandas.core.frame.DataFrame'>\n",
      "RangeIndex: 26020 entries, 0 to 26019\n",
      "Data columns (total 17 columns):\n",
      " #   Column                      Non-Null Count  Dtype  \n",
      "---  ------                      --------------  -----  \n",
      " 0   Fiscal Year Released        26020 non-null  int64  \n",
      " 1   Recidivism Reporting Year   26020 non-null  int64  \n",
      " 2   Main Supervising District   16439 non-null  object \n",
      " 3   Release Type                24258 non-null  object \n",
      " 4   Race - Ethnicity            25990 non-null  object \n",
      " 5   Age At Release              26017 non-null  object \n",
      " 6   Sex                         26017 non-null  object \n",
      " 7   Offense Classification      26020 non-null  object \n",
      " 8   Offense Type                26020 non-null  object \n",
      " 9   Offense Subtype             26020 non-null  object \n",
      " 10  Return to Prison            26020 non-null  object \n",
      " 11  Days to Return              8681 non-null   float64\n",
      " 12  Recidivism Type             26020 non-null  object \n",
      " 13  New Offense Classification  6718 non-null   object \n",
      " 14  New Offense Type            6718 non-null   object \n",
      " 15  New Offense Sub Type        6699 non-null   object \n",
      " 16  Target Population           26020 non-null  object \n",
      "dtypes: float64(1), int64(2), object(14)\n",
      "memory usage: 3.4+ MB\n"
     ]
    }
   ],
   "source": [
    "# Get overview of the data\n",
    "prisoner_df.info()"
   ]
  },
  {
   "cell_type": "code",
   "execution_count": 5,
   "metadata": {},
   "outputs": [
    {
     "data": {
      "text/plain": [
       "No     17339\n",
       "Yes     8681\n",
       "Name: Return to Prison, dtype: int64"
      ]
     },
     "execution_count": 5,
     "metadata": {},
     "output_type": "execute_result"
    }
   ],
   "source": [
    "# Explore distribution of target\n",
    "\n",
    "prisoner_df['Return to Prison'].value_counts()"
   ]
  },
  {
   "cell_type": "code",
   "execution_count": 6,
   "metadata": {},
   "outputs": [
    {
     "data": {
      "text/plain": [
       "No Recidivism    17339\n",
       "New               5516\n",
       "Tech              3165\n",
       "Name: Recidivism Type, dtype: int64"
      ]
     },
     "execution_count": 6,
     "metadata": {},
     "output_type": "execute_result"
    }
   ],
   "source": [
    "prisoner_df['Recidivism Type'].value_counts()"
   ]
  },
  {
   "cell_type": "code",
   "execution_count": 7,
   "metadata": {},
   "outputs": [
    {
     "data": {
      "text/plain": [
       "Fiscal Year Released          0.000000\n",
       "Recidivism Reporting Year     0.000000\n",
       "Main Supervising District     0.368217\n",
       "Release Type                  0.067717\n",
       "Race - Ethnicity              0.001153\n",
       "Age At Release                0.000115\n",
       "Sex                           0.000115\n",
       "Offense Classification        0.000000\n",
       "Offense Type                  0.000000\n",
       "Offense Subtype               0.000000\n",
       "Return to Prison              0.000000\n",
       "Days to Return                0.666372\n",
       "Recidivism Type               0.000000\n",
       "New Offense Classification    0.741814\n",
       "New Offense Type              0.741814\n",
       "New Offense Sub Type          0.742544\n",
       "Target Population             0.000000\n",
       "dtype: float64"
      ]
     },
     "execution_count": 7,
     "metadata": {},
     "output_type": "execute_result"
    }
   ],
   "source": [
    "# Exploring proportion of missing data\n",
    "prisoner_df.isna().mean()"
   ]
  },
  {
   "cell_type": "markdown",
   "metadata": {},
   "source": [
    "### Basic Data Cleaning\n",
    "\n",
    "Data is missing for the following columns:\n",
    "* **Main Supervising District.** Based on an email I received from the Iowa Department of Corrections <em>\"When a Main Supervising District is blank, this means they discharged straight from prison and were not supervised by Community Based Corrections.\"</em>\n",
    "* **Release Type/Race - Ethnicity/Age At Release/Sex.** Just 0.01% - 6% of data is missing here. I will likely just drop these records.\n",
    "* **Days to Return/New Offense Classification/New Offense Type/New Offense Sub Type.** It makes sense for this data to be missing since we have records of people who never returned to prison. Also, we don't need these columns for modeling."
   ]
  },
  {
   "cell_type": "code",
   "execution_count": 8,
   "metadata": {},
   "outputs": [],
   "source": [
    "# Replacing Main Supervising District NaN with 'None'\n",
    "prisoner_df['Main Supervising District'] = prisoner_df['Main Supervising District'].fillna('None')"
   ]
  },
  {
   "cell_type": "code",
   "execution_count": 9,
   "metadata": {},
   "outputs": [],
   "source": [
    "# Dealing with records with small amounts of missing values\n",
    "prisoner_df.dropna(subset=['Release Type', 'Race - Ethnicity','Age At Release ','Sex'], inplace=True)"
   ]
  },
  {
   "cell_type": "code",
   "execution_count": 10,
   "metadata": {},
   "outputs": [],
   "source": [
    "# Dropping columns not needed for modeling\n",
    "cols_to_drop = ['Fiscal Year Released',\n",
    "                'Recidivism Reporting Year',\n",
    "                'Days to Return',\n",
    "                'Recidivism Type',\n",
    "                'New Offense Classification',\n",
    "                'New Offense Type',\n",
    "                'New Offense Sub Type',\n",
    "                #'Offense Subtype' # dropping this for now since it has a lot of categories\n",
    "               ]"
   ]
  },
  {
   "cell_type": "code",
   "execution_count": 11,
   "metadata": {},
   "outputs": [],
   "source": [
    "prisoner_df_relevant = prisoner_df.drop(cols_to_drop, axis=1)"
   ]
  },
  {
   "cell_type": "code",
   "execution_count": 12,
   "metadata": {},
   "outputs": [],
   "source": [
    "prisoner_df_relevant[\"Return to Prison\"].replace({\"Yes\": 1, \"No\": 0}, inplace=True)"
   ]
  },
  {
   "cell_type": "code",
   "execution_count": 13,
   "metadata": {
    "scrolled": false
   },
   "outputs": [
    {
     "name": "stdout",
     "output_type": "stream",
     "text": [
      "None                  7787\n",
      "5JD                   4982\n",
      "1JD                   2787\n",
      "2JD                   1988\n",
      "8JD                   1556\n",
      "7JD                   1514\n",
      "3JD                   1188\n",
      "6JD                   1098\n",
      "4JD                    666\n",
      "ISC                    350\n",
      "Interstate Compact     309\n",
      "Name: Main Supervising District, dtype: int64\n",
      "Parole                                 9810\n",
      "Parole Granted                         5577\n",
      "Discharged – End of Sentence           5007\n",
      "Discharged - Expiration of Sentence    2335\n",
      "Released to Special Sentence            401\n",
      "Special Sentence                        347\n",
      "Paroled w/Immediate Discharge           334\n",
      "Paroled to Detainer - Out of State      137\n",
      "Paroled to Detainer - INS               134\n",
      "Paroled to Detainer - U.S. Marshall      77\n",
      "Paroled to Detainer - Iowa               66\n",
      "Name: Release Type, dtype: int64\n",
      "White - Non-Hispanic                               16460\n",
      "Black - Non-Hispanic                                5687\n",
      "White - Hispanic                                    1365\n",
      "American Indian or Alaska Native - Non-Hispanic      463\n",
      "Asian or Pacific Islander - Non-Hispanic             175\n",
      "Black - Hispanic                                      36\n",
      "American Indian or Alaska Native - Hispanic           19\n",
      "White -                                               12\n",
      "Asian or Pacific Islander - Hispanic                   5\n",
      "Black -                                                2\n",
      "N/A -                                                  1\n",
      "Name: Race - Ethnicity, dtype: int64\n",
      "25-34           8879\n",
      "35-44           5847\n",
      "Under 25        4229\n",
      "45-54           4079\n",
      "55 and Older    1191\n",
      "Name: Age At Release , dtype: int64\n",
      "Male      21050\n",
      "Female     3175\n",
      "Name: Sex, dtype: int64\n",
      "D Felony                                    9786\n",
      "C Felony                                    6453\n",
      "Aggravated Misdemeanor                      4327\n",
      "B Felony                                    1716\n",
      "Felony - Enhancement to Original Penalty    1488\n",
      "Felony - Enhanced                            220\n",
      "Serious Misdemeanor                          139\n",
      "Special Sentence 2005                         69\n",
      "Felony - Mandatory Minimum                    10\n",
      "Other Felony                                   6\n",
      "A Felony                                       4\n",
      "Simple Misdemeanor                             3\n",
      "Other Felony (Old Code)                        2\n",
      "Sexual Predator Community Supervision          2\n",
      "Name: Offense Classification, dtype: int64\n",
      "Drug            7573\n",
      "Property        6863\n",
      "Violent         5288\n",
      "Public Order    3334\n",
      "Other           1167\n",
      "Name: Offense Type, dtype: int64\n",
      "Trafficking                        6242\n",
      "Assault                            2906\n",
      "Burglary                           2765\n",
      "Theft                              2481\n",
      "OWI                                1687\n",
      "Forgery/Fraud                      1133\n",
      "Sex                                1096\n",
      "Drug Possession                    1071\n",
      "Other Criminal                     1051\n",
      "Other Violent                       573\n",
      "Traffic                             490\n",
      "Murder/Manslaughter                 377\n",
      "Weapons                             348\n",
      "Vandalism                           323\n",
      "Robbery                             320\n",
      "Alcohol                             312\n",
      "Other Drug                          260\n",
      "Other Public Order                  258\n",
      "Arson                               152\n",
      "Sex Offender Registry/Residency     129\n",
      "Flight/Escape                        78\n",
      "Kidnap                               63\n",
      "Special Sentence Revocation          63\n",
      "Prostitution/Pimping                 32\n",
      "Stolen Property                       9\n",
      "Animals                               6\n",
      "Name: Offense Subtype, dtype: int64\n",
      "0    15894\n",
      "1     8331\n",
      "Name: Return to Prison, dtype: int64\n",
      "Yes    13807\n",
      "No     10418\n",
      "Name: Target Population, dtype: int64\n"
     ]
    }
   ],
   "source": [
    "for col in prisoner_df_relevant.columns:\n",
    "    print(prisoner_df_relevant[col].value_counts())"
   ]
  },
  {
   "cell_type": "code",
   "execution_count": 14,
   "metadata": {},
   "outputs": [],
   "source": [
    "# Dropping Race - Ethnicity group and Offense Subtype for which we don't have too much data for\n",
    "prisoner_df_relevant = prisoner_df_relevant.groupby('Race - Ethnicity').filter(lambda x: len(x) > 100)\n",
    "prisoner_df_relevant = prisoner_df_relevant.groupby('Offense Subtype').filter(lambda x: len(x) > 100)"
   ]
  },
  {
   "cell_type": "markdown",
   "metadata": {},
   "source": [
    "### Split data for cleaning & training"
   ]
  },
  {
   "cell_type": "code",
   "execution_count": 15,
   "metadata": {},
   "outputs": [],
   "source": [
    "X = prisoner_df_relevant.drop(['Return to Prison'], axis=1)\n",
    "y = prisoner_df_relevant['Return to Prison']\n",
    "\n",
    "X_train, X_test, y_train, y_test = train_test_split(X, y, random_state=42, stratify=y)"
   ]
  },
  {
   "cell_type": "code",
   "execution_count": 16,
   "metadata": {},
   "outputs": [],
   "source": [
    "def release_type_transformer(df):\n",
    "    '''\n",
    "    Create 3 bins to reduce release type to the three major types of prison releases\n",
    "    '''\n",
    "    df.loc[df['Release Type'].str.contains('parole', case=False), 'Release Type'] = 'parole'\n",
    "    df.loc[df['Release Type'].str.contains('discharged', case=False), 'Release Type'] = 'discharged'\n",
    "    df.loc[df['Release Type'].str.contains('special', case=False), 'Release Type'] = 'special sentence'\n",
    "    return df\n",
    "\n",
    "def offense_classification_transformer(df):\n",
    "    '''\n",
    "    Create 3 bins to reduce release type to the three major types of prison releases\n",
    "    '''\n",
    "    df.loc[df['Offense Classification'].str.contains('felony', case=False), 'Offense Classification'] = 'felony'\n",
    "    df.loc[df['Offense Classification'].str.contains('misdemeanor', case=False), 'Offense Classification'] = 'misdemeanor'\n",
    "    df.loc[df['Offense Classification'].str.contains('Special Sentence', case=False), 'Offense Classification'] = 'other'\n",
    "    df.loc[df['Offense Classification'].str.contains('Sexual Predator', case=False), 'Offense Classification'] = 'other'\n",
    "    return df"
   ]
  },
  {
   "cell_type": "code",
   "execution_count": 17,
   "metadata": {},
   "outputs": [],
   "source": [
    "cleaning_pipeline = Pipeline(steps=[\n",
    "    ('release', FunctionTransformer(release_type_transformer)),\n",
    "    ('classification', FunctionTransformer(offense_classification_transformer))\n",
    "])"
   ]
  },
  {
   "cell_type": "code",
   "execution_count": 18,
   "metadata": {},
   "outputs": [],
   "source": [
    "X_train_clean = cleaning_pipeline.fit_transform(X_train)"
   ]
  },
  {
   "cell_type": "code",
   "execution_count": 19,
   "metadata": {},
   "outputs": [
    {
     "data": {
      "text/html": [
       "<div>\n",
       "<style scoped>\n",
       "    .dataframe tbody tr th:only-of-type {\n",
       "        vertical-align: middle;\n",
       "    }\n",
       "\n",
       "    .dataframe tbody tr th {\n",
       "        vertical-align: top;\n",
       "    }\n",
       "\n",
       "    .dataframe thead th {\n",
       "        text-align: right;\n",
       "    }\n",
       "</style>\n",
       "<table border=\"1\" class=\"dataframe\">\n",
       "  <thead>\n",
       "    <tr style=\"text-align: right;\">\n",
       "      <th></th>\n",
       "      <th>Main Supervising District</th>\n",
       "      <th>Release Type</th>\n",
       "      <th>Race - Ethnicity</th>\n",
       "      <th>Age At Release</th>\n",
       "      <th>Sex</th>\n",
       "      <th>Offense Classification</th>\n",
       "      <th>Offense Type</th>\n",
       "      <th>Offense Subtype</th>\n",
       "      <th>Target Population</th>\n",
       "    </tr>\n",
       "  </thead>\n",
       "  <tbody>\n",
       "    <tr>\n",
       "      <th>9317</th>\n",
       "      <td>5JD</td>\n",
       "      <td>parole</td>\n",
       "      <td>White - Non-Hispanic</td>\n",
       "      <td>25-34</td>\n",
       "      <td>Male</td>\n",
       "      <td>felony</td>\n",
       "      <td>Violent</td>\n",
       "      <td>Sex</td>\n",
       "      <td>Yes</td>\n",
       "    </tr>\n",
       "    <tr>\n",
       "      <th>14081</th>\n",
       "      <td>6JD</td>\n",
       "      <td>special sentence</td>\n",
       "      <td>White - Non-Hispanic</td>\n",
       "      <td>25-34</td>\n",
       "      <td>Male</td>\n",
       "      <td>other</td>\n",
       "      <td>Violent</td>\n",
       "      <td>Sex</td>\n",
       "      <td>Yes</td>\n",
       "    </tr>\n",
       "    <tr>\n",
       "      <th>20056</th>\n",
       "      <td>1JD</td>\n",
       "      <td>parole</td>\n",
       "      <td>White - Hispanic</td>\n",
       "      <td>25-34</td>\n",
       "      <td>Male</td>\n",
       "      <td>felony</td>\n",
       "      <td>Property</td>\n",
       "      <td>Burglary</td>\n",
       "      <td>No</td>\n",
       "    </tr>\n",
       "    <tr>\n",
       "      <th>12682</th>\n",
       "      <td>4JD</td>\n",
       "      <td>parole</td>\n",
       "      <td>White - Non-Hispanic</td>\n",
       "      <td>35-44</td>\n",
       "      <td>Male</td>\n",
       "      <td>misdemeanor</td>\n",
       "      <td>Public Order</td>\n",
       "      <td>Traffic</td>\n",
       "      <td>Yes</td>\n",
       "    </tr>\n",
       "    <tr>\n",
       "      <th>9543</th>\n",
       "      <td>7JD</td>\n",
       "      <td>parole</td>\n",
       "      <td>White - Hispanic</td>\n",
       "      <td>25-34</td>\n",
       "      <td>Female</td>\n",
       "      <td>felony</td>\n",
       "      <td>Property</td>\n",
       "      <td>Theft</td>\n",
       "      <td>Yes</td>\n",
       "    </tr>\n",
       "    <tr>\n",
       "      <th>...</th>\n",
       "      <td>...</td>\n",
       "      <td>...</td>\n",
       "      <td>...</td>\n",
       "      <td>...</td>\n",
       "      <td>...</td>\n",
       "      <td>...</td>\n",
       "      <td>...</td>\n",
       "      <td>...</td>\n",
       "      <td>...</td>\n",
       "    </tr>\n",
       "    <tr>\n",
       "      <th>10643</th>\n",
       "      <td>3JD</td>\n",
       "      <td>parole</td>\n",
       "      <td>Black - Non-Hispanic</td>\n",
       "      <td>25-34</td>\n",
       "      <td>Male</td>\n",
       "      <td>felony</td>\n",
       "      <td>Drug</td>\n",
       "      <td>Trafficking</td>\n",
       "      <td>Yes</td>\n",
       "    </tr>\n",
       "    <tr>\n",
       "      <th>24019</th>\n",
       "      <td>8JD</td>\n",
       "      <td>parole</td>\n",
       "      <td>White - Non-Hispanic</td>\n",
       "      <td>25-34</td>\n",
       "      <td>Male</td>\n",
       "      <td>felony</td>\n",
       "      <td>Violent</td>\n",
       "      <td>Sex</td>\n",
       "      <td>No</td>\n",
       "    </tr>\n",
       "    <tr>\n",
       "      <th>8802</th>\n",
       "      <td>2JD</td>\n",
       "      <td>parole</td>\n",
       "      <td>White - Non-Hispanic</td>\n",
       "      <td>35-44</td>\n",
       "      <td>Male</td>\n",
       "      <td>felony</td>\n",
       "      <td>Violent</td>\n",
       "      <td>Murder/Manslaughter</td>\n",
       "      <td>Yes</td>\n",
       "    </tr>\n",
       "    <tr>\n",
       "      <th>10091</th>\n",
       "      <td>None</td>\n",
       "      <td>discharged</td>\n",
       "      <td>White - Non-Hispanic</td>\n",
       "      <td>25-34</td>\n",
       "      <td>Male</td>\n",
       "      <td>felony</td>\n",
       "      <td>Drug</td>\n",
       "      <td>Drug Possession</td>\n",
       "      <td>No</td>\n",
       "    </tr>\n",
       "    <tr>\n",
       "      <th>13947</th>\n",
       "      <td>1JD</td>\n",
       "      <td>parole</td>\n",
       "      <td>Black - Non-Hispanic</td>\n",
       "      <td>25-34</td>\n",
       "      <td>Female</td>\n",
       "      <td>felony</td>\n",
       "      <td>Drug</td>\n",
       "      <td>Trafficking</td>\n",
       "      <td>Yes</td>\n",
       "    </tr>\n",
       "  </tbody>\n",
       "</table>\n",
       "<p>17924 rows × 9 columns</p>\n",
       "</div>"
      ],
      "text/plain": [
       "      Main Supervising District      Release Type      Race - Ethnicity  \\\n",
       "9317                        5JD            parole  White - Non-Hispanic   \n",
       "14081                       6JD  special sentence  White - Non-Hispanic   \n",
       "20056                       1JD            parole      White - Hispanic   \n",
       "12682                       4JD            parole  White - Non-Hispanic   \n",
       "9543                        7JD            parole      White - Hispanic   \n",
       "...                         ...               ...                   ...   \n",
       "10643                       3JD            parole  Black - Non-Hispanic   \n",
       "24019                       8JD            parole  White - Non-Hispanic   \n",
       "8802                        2JD            parole  White - Non-Hispanic   \n",
       "10091                      None        discharged  White - Non-Hispanic   \n",
       "13947                       1JD            parole  Black - Non-Hispanic   \n",
       "\n",
       "      Age At Release      Sex Offense Classification  Offense Type  \\\n",
       "9317            25-34    Male                 felony       Violent   \n",
       "14081           25-34    Male                  other       Violent   \n",
       "20056           25-34    Male                 felony      Property   \n",
       "12682           35-44    Male            misdemeanor  Public Order   \n",
       "9543            25-34  Female                 felony      Property   \n",
       "...               ...     ...                    ...           ...   \n",
       "10643           25-34    Male                 felony          Drug   \n",
       "24019           25-34    Male                 felony       Violent   \n",
       "8802            35-44    Male                 felony       Violent   \n",
       "10091           25-34    Male                 felony          Drug   \n",
       "13947           25-34  Female                 felony          Drug   \n",
       "\n",
       "           Offense Subtype Target Population  \n",
       "9317                   Sex               Yes  \n",
       "14081                  Sex               Yes  \n",
       "20056             Burglary                No  \n",
       "12682              Traffic               Yes  \n",
       "9543                 Theft               Yes  \n",
       "...                    ...               ...  \n",
       "10643          Trafficking               Yes  \n",
       "24019                  Sex                No  \n",
       "8802   Murder/Manslaughter               Yes  \n",
       "10091      Drug Possession                No  \n",
       "13947          Trafficking               Yes  \n",
       "\n",
       "[17924 rows x 9 columns]"
      ]
     },
     "execution_count": 19,
     "metadata": {},
     "output_type": "execute_result"
    }
   ],
   "source": [
    "X_train_clean"
   ]
  },
  {
   "cell_type": "code",
   "execution_count": 131,
   "metadata": {},
   "outputs": [],
   "source": [
    "# Test for multicolinearity\n",
    "cols = list(X_train_clean.columns)\n",
    "x_train_clean_ohe = pd.get_dummies(X_train_clean, prefix=cols, sparse=False, drop_first=True)\n",
    "training_data = pd.concat([y_train, x_train_clean_ohe], axis=1)"
   ]
  },
  {
   "cell_type": "code",
   "execution_count": 132,
   "metadata": {},
   "outputs": [
    {
     "data": {
      "text/html": [
       "<div>\n",
       "<style scoped>\n",
       "    .dataframe tbody tr th:only-of-type {\n",
       "        vertical-align: middle;\n",
       "    }\n",
       "\n",
       "    .dataframe tbody tr th {\n",
       "        vertical-align: top;\n",
       "    }\n",
       "\n",
       "    .dataframe thead th {\n",
       "        text-align: right;\n",
       "    }\n",
       "</style>\n",
       "<table border=\"1\" class=\"dataframe\">\n",
       "  <thead>\n",
       "    <tr style=\"text-align: right;\">\n",
       "      <th></th>\n",
       "      <th>Return_to_Prison</th>\n",
       "      <th>Main_Supervising_District_2JD</th>\n",
       "      <th>Main_Supervising_District_3JD</th>\n",
       "      <th>Main_Supervising_District_4JD</th>\n",
       "      <th>Main_Supervising_District_5JD</th>\n",
       "      <th>Main_Supervising_District_6JD</th>\n",
       "      <th>Main_Supervising_District_7JD</th>\n",
       "      <th>Main_Supervising_District_8JD</th>\n",
       "      <th>Main_Supervising_District_ISC</th>\n",
       "      <th>Main_Supervising_District_Interstate_Compact</th>\n",
       "      <th>...</th>\n",
       "      <th>Offense_Subtype_Other_Violent</th>\n",
       "      <th>Offense_Subtype_Robbery</th>\n",
       "      <th>Offense_Subtype_Sex</th>\n",
       "      <th>Offense_Subtype_Sex_Offender_Registry/Residency</th>\n",
       "      <th>Offense_Subtype_Theft</th>\n",
       "      <th>Offense_Subtype_Traffic</th>\n",
       "      <th>Offense_Subtype_Trafficking</th>\n",
       "      <th>Offense_Subtype_Vandalism</th>\n",
       "      <th>Offense_Subtype_Weapons</th>\n",
       "      <th>Target_Population_Yes</th>\n",
       "    </tr>\n",
       "  </thead>\n",
       "  <tbody>\n",
       "    <tr>\n",
       "      <th>9317</th>\n",
       "      <td>1</td>\n",
       "      <td>0</td>\n",
       "      <td>0</td>\n",
       "      <td>0</td>\n",
       "      <td>1</td>\n",
       "      <td>0</td>\n",
       "      <td>0</td>\n",
       "      <td>0</td>\n",
       "      <td>0</td>\n",
       "      <td>0</td>\n",
       "      <td>...</td>\n",
       "      <td>0</td>\n",
       "      <td>0</td>\n",
       "      <td>1</td>\n",
       "      <td>0</td>\n",
       "      <td>0</td>\n",
       "      <td>0</td>\n",
       "      <td>0</td>\n",
       "      <td>0</td>\n",
       "      <td>0</td>\n",
       "      <td>1</td>\n",
       "    </tr>\n",
       "    <tr>\n",
       "      <th>14081</th>\n",
       "      <td>1</td>\n",
       "      <td>0</td>\n",
       "      <td>0</td>\n",
       "      <td>0</td>\n",
       "      <td>0</td>\n",
       "      <td>1</td>\n",
       "      <td>0</td>\n",
       "      <td>0</td>\n",
       "      <td>0</td>\n",
       "      <td>0</td>\n",
       "      <td>...</td>\n",
       "      <td>0</td>\n",
       "      <td>0</td>\n",
       "      <td>1</td>\n",
       "      <td>0</td>\n",
       "      <td>0</td>\n",
       "      <td>0</td>\n",
       "      <td>0</td>\n",
       "      <td>0</td>\n",
       "      <td>0</td>\n",
       "      <td>1</td>\n",
       "    </tr>\n",
       "    <tr>\n",
       "      <th>20056</th>\n",
       "      <td>0</td>\n",
       "      <td>0</td>\n",
       "      <td>0</td>\n",
       "      <td>0</td>\n",
       "      <td>0</td>\n",
       "      <td>0</td>\n",
       "      <td>0</td>\n",
       "      <td>0</td>\n",
       "      <td>0</td>\n",
       "      <td>0</td>\n",
       "      <td>...</td>\n",
       "      <td>0</td>\n",
       "      <td>0</td>\n",
       "      <td>0</td>\n",
       "      <td>0</td>\n",
       "      <td>0</td>\n",
       "      <td>0</td>\n",
       "      <td>0</td>\n",
       "      <td>0</td>\n",
       "      <td>0</td>\n",
       "      <td>0</td>\n",
       "    </tr>\n",
       "    <tr>\n",
       "      <th>12682</th>\n",
       "      <td>1</td>\n",
       "      <td>0</td>\n",
       "      <td>0</td>\n",
       "      <td>1</td>\n",
       "      <td>0</td>\n",
       "      <td>0</td>\n",
       "      <td>0</td>\n",
       "      <td>0</td>\n",
       "      <td>0</td>\n",
       "      <td>0</td>\n",
       "      <td>...</td>\n",
       "      <td>0</td>\n",
       "      <td>0</td>\n",
       "      <td>0</td>\n",
       "      <td>0</td>\n",
       "      <td>0</td>\n",
       "      <td>1</td>\n",
       "      <td>0</td>\n",
       "      <td>0</td>\n",
       "      <td>0</td>\n",
       "      <td>1</td>\n",
       "    </tr>\n",
       "    <tr>\n",
       "      <th>9543</th>\n",
       "      <td>0</td>\n",
       "      <td>0</td>\n",
       "      <td>0</td>\n",
       "      <td>0</td>\n",
       "      <td>0</td>\n",
       "      <td>0</td>\n",
       "      <td>1</td>\n",
       "      <td>0</td>\n",
       "      <td>0</td>\n",
       "      <td>0</td>\n",
       "      <td>...</td>\n",
       "      <td>0</td>\n",
       "      <td>0</td>\n",
       "      <td>0</td>\n",
       "      <td>0</td>\n",
       "      <td>1</td>\n",
       "      <td>0</td>\n",
       "      <td>0</td>\n",
       "      <td>0</td>\n",
       "      <td>0</td>\n",
       "      <td>1</td>\n",
       "    </tr>\n",
       "    <tr>\n",
       "      <th>...</th>\n",
       "      <td>...</td>\n",
       "      <td>...</td>\n",
       "      <td>...</td>\n",
       "      <td>...</td>\n",
       "      <td>...</td>\n",
       "      <td>...</td>\n",
       "      <td>...</td>\n",
       "      <td>...</td>\n",
       "      <td>...</td>\n",
       "      <td>...</td>\n",
       "      <td>...</td>\n",
       "      <td>...</td>\n",
       "      <td>...</td>\n",
       "      <td>...</td>\n",
       "      <td>...</td>\n",
       "      <td>...</td>\n",
       "      <td>...</td>\n",
       "      <td>...</td>\n",
       "      <td>...</td>\n",
       "      <td>...</td>\n",
       "      <td>...</td>\n",
       "    </tr>\n",
       "    <tr>\n",
       "      <th>10643</th>\n",
       "      <td>0</td>\n",
       "      <td>0</td>\n",
       "      <td>1</td>\n",
       "      <td>0</td>\n",
       "      <td>0</td>\n",
       "      <td>0</td>\n",
       "      <td>0</td>\n",
       "      <td>0</td>\n",
       "      <td>0</td>\n",
       "      <td>0</td>\n",
       "      <td>...</td>\n",
       "      <td>0</td>\n",
       "      <td>0</td>\n",
       "      <td>0</td>\n",
       "      <td>0</td>\n",
       "      <td>0</td>\n",
       "      <td>0</td>\n",
       "      <td>1</td>\n",
       "      <td>0</td>\n",
       "      <td>0</td>\n",
       "      <td>1</td>\n",
       "    </tr>\n",
       "    <tr>\n",
       "      <th>24019</th>\n",
       "      <td>1</td>\n",
       "      <td>0</td>\n",
       "      <td>0</td>\n",
       "      <td>0</td>\n",
       "      <td>0</td>\n",
       "      <td>0</td>\n",
       "      <td>0</td>\n",
       "      <td>1</td>\n",
       "      <td>0</td>\n",
       "      <td>0</td>\n",
       "      <td>...</td>\n",
       "      <td>0</td>\n",
       "      <td>0</td>\n",
       "      <td>1</td>\n",
       "      <td>0</td>\n",
       "      <td>0</td>\n",
       "      <td>0</td>\n",
       "      <td>0</td>\n",
       "      <td>0</td>\n",
       "      <td>0</td>\n",
       "      <td>0</td>\n",
       "    </tr>\n",
       "    <tr>\n",
       "      <th>8802</th>\n",
       "      <td>1</td>\n",
       "      <td>1</td>\n",
       "      <td>0</td>\n",
       "      <td>0</td>\n",
       "      <td>0</td>\n",
       "      <td>0</td>\n",
       "      <td>0</td>\n",
       "      <td>0</td>\n",
       "      <td>0</td>\n",
       "      <td>0</td>\n",
       "      <td>...</td>\n",
       "      <td>0</td>\n",
       "      <td>0</td>\n",
       "      <td>0</td>\n",
       "      <td>0</td>\n",
       "      <td>0</td>\n",
       "      <td>0</td>\n",
       "      <td>0</td>\n",
       "      <td>0</td>\n",
       "      <td>0</td>\n",
       "      <td>1</td>\n",
       "    </tr>\n",
       "    <tr>\n",
       "      <th>10091</th>\n",
       "      <td>0</td>\n",
       "      <td>0</td>\n",
       "      <td>0</td>\n",
       "      <td>0</td>\n",
       "      <td>0</td>\n",
       "      <td>0</td>\n",
       "      <td>0</td>\n",
       "      <td>0</td>\n",
       "      <td>0</td>\n",
       "      <td>0</td>\n",
       "      <td>...</td>\n",
       "      <td>0</td>\n",
       "      <td>0</td>\n",
       "      <td>0</td>\n",
       "      <td>0</td>\n",
       "      <td>0</td>\n",
       "      <td>0</td>\n",
       "      <td>0</td>\n",
       "      <td>0</td>\n",
       "      <td>0</td>\n",
       "      <td>0</td>\n",
       "    </tr>\n",
       "    <tr>\n",
       "      <th>13947</th>\n",
       "      <td>1</td>\n",
       "      <td>0</td>\n",
       "      <td>0</td>\n",
       "      <td>0</td>\n",
       "      <td>0</td>\n",
       "      <td>0</td>\n",
       "      <td>0</td>\n",
       "      <td>0</td>\n",
       "      <td>0</td>\n",
       "      <td>0</td>\n",
       "      <td>...</td>\n",
       "      <td>0</td>\n",
       "      <td>0</td>\n",
       "      <td>0</td>\n",
       "      <td>0</td>\n",
       "      <td>0</td>\n",
       "      <td>0</td>\n",
       "      <td>1</td>\n",
       "      <td>0</td>\n",
       "      <td>0</td>\n",
       "      <td>1</td>\n",
       "    </tr>\n",
       "  </tbody>\n",
       "</table>\n",
       "<p>17924 rows × 48 columns</p>\n",
       "</div>"
      ],
      "text/plain": [
       "       Return_to_Prison  Main_Supervising_District_2JD  \\\n",
       "9317                  1                              0   \n",
       "14081                 1                              0   \n",
       "20056                 0                              0   \n",
       "12682                 1                              0   \n",
       "9543                  0                              0   \n",
       "...                 ...                            ...   \n",
       "10643                 0                              0   \n",
       "24019                 1                              0   \n",
       "8802                  1                              1   \n",
       "10091                 0                              0   \n",
       "13947                 1                              0   \n",
       "\n",
       "       Main_Supervising_District_3JD  Main_Supervising_District_4JD  \\\n",
       "9317                               0                              0   \n",
       "14081                              0                              0   \n",
       "20056                              0                              0   \n",
       "12682                              0                              1   \n",
       "9543                               0                              0   \n",
       "...                              ...                            ...   \n",
       "10643                              1                              0   \n",
       "24019                              0                              0   \n",
       "8802                               0                              0   \n",
       "10091                              0                              0   \n",
       "13947                              0                              0   \n",
       "\n",
       "       Main_Supervising_District_5JD  Main_Supervising_District_6JD  \\\n",
       "9317                               1                              0   \n",
       "14081                              0                              1   \n",
       "20056                              0                              0   \n",
       "12682                              0                              0   \n",
       "9543                               0                              0   \n",
       "...                              ...                            ...   \n",
       "10643                              0                              0   \n",
       "24019                              0                              0   \n",
       "8802                               0                              0   \n",
       "10091                              0                              0   \n",
       "13947                              0                              0   \n",
       "\n",
       "       Main_Supervising_District_7JD  Main_Supervising_District_8JD  \\\n",
       "9317                               0                              0   \n",
       "14081                              0                              0   \n",
       "20056                              0                              0   \n",
       "12682                              0                              0   \n",
       "9543                               1                              0   \n",
       "...                              ...                            ...   \n",
       "10643                              0                              0   \n",
       "24019                              0                              1   \n",
       "8802                               0                              0   \n",
       "10091                              0                              0   \n",
       "13947                              0                              0   \n",
       "\n",
       "       Main_Supervising_District_ISC  \\\n",
       "9317                               0   \n",
       "14081                              0   \n",
       "20056                              0   \n",
       "12682                              0   \n",
       "9543                               0   \n",
       "...                              ...   \n",
       "10643                              0   \n",
       "24019                              0   \n",
       "8802                               0   \n",
       "10091                              0   \n",
       "13947                              0   \n",
       "\n",
       "       Main_Supervising_District_Interstate_Compact  ...  \\\n",
       "9317                                              0  ...   \n",
       "14081                                             0  ...   \n",
       "20056                                             0  ...   \n",
       "12682                                             0  ...   \n",
       "9543                                              0  ...   \n",
       "...                                             ...  ...   \n",
       "10643                                             0  ...   \n",
       "24019                                             0  ...   \n",
       "8802                                              0  ...   \n",
       "10091                                             0  ...   \n",
       "13947                                             0  ...   \n",
       "\n",
       "       Offense_Subtype_Other_Violent  Offense_Subtype_Robbery  \\\n",
       "9317                               0                        0   \n",
       "14081                              0                        0   \n",
       "20056                              0                        0   \n",
       "12682                              0                        0   \n",
       "9543                               0                        0   \n",
       "...                              ...                      ...   \n",
       "10643                              0                        0   \n",
       "24019                              0                        0   \n",
       "8802                               0                        0   \n",
       "10091                              0                        0   \n",
       "13947                              0                        0   \n",
       "\n",
       "       Offense_Subtype_Sex  Offense_Subtype_Sex_Offender_Registry/Residency  \\\n",
       "9317                     1                                                0   \n",
       "14081                    1                                                0   \n",
       "20056                    0                                                0   \n",
       "12682                    0                                                0   \n",
       "9543                     0                                                0   \n",
       "...                    ...                                              ...   \n",
       "10643                    0                                                0   \n",
       "24019                    1                                                0   \n",
       "8802                     0                                                0   \n",
       "10091                    0                                                0   \n",
       "13947                    0                                                0   \n",
       "\n",
       "       Offense_Subtype_Theft  Offense_Subtype_Traffic  \\\n",
       "9317                       0                        0   \n",
       "14081                      0                        0   \n",
       "20056                      0                        0   \n",
       "12682                      0                        1   \n",
       "9543                       1                        0   \n",
       "...                      ...                      ...   \n",
       "10643                      0                        0   \n",
       "24019                      0                        0   \n",
       "8802                       0                        0   \n",
       "10091                      0                        0   \n",
       "13947                      0                        0   \n",
       "\n",
       "       Offense_Subtype_Trafficking  Offense_Subtype_Vandalism  \\\n",
       "9317                             0                          0   \n",
       "14081                            0                          0   \n",
       "20056                            0                          0   \n",
       "12682                            0                          0   \n",
       "9543                             0                          0   \n",
       "...                            ...                        ...   \n",
       "10643                            1                          0   \n",
       "24019                            0                          0   \n",
       "8802                             0                          0   \n",
       "10091                            0                          0   \n",
       "13947                            1                          0   \n",
       "\n",
       "       Offense_Subtype_Weapons  Target_Population_Yes  \n",
       "9317                         0                      1  \n",
       "14081                        0                      1  \n",
       "20056                        0                      0  \n",
       "12682                        0                      1  \n",
       "9543                         0                      1  \n",
       "...                        ...                    ...  \n",
       "10643                        0                      1  \n",
       "24019                        0                      0  \n",
       "8802                         0                      1  \n",
       "10091                        0                      0  \n",
       "13947                        0                      1  \n",
       "\n",
       "[17924 rows x 48 columns]"
      ]
     },
     "execution_count": 132,
     "metadata": {},
     "output_type": "execute_result"
    }
   ],
   "source": [
    "training_data.columns = training_data.columns.str.replace(' ','_')\n",
    "training_data"
   ]
  },
  {
   "cell_type": "markdown",
   "metadata": {},
   "source": [
    "### Model Iterations"
   ]
  },
  {
   "cell_type": "code",
   "execution_count": 20,
   "metadata": {},
   "outputs": [],
   "source": [
    "def print_cv_scores(pipe, X, y):\n",
    "    '''\n",
    "    Runs cross_validate on given feature and multiclass target arrays using given pipeline, \n",
    "    printing the scoring results for both training and cross_val.\n",
    "    '''\n",
    "    scoring = ['accuracy','precision_macro', 'recall_macro', 'f1_macro']\n",
    "    # we pass in pipe to cross validate along with a feature list.\n",
    "    results = cross_validate(pipe, X, \n",
    "                                   y, \n",
    "                                   return_train_score=True, scoring=scoring)\n",
    "    \n",
    "    print(results['train_accuracy'])\n",
    "    print('Training Accuracy', results['train_accuracy'].mean())\n",
    "    print('##############')\n",
    "    print(results['test_accuracy'])\n",
    "    print('Cross_Val Accuracy', results['test_accuracy'].mean())\n",
    "    print('##############')\n",
    "    print('Training Macro Precision:', results['train_precision_macro'].mean())\n",
    "    print('Cross_Val Macro Precision:', results['test_precision_macro'].mean())\n",
    "    print('##############')\n",
    "    print('Training Macro Recall:', results['train_recall_macro'].mean())\n",
    "    print('Cross_Val Macro Recall:', results['test_recall_macro'].mean())\n",
    "    print('##############')\n",
    "    print('Training Macro F1:', results['train_f1_macro'].mean())\n",
    "    print('Cross_Val Macro F1:', results['test_f1_macro'].mean())"
   ]
  },
  {
   "cell_type": "markdown",
   "metadata": {},
   "source": [
    "### Dummy classifier"
   ]
  },
  {
   "cell_type": "code",
   "execution_count": 21,
   "metadata": {},
   "outputs": [],
   "source": [
    "dummy_pipe = Pipeline(steps=[\n",
    "    (\"ohe\", OneHotEncoder(drop='first', sparse=False)),\n",
    "    ('dc', DummyClassifier(strategy='most_frequent'))])"
   ]
  },
  {
   "cell_type": "code",
   "execution_count": 22,
   "metadata": {},
   "outputs": [
    {
     "data": {
      "text/html": [
       "<style>#sk-container-id-1 {color: black;background-color: white;}#sk-container-id-1 pre{padding: 0;}#sk-container-id-1 div.sk-toggleable {background-color: white;}#sk-container-id-1 label.sk-toggleable__label {cursor: pointer;display: block;width: 100%;margin-bottom: 0;padding: 0.3em;box-sizing: border-box;text-align: center;}#sk-container-id-1 label.sk-toggleable__label-arrow:before {content: \"▸\";float: left;margin-right: 0.25em;color: #696969;}#sk-container-id-1 label.sk-toggleable__label-arrow:hover:before {color: black;}#sk-container-id-1 div.sk-estimator:hover label.sk-toggleable__label-arrow:before {color: black;}#sk-container-id-1 div.sk-toggleable__content {max-height: 0;max-width: 0;overflow: hidden;text-align: left;background-color: #f0f8ff;}#sk-container-id-1 div.sk-toggleable__content pre {margin: 0.2em;color: black;border-radius: 0.25em;background-color: #f0f8ff;}#sk-container-id-1 input.sk-toggleable__control:checked~div.sk-toggleable__content {max-height: 200px;max-width: 100%;overflow: auto;}#sk-container-id-1 input.sk-toggleable__control:checked~label.sk-toggleable__label-arrow:before {content: \"▾\";}#sk-container-id-1 div.sk-estimator input.sk-toggleable__control:checked~label.sk-toggleable__label {background-color: #d4ebff;}#sk-container-id-1 div.sk-label input.sk-toggleable__control:checked~label.sk-toggleable__label {background-color: #d4ebff;}#sk-container-id-1 input.sk-hidden--visually {border: 0;clip: rect(1px 1px 1px 1px);clip: rect(1px, 1px, 1px, 1px);height: 1px;margin: -1px;overflow: hidden;padding: 0;position: absolute;width: 1px;}#sk-container-id-1 div.sk-estimator {font-family: monospace;background-color: #f0f8ff;border: 1px dotted black;border-radius: 0.25em;box-sizing: border-box;margin-bottom: 0.5em;}#sk-container-id-1 div.sk-estimator:hover {background-color: #d4ebff;}#sk-container-id-1 div.sk-parallel-item::after {content: \"\";width: 100%;border-bottom: 1px solid gray;flex-grow: 1;}#sk-container-id-1 div.sk-label:hover label.sk-toggleable__label {background-color: #d4ebff;}#sk-container-id-1 div.sk-serial::before {content: \"\";position: absolute;border-left: 1px solid gray;box-sizing: border-box;top: 0;bottom: 0;left: 50%;z-index: 0;}#sk-container-id-1 div.sk-serial {display: flex;flex-direction: column;align-items: center;background-color: white;padding-right: 0.2em;padding-left: 0.2em;position: relative;}#sk-container-id-1 div.sk-item {position: relative;z-index: 1;}#sk-container-id-1 div.sk-parallel {display: flex;align-items: stretch;justify-content: center;background-color: white;position: relative;}#sk-container-id-1 div.sk-item::before, #sk-container-id-1 div.sk-parallel-item::before {content: \"\";position: absolute;border-left: 1px solid gray;box-sizing: border-box;top: 0;bottom: 0;left: 50%;z-index: -1;}#sk-container-id-1 div.sk-parallel-item {display: flex;flex-direction: column;z-index: 1;position: relative;background-color: white;}#sk-container-id-1 div.sk-parallel-item:first-child::after {align-self: flex-end;width: 50%;}#sk-container-id-1 div.sk-parallel-item:last-child::after {align-self: flex-start;width: 50%;}#sk-container-id-1 div.sk-parallel-item:only-child::after {width: 0;}#sk-container-id-1 div.sk-dashed-wrapped {border: 1px dashed gray;margin: 0 0.4em 0.5em 0.4em;box-sizing: border-box;padding-bottom: 0.4em;background-color: white;}#sk-container-id-1 div.sk-label label {font-family: monospace;font-weight: bold;display: inline-block;line-height: 1.2em;}#sk-container-id-1 div.sk-label-container {text-align: center;}#sk-container-id-1 div.sk-container {/* jupyter's `normalize.less` sets `[hidden] { display: none; }` but bootstrap.min.css set `[hidden] { display: none !important; }` so we also need the `!important` here to be able to override the default hidden behavior on the sphinx rendered scikit-learn.org. See: https://github.com/scikit-learn/scikit-learn/issues/21755 */display: inline-block !important;position: relative;}#sk-container-id-1 div.sk-text-repr-fallback {display: none;}</style><div id=\"sk-container-id-1\" class=\"sk-top-container\"><div class=\"sk-text-repr-fallback\"><pre>Pipeline(steps=[(&#x27;ohe&#x27;, OneHotEncoder(drop=&#x27;first&#x27;, sparse=False)),\n",
       "                (&#x27;dc&#x27;, DummyClassifier(strategy=&#x27;most_frequent&#x27;))])</pre><b>In a Jupyter environment, please rerun this cell to show the HTML representation or trust the notebook. <br />On GitHub, the HTML representation is unable to render, please try loading this page with nbviewer.org.</b></div><div class=\"sk-container\" hidden><div class=\"sk-item sk-dashed-wrapped\"><div class=\"sk-label-container\"><div class=\"sk-label sk-toggleable\"><input class=\"sk-toggleable__control sk-hidden--visually\" id=\"sk-estimator-id-1\" type=\"checkbox\" ><label for=\"sk-estimator-id-1\" class=\"sk-toggleable__label sk-toggleable__label-arrow\">Pipeline</label><div class=\"sk-toggleable__content\"><pre>Pipeline(steps=[(&#x27;ohe&#x27;, OneHotEncoder(drop=&#x27;first&#x27;, sparse=False)),\n",
       "                (&#x27;dc&#x27;, DummyClassifier(strategy=&#x27;most_frequent&#x27;))])</pre></div></div></div><div class=\"sk-serial\"><div class=\"sk-item\"><div class=\"sk-estimator sk-toggleable\"><input class=\"sk-toggleable__control sk-hidden--visually\" id=\"sk-estimator-id-2\" type=\"checkbox\" ><label for=\"sk-estimator-id-2\" class=\"sk-toggleable__label sk-toggleable__label-arrow\">OneHotEncoder</label><div class=\"sk-toggleable__content\"><pre>OneHotEncoder(drop=&#x27;first&#x27;, sparse=False)</pre></div></div></div><div class=\"sk-item\"><div class=\"sk-estimator sk-toggleable\"><input class=\"sk-toggleable__control sk-hidden--visually\" id=\"sk-estimator-id-3\" type=\"checkbox\" ><label for=\"sk-estimator-id-3\" class=\"sk-toggleable__label sk-toggleable__label-arrow\">DummyClassifier</label><div class=\"sk-toggleable__content\"><pre>DummyClassifier(strategy=&#x27;most_frequent&#x27;)</pre></div></div></div></div></div></div></div>"
      ],
      "text/plain": [
       "Pipeline(steps=[('ohe', OneHotEncoder(drop='first', sparse=False)),\n",
       "                ('dc', DummyClassifier(strategy='most_frequent'))])"
      ]
     },
     "execution_count": 22,
     "metadata": {},
     "output_type": "execute_result"
    }
   ],
   "source": [
    "dummy_pipe.fit(X_train_clean, y_train)"
   ]
  },
  {
   "cell_type": "code",
   "execution_count": 23,
   "metadata": {},
   "outputs": [
    {
     "name": "stderr",
     "output_type": "stream",
     "text": [
      "/Users/robertharrow/opt/anaconda3/envs/learn-env/lib/python3.8/site-packages/sklearn/metrics/_classification.py:1327: UndefinedMetricWarning: Precision is ill-defined and being set to 0.0 in labels with no predicted samples. Use `zero_division` parameter to control this behavior.\n",
      "  _warn_prf(average, modifier, msg_start, len(result))\n",
      "/Users/robertharrow/opt/anaconda3/envs/learn-env/lib/python3.8/site-packages/sklearn/metrics/_classification.py:1327: UndefinedMetricWarning: Precision is ill-defined and being set to 0.0 in labels with no predicted samples. Use `zero_division` parameter to control this behavior.\n",
      "  _warn_prf(average, modifier, msg_start, len(result))\n",
      "/Users/robertharrow/opt/anaconda3/envs/learn-env/lib/python3.8/site-packages/sklearn/metrics/_classification.py:1327: UndefinedMetricWarning: Precision is ill-defined and being set to 0.0 in labels with no predicted samples. Use `zero_division` parameter to control this behavior.\n",
      "  _warn_prf(average, modifier, msg_start, len(result))\n",
      "/Users/robertharrow/opt/anaconda3/envs/learn-env/lib/python3.8/site-packages/sklearn/metrics/_classification.py:1327: UndefinedMetricWarning: Precision is ill-defined and being set to 0.0 in labels with no predicted samples. Use `zero_division` parameter to control this behavior.\n",
      "  _warn_prf(average, modifier, msg_start, len(result))\n",
      "/Users/robertharrow/opt/anaconda3/envs/learn-env/lib/python3.8/site-packages/sklearn/metrics/_classification.py:1327: UndefinedMetricWarning: Precision is ill-defined and being set to 0.0 in labels with no predicted samples. Use `zero_division` parameter to control this behavior.\n",
      "  _warn_prf(average, modifier, msg_start, len(result))\n"
     ]
    },
    {
     "name": "stdout",
     "output_type": "stream",
     "text": [
      "[0.65604296 0.65597322 0.65597322 0.65597322 0.65599721]\n",
      "Training Accuracy 0.6559919660058499\n",
      "##############\n",
      "[0.65578801 0.65606695 0.65606695 0.65606695 0.65597098]\n",
      "Cross_Val Accuracy 0.6559919649083483\n",
      "##############\n",
      "Training Macro Precision: 0.32799598300292493\n",
      "Cross_Val Macro Precision: 0.32799598245417416\n",
      "##############\n",
      "Training Macro Recall: 0.5\n",
      "Cross_Val Macro Recall: 0.5\n",
      "##############\n",
      "Training Macro F1: 0.3961323359071151\n",
      "Cross_Val Macro F1: 0.3961323330746046\n"
     ]
    },
    {
     "name": "stderr",
     "output_type": "stream",
     "text": [
      "/Users/robertharrow/opt/anaconda3/envs/learn-env/lib/python3.8/site-packages/sklearn/metrics/_classification.py:1327: UndefinedMetricWarning: Precision is ill-defined and being set to 0.0 in labels with no predicted samples. Use `zero_division` parameter to control this behavior.\n",
      "  _warn_prf(average, modifier, msg_start, len(result))\n",
      "/Users/robertharrow/opt/anaconda3/envs/learn-env/lib/python3.8/site-packages/sklearn/metrics/_classification.py:1327: UndefinedMetricWarning: Precision is ill-defined and being set to 0.0 in labels with no predicted samples. Use `zero_division` parameter to control this behavior.\n",
      "  _warn_prf(average, modifier, msg_start, len(result))\n",
      "/Users/robertharrow/opt/anaconda3/envs/learn-env/lib/python3.8/site-packages/sklearn/metrics/_classification.py:1327: UndefinedMetricWarning: Precision is ill-defined and being set to 0.0 in labels with no predicted samples. Use `zero_division` parameter to control this behavior.\n",
      "  _warn_prf(average, modifier, msg_start, len(result))\n",
      "/Users/robertharrow/opt/anaconda3/envs/learn-env/lib/python3.8/site-packages/sklearn/metrics/_classification.py:1327: UndefinedMetricWarning: Precision is ill-defined and being set to 0.0 in labels with no predicted samples. Use `zero_division` parameter to control this behavior.\n",
      "  _warn_prf(average, modifier, msg_start, len(result))\n",
      "/Users/robertharrow/opt/anaconda3/envs/learn-env/lib/python3.8/site-packages/sklearn/metrics/_classification.py:1327: UndefinedMetricWarning: Precision is ill-defined and being set to 0.0 in labels with no predicted samples. Use `zero_division` parameter to control this behavior.\n",
      "  _warn_prf(average, modifier, msg_start, len(result))\n"
     ]
    }
   ],
   "source": [
    "print_cv_scores(dummy_pipe, X_train_clean, y_train)"
   ]
  },
  {
   "cell_type": "code",
   "execution_count": 24,
   "metadata": {},
   "outputs": [
    {
     "name": "stderr",
     "output_type": "stream",
     "text": [
      "/Users/robertharrow/opt/anaconda3/envs/learn-env/lib/python3.8/site-packages/sklearn/utils/deprecation.py:87: FutureWarning: Function plot_confusion_matrix is deprecated; Function `plot_confusion_matrix` is deprecated in 1.0 and will be removed in 1.2. Use one of the class methods: ConfusionMatrixDisplay.from_predictions or ConfusionMatrixDisplay.from_estimator.\n",
      "  warnings.warn(msg, category=FutureWarning)\n"
     ]
    },
    {
     "data": {
      "text/plain": [
       "<sklearn.metrics._plot.confusion_matrix.ConfusionMatrixDisplay at 0x7f97d98532b0>"
      ]
     },
     "execution_count": 24,
     "metadata": {},
     "output_type": "execute_result"
    },
    {
     "data": {
      "image/png": "[encoded data removed]",
      "text/plain": [
       "<Figure size 432x288 with 2 Axes>"
      ]
     },
     "metadata": {
      "needs_background": "light"
     },
     "output_type": "display_data"
    }
   ],
   "source": [
    "plot_confusion_matrix(dummy_pipe, X_train_clean, y_train)"
   ]
  },
  {
   "cell_type": "markdown",
   "metadata": {},
   "source": [
    "### Logistic Regression classifier\n",
    "#### With SMOTE"
   ]
  },
  {
   "cell_type": "code",
   "execution_count": 25,
   "metadata": {},
   "outputs": [],
   "source": [
    "# lr_param_grid = {\n",
    "#     'lr__penalty': ['none', 'l1'],\n",
    "#     'lr__C': [0.01, 0.1, 1, 10, 1e5],\n",
    "#     'lr__class_weight': [None, 'balanced'],\n",
    "# }\n",
    "\n",
    "# lr1_pipe = imbpipe(steps=[\n",
    "#     (\"ohe\", OneHotEncoder(drop='first', sparse=False)),\n",
    "#     ('sm', SMOTE(random_state=42)),\n",
    "#     ('lr', LogisticRegression(max_iter=1000, random_state=123))\n",
    "# ])\n",
    "\n",
    "# lr1_gridsearch = GridSearchCV(estimator=lr1_pipe, \n",
    "#                           param_grid=lr_param_grid, \n",
    "#                           scoring='recall', \n",
    "#                           cv=5)\n",
    "\n",
    "# # Fit the training data\n",
    "# lr1_gridsearch.fit(X_train_clean, y_train)\n",
    "\n",
    "# # Pickling the model\n",
    "# with open(\"lr1_gridsearch.pkl\", \"wb\") as f:\n",
    "#     joblib.dump(lr1_gridsearch, f)"
   ]
  },
  {
   "cell_type": "code",
   "execution_count": 26,
   "metadata": {},
   "outputs": [],
   "source": [
    "# Reading the pickle file\n",
    "with open('lr1_gridsearch.pkl', 'rb') as f:\n",
    "    lr1_gridsearch = joblib.load(f)"
   ]
  },
  {
   "cell_type": "code",
   "execution_count": 27,
   "metadata": {},
   "outputs": [
    {
     "name": "stdout",
     "output_type": "stream",
     "text": [
      "{'lr__C': 0.01, 'lr__class_weight': None, 'lr__penalty': 'none'}\n"
     ]
    }
   ],
   "source": [
    "print(lr1_gridsearch.best_params_)"
   ]
  },
  {
   "cell_type": "code",
   "execution_count": 28,
   "metadata": {},
   "outputs": [],
   "source": [
    "# # Logistic Regression with best params\n",
    "\n",
    "# lr_pipe2 = imbpipe(steps=[\n",
    "#     (\"ohe\", OneHotEncoder(drop='first', sparse=False)),\n",
    "#     ('sm', SMOTE(random_state=42)),\n",
    "#     ('lr', LogisticRegression(max_iter=1000, class_weight= None, penalty= 'none', random_state=123))\n",
    "# ])\n",
    "\n",
    "# lr_pipe2.fit(X_train_clean, y_train)\n",
    "\n",
    "# with open(\"lr_pipe2.pkl\", \"wb\") as f:\n",
    "#     joblib.dump(lr_pipe2, f)"
   ]
  },
  {
   "cell_type": "code",
   "execution_count": 29,
   "metadata": {},
   "outputs": [],
   "source": [
    "# Reading the pickle file\n",
    "with open('lr_pipe2.pkl', 'rb') as f:\n",
    "    lr_pipe2 = joblib.load(f)"
   ]
  },
  {
   "cell_type": "code",
   "execution_count": 30,
   "metadata": {},
   "outputs": [
    {
     "name": "stdout",
     "output_type": "stream",
     "text": [
      "[0.61113048 0.61154892 0.60882907 0.61231606 0.61080893]\n",
      "Training Accuracy 0.6109266921134517\n",
      "##############\n",
      "[0.60306834 0.59944212 0.62426778 0.6027894  0.59347098]\n",
      "Cross_Val Accuracy 0.6046077250199242\n",
      "##############\n",
      "Training Macro Precision: 0.6138014360323522\n",
      "Cross_Val Macro Precision: 0.6077135794809001\n",
      "##############\n",
      "Training Macro Recall: 0.6260068637295143\n",
      "Cross_Val Macro Recall: 0.6192610141264705\n",
      "##############\n",
      "Training Macro F1: 0.6023178542767303\n",
      "Cross_Val Macro F1: 0.5959621195541788\n"
     ]
    },
    {
     "name": "stderr",
     "output_type": "stream",
     "text": [
      "/Users/robertharrow/opt/anaconda3/envs/learn-env/lib/python3.8/site-packages/sklearn/utils/deprecation.py:87: FutureWarning: Function plot_confusion_matrix is deprecated; Function `plot_confusion_matrix` is deprecated in 1.0 and will be removed in 1.2. Use one of the class methods: ConfusionMatrixDisplay.from_predictions or ConfusionMatrixDisplay.from_estimator.\n",
      "  warnings.warn(msg, category=FutureWarning)\n"
     ]
    },
    {
     "data": {
      "text/plain": [
       "<sklearn.metrics._plot.confusion_matrix.ConfusionMatrixDisplay at 0x7f97de033f40>"
      ]
     },
     "execution_count": 30,
     "metadata": {},
     "output_type": "execute_result"
    },
    {
     "data": {
      "image/png": "[encoded data removed]",
      "text/plain": [
       "<Figure size 432x288 with 2 Axes>"
      ]
     },
     "metadata": {
      "needs_background": "light"
     },
     "output_type": "display_data"
    }
   ],
   "source": [
    "print_cv_scores(lr_pipe2, X_train_clean, y_train)\n",
    "plot_confusion_matrix(lr_pipe2, X_train_clean, y_train)"
   ]
  },
  {
   "cell_type": "markdown",
   "metadata": {},
   "source": [
    "### Logistic Regression Without SMOTE"
   ]
  },
  {
   "cell_type": "code",
   "execution_count": 31,
   "metadata": {},
   "outputs": [],
   "source": [
    "# lr3_pipe = Pipeline(steps=[\n",
    "#     (\"ohe\", OneHotEncoder(drop='first', sparse=False)),\n",
    "#     ('lr', LogisticRegression(max_iter=1000, random_state=123))\n",
    "# ])\n",
    "\n",
    "# lr3_gridsearch = GridSearchCV(estimator=lr3_pipe, \n",
    "#                           param_grid=lr_param_grid, \n",
    "#                           scoring='recall', \n",
    "#                           cv=5)\n",
    "\n",
    "# # Fit the training data\n",
    "# lr3_gridsearch.fit(X_train_clean, y_train)\n",
    "\n",
    "# with open(\"lr3_gridsearch.pkl\", \"wb\") as f:\n",
    "#     joblib.dump(lr3_gridsearch, f)"
   ]
  },
  {
   "cell_type": "code",
   "execution_count": 32,
   "metadata": {},
   "outputs": [],
   "source": [
    "# Reading the pickle file\n",
    "with open('lr3_gridsearch.pkl', 'rb') as f:\n",
    "    lr3_gridsearch = joblib.load(f)"
   ]
  },
  {
   "cell_type": "code",
   "execution_count": 33,
   "metadata": {},
   "outputs": [
    {
     "name": "stdout",
     "output_type": "stream",
     "text": [
      "{'lr__C': 0.01, 'lr__class_weight': 'balanced', 'lr__penalty': 'none'}\n"
     ]
    }
   ],
   "source": [
    "print(lr3_gridsearch.best_params_)"
   ]
  },
  {
   "cell_type": "code",
   "execution_count": 34,
   "metadata": {},
   "outputs": [],
   "source": [
    "# # Logistic Regression with best params no SMOTE\n",
    "\n",
    "# lr_pipe4 = Pipeline(steps=[\n",
    "#     (\"ohe\", OneHotEncoder(drop='first', sparse=False)),\n",
    "#     ('lr', LogisticRegression(max_iter=1000, class_weight= 'balanced', penalty= 'none', random_state=123))\n",
    "# ])\n",
    "\n",
    "# lr_pipe4.fit(X_train_clean, y_train)\n",
    "\n",
    "# with open(\"lr_pipe4.pkl\", \"wb\") as f:\n",
    "#     joblib.dump(lr_pipe4, f)"
   ]
  },
  {
   "cell_type": "code",
   "execution_count": 35,
   "metadata": {},
   "outputs": [],
   "source": [
    "# Reading the pickle file\n",
    "with open('lr_pipe4.pkl', 'rb') as f:\n",
    "    lr_pipe4 = joblib.load(f)"
   ]
  },
  {
   "cell_type": "code",
   "execution_count": 36,
   "metadata": {},
   "outputs": [
    {
     "name": "stdout",
     "output_type": "stream",
     "text": [
      "[0.61210684 0.61078178 0.60401702 0.60917777 0.60983264]\n",
      "Training Accuracy 0.6091832089736247\n",
      "##############\n",
      "[0.59748954 0.60083682 0.61422594 0.60529986 0.5906808 ]\n",
      "Cross_Val Accuracy 0.601706593071329\n",
      "##############\n",
      "Training Macro Precision: 0.615842185728898\n",
      "Cross_Val Macro Precision: 0.6097373556899551\n",
      "##############\n",
      "Training Macro Recall: 0.6281006529858039\n",
      "Cross_Val Macro Recall: 0.6212535263741163\n",
      "##############\n",
      "Training Macro F1: 0.6018840244376363\n",
      "Cross_Val Macro F1: 0.5947207672305692\n"
     ]
    },
    {
     "name": "stderr",
     "output_type": "stream",
     "text": [
      "/Users/robertharrow/opt/anaconda3/envs/learn-env/lib/python3.8/site-packages/sklearn/utils/deprecation.py:87: FutureWarning: Function plot_confusion_matrix is deprecated; Function `plot_confusion_matrix` is deprecated in 1.0 and will be removed in 1.2. Use one of the class methods: ConfusionMatrixDisplay.from_predictions or ConfusionMatrixDisplay.from_estimator.\n",
      "  warnings.warn(msg, category=FutureWarning)\n"
     ]
    },
    {
     "data": {
      "text/plain": [
       "<sklearn.metrics._plot.confusion_matrix.ConfusionMatrixDisplay at 0x7f97df4f40a0>"
      ]
     },
     "execution_count": 36,
     "metadata": {},
     "output_type": "execute_result"
    },
    {
     "data": {
      "image/png": "[encoded data removed]",
      "text/plain": [
       "<Figure size 432x288 with 2 Axes>"
      ]
     },
     "metadata": {
      "needs_background": "light"
     },
     "output_type": "display_data"
    }
   ],
   "source": [
    "print_cv_scores(lr_pipe4, X_train_clean, y_train)\n",
    "plot_confusion_matrix(lr_pipe4, X_train_clean, y_train)"
   ]
  },
  {
   "cell_type": "markdown",
   "metadata": {},
   "source": [
    "### Decision Tree classifier\n",
    "#### With SMOTE"
   ]
  },
  {
   "cell_type": "code",
   "execution_count": 37,
   "metadata": {},
   "outputs": [],
   "source": [
    "# dt1_pipe = imbpipe(steps=[\n",
    "#     (\"ohe\", OneHotEncoder(drop='first', sparse=False)),\n",
    "#     ('sm', SMOTE(random_state=123)),\n",
    "#     ('dt', DecisionTreeClassifier(random_state=123))\n",
    "# ])\n",
    "\n",
    "# dt_param_grid = {\n",
    "#     'dt__criterion': ['gini', 'entropy'],\n",
    "#     'dt__max_depth': [None, 2, 3, 4, 5, 6],\n",
    "#     'dt__min_samples_split': [2, 5, 10],\n",
    "#     'dt__min_samples_leaf': [1, 2, 3, 4, 5, 6]\n",
    "# }\n",
    "\n",
    "# dt_gridsearch = GridSearchCV(estimator=dt1_pipe, \n",
    "#                           param_grid=dt_param_grid, \n",
    "#                           scoring='recall', \n",
    "#                           cv=5)\n",
    "\n",
    "# # Fit the training data\n",
    "# dt_gridsearch.fit(X_train_clean, y_train)\n",
    "\n",
    "# with open(\"dt_gridsearch.pkl\", \"wb\") as f:\n",
    "#     joblib.dump(dt_gridsearch, f)"
   ]
  },
  {
   "cell_type": "code",
   "execution_count": 38,
   "metadata": {},
   "outputs": [],
   "source": [
    "# Reading the pickle file\n",
    "with open('dt_gridsearch.pkl', 'rb') as f:\n",
    "    dt_gridsearch = joblib.load(f)"
   ]
  },
  {
   "cell_type": "code",
   "execution_count": 39,
   "metadata": {},
   "outputs": [
    {
     "name": "stdout",
     "output_type": "stream",
     "text": [
      "{'dt__criterion': 'gini', 'dt__max_depth': 2, 'dt__min_samples_leaf': 1, 'dt__min_samples_split': 2}\n"
     ]
    }
   ],
   "source": [
    "print(dt_gridsearch.best_params_)"
   ]
  },
  {
   "cell_type": "code",
   "execution_count": 40,
   "metadata": {},
   "outputs": [],
   "source": [
    "# # Optimized Decision Tree\n",
    "# dt2_pipe = imbpipe(steps=[\n",
    "#     (\"ohe\", OneHotEncoder(drop='first', sparse=False)),\n",
    "#     ('sm', SMOTE(random_state=123)),\n",
    "#     ('dt', DecisionTreeClassifier(criterion='gini', max_depth = 2, min_samples_leaf = 1, min_samples_split= 2, random_state=123))\n",
    "# ])\n",
    "\n",
    "# dt2_pipe.fit(X_train_clean, y_train)\n",
    "\n",
    "# with open(\"dt2_pipe.pkl\", \"wb\") as f:\n",
    "#     joblib.dump(dt2_pipe, f)"
   ]
  },
  {
   "cell_type": "code",
   "execution_count": 41,
   "metadata": {},
   "outputs": [],
   "source": [
    "# Reading the pickle file\n",
    "with open('dt2_pipe.pkl', 'rb') as f:\n",
    "    dt2_pipe = joblib.load(f)"
   ]
  },
  {
   "cell_type": "code",
   "execution_count": 42,
   "metadata": {},
   "outputs": [
    {
     "name": "stdout",
     "output_type": "stream",
     "text": [
      "[0.5352535  0.53448637 0.53281261 0.53448637 0.53981869]\n",
      "Training Accuracy 0.5353715068179234\n",
      "##############\n",
      "[0.53584379 0.53891213 0.54560669 0.53891213 0.51757812]\n",
      "Cross_Val Accuracy 0.5353705761854951\n",
      "##############\n",
      "Training Macro Precision: 0.5974756622176326\n",
      "Cross_Val Macro Precision: 0.5974480479832799\n",
      "##############\n",
      "Training Macro Recall: 0.5962240865248436\n",
      "Cross_Val Macro Recall: 0.596222374332193\n",
      "##############\n",
      "Training Macro F1: 0.5353322998151281\n",
      "Cross_Val Macro F1: 0.5353126462640463\n"
     ]
    },
    {
     "name": "stderr",
     "output_type": "stream",
     "text": [
      "/Users/robertharrow/opt/anaconda3/envs/learn-env/lib/python3.8/site-packages/sklearn/utils/deprecation.py:87: FutureWarning: Function plot_confusion_matrix is deprecated; Function `plot_confusion_matrix` is deprecated in 1.0 and will be removed in 1.2. Use one of the class methods: ConfusionMatrixDisplay.from_predictions or ConfusionMatrixDisplay.from_estimator.\n",
      "  warnings.warn(msg, category=FutureWarning)\n"
     ]
    },
    {
     "data": {
      "text/plain": [
       "<sklearn.metrics._plot.confusion_matrix.ConfusionMatrixDisplay at 0x7f97de8c7670>"
      ]
     },
     "execution_count": 42,
     "metadata": {},
     "output_type": "execute_result"
    },
    {
     "data": {
      "image/png": "[encoded data removed]",
      "text/plain": [
       "<Figure size 432x288 with 2 Axes>"
      ]
     },
     "metadata": {
      "needs_background": "light"
     },
     "output_type": "display_data"
    }
   ],
   "source": [
    "print_cv_scores(dt2_pipe, X_train_clean, y_train)\n",
    "plot_confusion_matrix(dt2_pipe, X_train_clean, y_train, normalize='true')"
   ]
  },
  {
   "cell_type": "markdown",
   "metadata": {},
   "source": [
    "#### Decision Tree Without SMOTE"
   ]
  },
  {
   "cell_type": "code",
   "execution_count": 43,
   "metadata": {},
   "outputs": [],
   "source": [
    "# dt3_pipe = Pipeline(steps=[\n",
    "#     (\"ohe\", OneHotEncoder(drop='first', sparse=False)),\n",
    "#     ('dt', DecisionTreeClassifier(random_state=123))\n",
    "# ])\n",
    "\n",
    "# dt3_gridsearch = GridSearchCV(estimator=dt3_pipe, \n",
    "#                           param_grid=dt_param_grid, \n",
    "#                           scoring='recall', \n",
    "#                           cv=5)\n",
    "\n",
    "# # Fit the training data\n",
    "# dt3_gridsearch.fit(X_train_clean, y_train)\n",
    "\n",
    "# with open(\"dt3_gridsearch.pkl\", \"wb\") as f:\n",
    "#     joblib.dump(dt3_gridsearch, f)"
   ]
  },
  {
   "cell_type": "code",
   "execution_count": 44,
   "metadata": {},
   "outputs": [],
   "source": [
    "# Reading the pickle file\n",
    "with open('dt3_gridsearch.pkl', 'rb') as f:\n",
    "    dt3_gridsearch = joblib.load(f)"
   ]
  },
  {
   "cell_type": "code",
   "execution_count": 45,
   "metadata": {},
   "outputs": [
    {
     "name": "stdout",
     "output_type": "stream",
     "text": [
      "{'dt__criterion': 'gini', 'dt__max_depth': None, 'dt__min_samples_leaf': 1, 'dt__min_samples_split': 2}\n"
     ]
    }
   ],
   "source": [
    "print(dt3_gridsearch.best_params_)"
   ]
  },
  {
   "cell_type": "code",
   "execution_count": 46,
   "metadata": {},
   "outputs": [],
   "source": [
    "# # Optimized Decision Tree without SMOTE\n",
    "\n",
    "# dt4_pipe = Pipeline(steps=[\n",
    "#     (\"ohe\", OneHotEncoder(drop='first', sparse=False)),\n",
    "#     ('dt', DecisionTreeClassifier(criterion='gini', max_depth = 2, min_samples_leaf = 1, min_samples_split= 2, random_state=123))\n",
    "# ])\n",
    "\n",
    "# dt4_pipe.fit(X_train_clean, y_train)\n",
    "\n",
    "# with open(\"dt4_pipe.pkl\", \"wb\") as f:\n",
    "#     joblib.dump(dt4_pipe, f)"
   ]
  },
  {
   "cell_type": "code",
   "execution_count": 47,
   "metadata": {},
   "outputs": [],
   "source": [
    "# Reading the pickle file\n",
    "with open('dt4_pipe.pkl', 'rb') as f:\n",
    "    dt4_pipe = joblib.load(f)"
   ]
  },
  {
   "cell_type": "code",
   "execution_count": 48,
   "metadata": {},
   "outputs": [
    {
     "name": "stderr",
     "output_type": "stream",
     "text": [
      "/Users/robertharrow/opt/anaconda3/envs/learn-env/lib/python3.8/site-packages/sklearn/metrics/_classification.py:1327: UndefinedMetricWarning: Precision is ill-defined and being set to 0.0 in labels with no predicted samples. Use `zero_division` parameter to control this behavior.\n",
      "  _warn_prf(average, modifier, msg_start, len(result))\n",
      "/Users/robertharrow/opt/anaconda3/envs/learn-env/lib/python3.8/site-packages/sklearn/metrics/_classification.py:1327: UndefinedMetricWarning: Precision is ill-defined and being set to 0.0 in labels with no predicted samples. Use `zero_division` parameter to control this behavior.\n",
      "  _warn_prf(average, modifier, msg_start, len(result))\n",
      "/Users/robertharrow/opt/anaconda3/envs/learn-env/lib/python3.8/site-packages/sklearn/metrics/_classification.py:1327: UndefinedMetricWarning: Precision is ill-defined and being set to 0.0 in labels with no predicted samples. Use `zero_division` parameter to control this behavior.\n",
      "  _warn_prf(average, modifier, msg_start, len(result))\n",
      "/Users/robertharrow/opt/anaconda3/envs/learn-env/lib/python3.8/site-packages/sklearn/metrics/_classification.py:1327: UndefinedMetricWarning: Precision is ill-defined and being set to 0.0 in labels with no predicted samples. Use `zero_division` parameter to control this behavior.\n",
      "  _warn_prf(average, modifier, msg_start, len(result))\n",
      "/Users/robertharrow/opt/anaconda3/envs/learn-env/lib/python3.8/site-packages/sklearn/metrics/_classification.py:1327: UndefinedMetricWarning: Precision is ill-defined and being set to 0.0 in labels with no predicted samples. Use `zero_division` parameter to control this behavior.\n",
      "  _warn_prf(average, modifier, msg_start, len(result))\n",
      "/Users/robertharrow/opt/anaconda3/envs/learn-env/lib/python3.8/site-packages/sklearn/metrics/_classification.py:1327: UndefinedMetricWarning: Precision is ill-defined and being set to 0.0 in labels with no predicted samples. Use `zero_division` parameter to control this behavior.\n",
      "  _warn_prf(average, modifier, msg_start, len(result))\n",
      "/Users/robertharrow/opt/anaconda3/envs/learn-env/lib/python3.8/site-packages/sklearn/metrics/_classification.py:1327: UndefinedMetricWarning: Precision is ill-defined and being set to 0.0 in labels with no predicted samples. Use `zero_division` parameter to control this behavior.\n",
      "  _warn_prf(average, modifier, msg_start, len(result))\n",
      "/Users/robertharrow/opt/anaconda3/envs/learn-env/lib/python3.8/site-packages/sklearn/metrics/_classification.py:1327: UndefinedMetricWarning: Precision is ill-defined and being set to 0.0 in labels with no predicted samples. Use `zero_division` parameter to control this behavior.\n",
      "  _warn_prf(average, modifier, msg_start, len(result))\n",
      "/Users/robertharrow/opt/anaconda3/envs/learn-env/lib/python3.8/site-packages/sklearn/metrics/_classification.py:1327: UndefinedMetricWarning: Precision is ill-defined and being set to 0.0 in labels with no predicted samples. Use `zero_division` parameter to control this behavior.\n",
      "  _warn_prf(average, modifier, msg_start, len(result))\n",
      "/Users/robertharrow/opt/anaconda3/envs/learn-env/lib/python3.8/site-packages/sklearn/metrics/_classification.py:1327: UndefinedMetricWarning: Precision is ill-defined and being set to 0.0 in labels with no predicted samples. Use `zero_division` parameter to control this behavior.\n",
      "  _warn_prf(average, modifier, msg_start, len(result))\n"
     ]
    },
    {
     "name": "stdout",
     "output_type": "stream",
     "text": [
      "[0.65604296 0.65597322 0.65597322 0.65597322 0.65599721]\n",
      "Training Accuracy 0.6559919660058499\n",
      "##############\n",
      "[0.65578801 0.65606695 0.65606695 0.65606695 0.65597098]\n",
      "Cross_Val Accuracy 0.6559919649083483\n",
      "##############\n",
      "Training Macro Precision: 0.32799598300292493\n",
      "Cross_Val Macro Precision: 0.32799598245417416\n",
      "##############\n",
      "Training Macro Recall: 0.5\n",
      "Cross_Val Macro Recall: 0.5\n",
      "##############\n",
      "Training Macro F1: 0.3961323359071151\n",
      "Cross_Val Macro F1: 0.3961323330746046\n"
     ]
    },
    {
     "name": "stderr",
     "output_type": "stream",
     "text": [
      "/Users/robertharrow/opt/anaconda3/envs/learn-env/lib/python3.8/site-packages/sklearn/utils/deprecation.py:87: FutureWarning: Function plot_confusion_matrix is deprecated; Function `plot_confusion_matrix` is deprecated in 1.0 and will be removed in 1.2. Use one of the class methods: ConfusionMatrixDisplay.from_predictions or ConfusionMatrixDisplay.from_estimator.\n",
      "  warnings.warn(msg, category=FutureWarning)\n"
     ]
    },
    {
     "data": {
      "text/plain": [
       "<sklearn.metrics._plot.confusion_matrix.ConfusionMatrixDisplay at 0x7f97df345f40>"
      ]
     },
     "execution_count": 48,
     "metadata": {},
     "output_type": "execute_result"
    },
    {
     "data": {
      "image/png": "[encoded data removed]",
      "text/plain": [
       "<Figure size 432x288 with 2 Axes>"
      ]
     },
     "metadata": {
      "needs_background": "light"
     },
     "output_type": "display_data"
    }
   ],
   "source": [
    "print_cv_scores(dt4_pipe, X_train_clean, y_train)\n",
    "plot_confusion_matrix(dt4_pipe, X_train_clean, y_train, normalize='true')"
   ]
  },
  {
   "cell_type": "markdown",
   "metadata": {},
   "source": [
    "### Random Forest classifier\n",
    "#### With SMOTE"
   ]
  },
  {
   "cell_type": "code",
   "execution_count": 49,
   "metadata": {},
   "outputs": [],
   "source": [
    "# # Searching for the best RF hyperparameters\n",
    "# rf_grid = [{'RF__max_depth': [4, 5, 6], \n",
    "#          'RF__min_samples_split': [2, 5, 10], \n",
    "#          'RF__min_samples_leaf': [1, 3, 5]}]\n",
    "\n",
    "# rf1_pipe = imbpipe(steps=[\n",
    "#     (\"ohe\", OneHotEncoder(drop='first', sparse=False)),\n",
    "#     ('sm', SMOTE(random_state=123)),\n",
    "#     ('RF', RandomForestClassifier(random_state=123))\n",
    "# ])\n",
    "\n",
    "# rf_gridsearch = GridSearchCV(estimator=rf1_pipe, \n",
    "#                           param_grid=rf_grid, \n",
    "#                           scoring='recall', \n",
    "#                           cv=5)\n",
    "\n",
    "# # Fit the training data\n",
    "# rf_gridsearch.fit(X_train_clean, y_train)\n",
    "\n",
    "# with open(\"rf_gridsearch.pkl\", \"wb\") as f:\n",
    "#     joblib.dump(rf_gridsearch, f)"
   ]
  },
  {
   "cell_type": "code",
   "execution_count": 50,
   "metadata": {},
   "outputs": [],
   "source": [
    "# Reading the pickle file\n",
    "with open('rf_gridsearch.pkl', 'rb') as f:\n",
    "    rf_gridsearch = joblib.load(f)"
   ]
  },
  {
   "cell_type": "code",
   "execution_count": 51,
   "metadata": {},
   "outputs": [
    {
     "name": "stdout",
     "output_type": "stream",
     "text": [
      "{'RF__max_depth': 4, 'RF__min_samples_leaf': 5, 'RF__min_samples_split': 2}\n"
     ]
    }
   ],
   "source": [
    "# Print the recall on test set and best params\n",
    "print(rf_gridsearch.best_params_)"
   ]
  },
  {
   "cell_type": "code",
   "execution_count": 52,
   "metadata": {},
   "outputs": [],
   "source": [
    "# # Optimized RT Classifier\n",
    "\n",
    "# rf2_pipe = imbpipe(steps=[\n",
    "#     (\"ohe\", OneHotEncoder(drop='first', sparse=False)),\n",
    "#     ('sm', SMOTE(random_state=123)),\n",
    "#     ('dt',  RandomForestClassifier(max_depth = 4, min_samples_leaf = 1, min_samples_split = 2, random_state=123))\n",
    "# ])\n",
    "\n",
    "# rf2_pipe.fit(X_train_clean, y_train)\n",
    "\n",
    "# with open(\"rf2_pipe.pkl\", \"wb\") as f:\n",
    "#     joblib.dump(rf2_pipe, f)"
   ]
  },
  {
   "cell_type": "code",
   "execution_count": 53,
   "metadata": {},
   "outputs": [],
   "source": [
    "# Reading the pickle file\n",
    "with open('rf2_pipe.pkl', 'rb') as f:\n",
    "    rf2_pipe = joblib.load(f)"
   ]
  },
  {
   "cell_type": "code",
   "execution_count": 54,
   "metadata": {},
   "outputs": [
    {
     "name": "stdout",
     "output_type": "stream",
     "text": [
      "[0.58232792 0.5803752  0.57870144 0.58163052 0.58612273]\n",
      "Training Accuracy 0.5818315625534053\n",
      "##############\n",
      "[0.57266388 0.58242678 0.58437936 0.586053   0.56026786]\n",
      "Cross_Val Accuracy 0.5771581739390317\n",
      "##############\n",
      "Training Macro Precision: 0.6074604948621759\n",
      "Cross_Val Macro Precision: 0.6029015589413442\n",
      "##############\n",
      "Training Macro Recall: 0.6163837307731744\n",
      "Cross_Val Macro Recall: 0.6114125065274509\n",
      "##############\n",
      "Training Macro F1: 0.5790143246955696\n",
      "Cross_Val Macro F1: 0.5743477822827593\n"
     ]
    },
    {
     "name": "stderr",
     "output_type": "stream",
     "text": [
      "/Users/robertharrow/opt/anaconda3/envs/learn-env/lib/python3.8/site-packages/sklearn/utils/deprecation.py:87: FutureWarning: Function plot_confusion_matrix is deprecated; Function `plot_confusion_matrix` is deprecated in 1.0 and will be removed in 1.2. Use one of the class methods: ConfusionMatrixDisplay.from_predictions or ConfusionMatrixDisplay.from_estimator.\n",
      "  warnings.warn(msg, category=FutureWarning)\n"
     ]
    },
    {
     "data": {
      "text/plain": [
       "<sklearn.metrics._plot.confusion_matrix.ConfusionMatrixDisplay at 0x7f97dd0f39d0>"
      ]
     },
     "execution_count": 54,
     "metadata": {},
     "output_type": "execute_result"
    },
    {
     "data": {
      "image/png": "[encoded data removed]",
      "text/plain": [
       "<Figure size 432x288 with 2 Axes>"
      ]
     },
     "metadata": {
      "needs_background": "light"
     },
     "output_type": "display_data"
    }
   ],
   "source": [
    "print_cv_scores(rf2_pipe, X_train_clean, y_train)\n",
    "plot_confusion_matrix(rf2_pipe, X_train_clean, y_train, normalize='true')"
   ]
  },
  {
   "cell_type": "markdown",
   "metadata": {},
   "source": [
    "#### Random Forest without SMOTE"
   ]
  },
  {
   "cell_type": "code",
   "execution_count": 55,
   "metadata": {},
   "outputs": [],
   "source": [
    "# # Optimized RT Classifier\n",
    "# # Searching for the best RF hyperparameters\n",
    "\n",
    "# rf3_pipe = Pipeline(steps=[\n",
    "#     (\"ohe\", OneHotEncoder(drop='first', sparse=False)),\n",
    "#     ('RF', RandomForestClassifier(random_state=123))\n",
    "# ])\n",
    "\n",
    "# rf3_gridsearch = GridSearchCV(estimator=rf3_pipe, \n",
    "#                           param_grid=rf_grid, \n",
    "#                           scoring='recall', \n",
    "#                           cv=5)\n",
    "\n",
    "# # Fit the training data\n",
    "# rf3_gridsearch.fit(X_train_clean, y_train)\n",
    "\n",
    "# with open(\"rf3_gridsearch.pkl\", \"wb\") as f:\n",
    "#     joblib.dump(rf3_gridsearch, f)"
   ]
  },
  {
   "cell_type": "code",
   "execution_count": 56,
   "metadata": {},
   "outputs": [],
   "source": [
    "# Reading the pickle file\n",
    "with open('rf3_gridsearch.pkl', 'rb') as f:\n",
    "    rf3_gridsearch = joblib.load(f)"
   ]
  },
  {
   "cell_type": "code",
   "execution_count": 57,
   "metadata": {},
   "outputs": [
    {
     "name": "stdout",
     "output_type": "stream",
     "text": [
      "{'RF__max_depth': 6, 'RF__min_samples_leaf': 3, 'RF__min_samples_split': 2}\n"
     ]
    }
   ],
   "source": [
    "# Print the recall on test set and best params\n",
    "print(rf3_gridsearch.best_params_)"
   ]
  },
  {
   "cell_type": "code",
   "execution_count": 58,
   "metadata": {},
   "outputs": [],
   "source": [
    "# rf4_pipe = Pipeline(steps=[\n",
    "#     (\"ohe\", OneHotEncoder(drop='first', sparse=False)),\n",
    "#     ('dt',  RandomForestClassifier(max_depth = 6, min_samples_leaf = 1, min_samples_split = 2, random_state=123))\n",
    "# ])\n",
    "\n",
    "# rf4_pipe.fit(X_train_clean, y_train)\n",
    "\n",
    "# with open(\"rf4_pipe.pkl\", \"wb\") as f:\n",
    "#     joblib.dump(rf4_pipe, f)"
   ]
  },
  {
   "cell_type": "code",
   "execution_count": 59,
   "metadata": {},
   "outputs": [],
   "source": [
    "# Reading the pickle file\n",
    "with open('rf4_pipe.pkl', 'rb') as f:\n",
    "    rf4_pipe = joblib.load(f)"
   ]
  },
  {
   "cell_type": "code",
   "execution_count": 60,
   "metadata": {},
   "outputs": [
    {
     "name": "stdout",
     "output_type": "stream",
     "text": [
      "[0.66211033 0.65959969 0.66169189 0.66036683 0.66004184]\n",
      "Training Accuracy 0.6607621167188646\n",
      "##############\n",
      "[0.65857741 0.65829847 0.65718271 0.65969317 0.65820312]\n",
      "Cross_Val Accuracy 0.6583909736750349\n",
      "##############\n",
      "Training Macro Precision: 0.7216984358781812\n",
      "Cross_Val Macro Precision: 0.6625826635972752\n",
      "##############\n",
      "Training Macro Recall: 0.5083024502256877\n",
      "Cross_Val Macro Recall: 0.5054145020801809\n",
      "##############\n",
      "Training Macro F1: 0.4161287137038703\n",
      "Cross_Val Macro F1: 0.41107016039569766\n"
     ]
    },
    {
     "name": "stderr",
     "output_type": "stream",
     "text": [
      "/Users/robertharrow/opt/anaconda3/envs/learn-env/lib/python3.8/site-packages/sklearn/utils/deprecation.py:87: FutureWarning: Function plot_confusion_matrix is deprecated; Function `plot_confusion_matrix` is deprecated in 1.0 and will be removed in 1.2. Use one of the class methods: ConfusionMatrixDisplay.from_predictions or ConfusionMatrixDisplay.from_estimator.\n",
      "  warnings.warn(msg, category=FutureWarning)\n"
     ]
    },
    {
     "data": {
      "text/plain": [
       "<sklearn.metrics._plot.confusion_matrix.ConfusionMatrixDisplay at 0x7f97dfc5b730>"
      ]
     },
     "execution_count": 60,
     "metadata": {},
     "output_type": "execute_result"
    },
    {
     "data": {
      "image/png": "[encoded data removed]",
      "text/plain": [
       "<Figure size 432x288 with 2 Axes>"
      ]
     },
     "metadata": {
      "needs_background": "light"
     },
     "output_type": "display_data"
    }
   ],
   "source": [
    "print_cv_scores(rf4_pipe, X_train_clean, y_train)\n",
    "plot_confusion_matrix(rf4_pipe, X_train_clean, y_train, normalize='true')"
   ]
  },
  {
   "cell_type": "markdown",
   "metadata": {},
   "source": [
    "### XGBoost classifier\n",
    "#### With SMOTE"
   ]
  },
  {
   "cell_type": "code",
   "execution_count": 61,
   "metadata": {},
   "outputs": [],
   "source": [
    "# # Searching for the best hyperparameters\n",
    "# xgb_grid = {\n",
    "#     'xg__learning_rate': [0.1, 0.2],\n",
    "#     'xg__max_depth': [6],\n",
    "#     'xg__min_child_weight': [1, 2],\n",
    "#     'xg__subsample': [0.5, 0.7],\n",
    "#     'xg__n_estimators': [100],\n",
    "# }\n",
    "\n",
    "# xgb1_pipe = imbpipe(steps=[\n",
    "#     (\"ohe\", OneHotEncoder(drop='first', sparse=False)),\n",
    "#     ('sm', SMOTE(random_state=123)),\n",
    "#     ('xg', XGBClassifier(random_state=123))\n",
    "# ])\n",
    "\n",
    "# xgb_gridsearch = GridSearchCV(estimator=xgb1_pipe, \n",
    "#                           param_grid=xgb_grid, \n",
    "#                           scoring='recall', \n",
    "#                           cv=5)\n",
    "\n",
    "# # Fit the training data\n",
    "# xgb_gridsearch.fit(X_train_clean, y_train)\n",
    "\n",
    "# with open(\"xgb_gridsearch.pkl\", \"wb\") as f:\n",
    "#     joblib.dump(xgb_gridsearch, f)"
   ]
  },
  {
   "cell_type": "code",
   "execution_count": 62,
   "metadata": {},
   "outputs": [],
   "source": [
    "# Reading the pickle file\n",
    "with open('xgb_gridsearch.pkl', 'rb') as f:\n",
    "    xgb_gridsearch = joblib.load(f)"
   ]
  },
  {
   "cell_type": "code",
   "execution_count": 63,
   "metadata": {},
   "outputs": [
    {
     "name": "stdout",
     "output_type": "stream",
     "text": [
      "{'xg__learning_rate': 0.1, 'xg__max_depth': 6, 'xg__min_child_weight': 2, 'xg__n_estimators': 100, 'xg__subsample': 0.7}\n"
     ]
    }
   ],
   "source": [
    "# Print the recall on test set and best params\n",
    "print(xgb_gridsearch.best_params_)"
   ]
  },
  {
   "cell_type": "code",
   "execution_count": 64,
   "metadata": {},
   "outputs": [],
   "source": [
    "# # Optimized XGBoost Classifier\n",
    "\n",
    "# xgb2_pipe = imbpipe(steps=[\n",
    "#     (\"ohe\", OneHotEncoder(drop='first', sparse=False)),\n",
    "#     ('sm', SMOTE(random_state=123)),\n",
    "#     ('xg', XGBClassifier(learning_rate = 0.1, max_depth = 6, min_child_weight = 2, n_estimators = 100, subsample = 0.7,\n",
    "#                          random_state=123))\n",
    "# ])\n",
    "\n",
    "# xgb2_pipe.fit(X_train_clean, y_train)\n",
    "\n",
    "# with open(\"xgb2_pipe.pkl\", \"wb\") as f:\n",
    "#     joblib.dump(xgb2_pipe, f)"
   ]
  },
  {
   "cell_type": "code",
   "execution_count": 65,
   "metadata": {},
   "outputs": [],
   "source": [
    "# Reading the pickle file\n",
    "with open('xgb2_pipe.pkl', 'rb') as f:\n",
    "    xgb2_pipe = joblib.load(f)"
   ]
  },
  {
   "cell_type": "code",
   "execution_count": 66,
   "metadata": {},
   "outputs": [
    {
     "name": "stdout",
     "output_type": "stream",
     "text": [
      "[0.6568101  0.64879001 0.65046377 0.65185857 0.65299861]\n",
      "Training Accuracy 0.652184210912821\n",
      "##############\n",
      "[0.6181311  0.62705718 0.62873082 0.62873082 0.6171875 ]\n",
      "Cross_Val Accuracy 0.6239674860529986\n",
      "##############\n",
      "Training Macro Precision: 0.634551460806611\n",
      "Cross_Val Macro Precision: 0.605345569586919\n",
      "##############\n",
      "Training Macro Recall: 0.6466356790482833\n",
      "Cross_Val Macro Recall: 0.6146584678159656\n",
      "##############\n",
      "Training Macro F1: 0.6345684984467489\n",
      "Cross_Val Macro F1: 0.6045327612712186\n"
     ]
    },
    {
     "name": "stderr",
     "output_type": "stream",
     "text": [
      "/Users/robertharrow/opt/anaconda3/envs/learn-env/lib/python3.8/site-packages/sklearn/utils/deprecation.py:87: FutureWarning: Function plot_confusion_matrix is deprecated; Function `plot_confusion_matrix` is deprecated in 1.0 and will be removed in 1.2. Use one of the class methods: ConfusionMatrixDisplay.from_predictions or ConfusionMatrixDisplay.from_estimator.\n",
      "  warnings.warn(msg, category=FutureWarning)\n"
     ]
    },
    {
     "data": {
      "text/plain": [
       "<sklearn.metrics._plot.confusion_matrix.ConfusionMatrixDisplay at 0x7f97dfc5b2b0>"
      ]
     },
     "execution_count": 66,
     "metadata": {},
     "output_type": "execute_result"
    },
    {
     "data": {
      "image/png": "[encoded data removed]",
      "text/plain": [
       "<Figure size 432x288 with 2 Axes>"
      ]
     },
     "metadata": {
      "needs_background": "light"
     },
     "output_type": "display_data"
    }
   ],
   "source": [
    "print_cv_scores(xgb2_pipe, X_train_clean, y_train)\n",
    "plot_confusion_matrix(xgb2_pipe, X_train_clean, y_train, normalize='true')"
   ]
  },
  {
   "cell_type": "markdown",
   "metadata": {},
   "source": [
    "#### XGBoost Classifier without SMOTE"
   ]
  },
  {
   "cell_type": "code",
   "execution_count": 67,
   "metadata": {},
   "outputs": [],
   "source": [
    "# xgb3_pipe = Pipeline(steps=[\n",
    "#     (\"ohe\", OneHotEncoder(drop='first', sparse=False)),\n",
    "#     ('xg', XGBClassifier(random_state=123))\n",
    "# ])\n",
    "\n",
    "# xgb3_gridsearch = GridSearchCV(estimator=xgb3_pipe, \n",
    "#                           param_grid=xgb_grid, \n",
    "#                           scoring='recall', \n",
    "#                           cv=5)\n",
    "\n",
    "# # Fit the training data\n",
    "# xgb3_gridsearch.fit(X_train_clean, y_train)\n",
    "\n",
    "# with open(\"xgb3_gridsearch.pkl\", \"wb\") as f:\n",
    "#     joblib.dump(xgb3_gridsearch, f)"
   ]
  },
  {
   "cell_type": "code",
   "execution_count": 68,
   "metadata": {},
   "outputs": [],
   "source": [
    "# Reading the pickle file\n",
    "with open('xgb3_gridsearch.pkl', 'rb') as f:\n",
    "    xgb3_gridsearch = joblib.load(f)"
   ]
  },
  {
   "cell_type": "code",
   "execution_count": 69,
   "metadata": {},
   "outputs": [
    {
     "name": "stdout",
     "output_type": "stream",
     "text": [
      "{'xg__learning_rate': 0.2, 'xg__max_depth': 6, 'xg__min_child_weight': 1, 'xg__n_estimators': 100, 'xg__subsample': 0.5}\n"
     ]
    }
   ],
   "source": [
    "# Print the recall on test set and best params\n",
    "print(xgb3_gridsearch.best_params_)"
   ]
  },
  {
   "cell_type": "code",
   "execution_count": 70,
   "metadata": {},
   "outputs": [],
   "source": [
    "# xgb4_pipe = Pipeline(steps=[\n",
    "#     (\"ohe\", OneHotEncoder(drop='first', sparse=False)),\n",
    "#     ('xg', XGBClassifier(learning_rate = 0.2, max_depth = 6, min_child_weight = 1, n_estimators = 100, subsample = 0.5,\n",
    "#                          random_state=123))\n",
    "# ])\n",
    "\n",
    "# xgb4_pipe.fit(X_train_clean, y_train)\n",
    "\n",
    "# with open(\"xgb4_pipe.pkl\", \"wb\") as f:\n",
    "#     joblib.dump(xgb4_pipe, f)"
   ]
  },
  {
   "cell_type": "code",
   "execution_count": 71,
   "metadata": {},
   "outputs": [],
   "source": [
    "# Reading the pickle file\n",
    "with open('xgb4_pipe.pkl', 'rb') as f:\n",
    "    xgb4_pipe = joblib.load(f)"
   ]
  },
  {
   "cell_type": "code",
   "execution_count": 72,
   "metadata": {},
   "outputs": [
    {
     "name": "stdout",
     "output_type": "stream",
     "text": [
      "[0.69907246 0.70255945 0.70374503 0.70186205 0.70264993]\n",
      "Training Accuracy 0.7019777857600912\n",
      "##############\n",
      "[0.65160391 0.66080893 0.64574616 0.65020921 0.65708705]\n",
      "Cross_Val Accuracy 0.6530910508816496\n",
      "##############\n",
      "Training Macro Precision: 0.6736713648665488\n",
      "Cross_Val Macro Precision: 0.5897295620015139\n",
      "##############\n",
      "Training Macro Recall: 0.6121428866604333\n",
      "Cross_Val Macro Recall: 0.5577205922690249\n",
      "##############\n",
      "Training Macro F1: 0.6132460884848293\n",
      "Cross_Val Macro F1: 0.549407175458123\n"
     ]
    },
    {
     "name": "stderr",
     "output_type": "stream",
     "text": [
      "/Users/robertharrow/opt/anaconda3/envs/learn-env/lib/python3.8/site-packages/sklearn/utils/deprecation.py:87: FutureWarning: Function plot_confusion_matrix is deprecated; Function `plot_confusion_matrix` is deprecated in 1.0 and will be removed in 1.2. Use one of the class methods: ConfusionMatrixDisplay.from_predictions or ConfusionMatrixDisplay.from_estimator.\n",
      "  warnings.warn(msg, category=FutureWarning)\n"
     ]
    },
    {
     "data": {
      "text/plain": [
       "<sklearn.metrics._plot.confusion_matrix.ConfusionMatrixDisplay at 0x7f97df4e4940>"
      ]
     },
     "execution_count": 72,
     "metadata": {},
     "output_type": "execute_result"
    },
    {
     "data": {
      "image/png": "[encoded data removed]",
      "text/plain": [
       "<Figure size 432x288 with 2 Axes>"
      ]
     },
     "metadata": {
      "needs_background": "light"
     },
     "output_type": "display_data"
    }
   ],
   "source": [
    "print_cv_scores(xgb4_pipe, X_train_clean, y_train)\n",
    "plot_confusion_matrix(xgb4_pipe, X_train_clean, y_train, normalize='true')"
   ]
  },
  {
   "cell_type": "code",
   "execution_count": 73,
   "metadata": {},
   "outputs": [],
   "source": [
    "# orig_feature_names = list(xgb2_pipe['ohe'].get_feature_names())\n",
    "# xgb2_pipe['xg'].get_booster().feature_names = orig_feature_names\n",
    "# xgb2_pipe['xg'].get_booster().get_fscore()"
   ]
  },
  {
   "cell_type": "code",
   "execution_count": 74,
   "metadata": {},
   "outputs": [],
   "source": [
    "# # Code from https://stackoverflow.com/questions/40081888/xgboost-plot-importance-figure-size\n",
    "# def my_plot_importance(booster, figsize, **kwargs): \n",
    "#     from matplotlib import pyplot as plt\n",
    "#     from xgboost import plot_importance\n",
    "#     fig, ax = plt.subplots(1,1,figsize=figsize)\n",
    "#     return plot_importance(booster=booster, ax=ax, **kwargs)"
   ]
  },
  {
   "cell_type": "code",
   "execution_count": 75,
   "metadata": {},
   "outputs": [],
   "source": [
    "# my_plot_importance(xgb2_pipe['xg'],(10,20))"
   ]
  },
  {
   "cell_type": "markdown",
   "metadata": {},
   "source": [
    "### Investingating the Best Performing Model\n",
    "Out of all the different models and hyper-parameters we tried above, we got the best performence using Logistic Regression. Let's take a look at the coefficients driving that model."
   ]
  },
  {
   "cell_type": "code",
   "execution_count": 105,
   "metadata": {},
   "outputs": [],
   "source": [
    "coefs = list(lr_pipe4['lr'].coef_[0])\n",
    "features = list(lr_pipe4['ohe'].get_feature_names_out())\n",
    "zipped = list(zip(features,coefs))\n",
    "results = pd.DataFrame(zipped, columns=['Feature','Coeffficient'])"
   ]
  },
  {
   "cell_type": "code",
   "execution_count": 108,
   "metadata": {},
   "outputs": [
    {
     "data": {
      "text/html": [
       "<div>\n",
       "<style scoped>\n",
       "    .dataframe tbody tr th:only-of-type {\n",
       "        vertical-align: middle;\n",
       "    }\n",
       "\n",
       "    .dataframe tbody tr th {\n",
       "        vertical-align: top;\n",
       "    }\n",
       "\n",
       "    .dataframe thead th {\n",
       "        text-align: right;\n",
       "    }\n",
       "</style>\n",
       "<table border=\"1\" class=\"dataframe\">\n",
       "  <thead>\n",
       "    <tr style=\"text-align: right;\">\n",
       "      <th></th>\n",
       "      <th>Feature</th>\n",
       "      <th>Coeffficient</th>\n",
       "    </tr>\n",
       "  </thead>\n",
       "  <tbody>\n",
       "    <tr>\n",
       "      <th>7</th>\n",
       "      <td>Main Supervising District_ISC</td>\n",
       "      <td>-1.722445</td>\n",
       "    </tr>\n",
       "    <tr>\n",
       "      <th>8</th>\n",
       "      <td>Main Supervising District_Interstate Compact</td>\n",
       "      <td>-1.690184</td>\n",
       "    </tr>\n",
       "    <tr>\n",
       "      <th>9</th>\n",
       "      <td>Main Supervising District_None</td>\n",
       "      <td>-1.601111</td>\n",
       "    </tr>\n",
       "    <tr>\n",
       "      <th>18</th>\n",
       "      <td>Age At Release _55 and Older</td>\n",
       "      <td>-0.842631</td>\n",
       "    </tr>\n",
       "    <tr>\n",
       "      <th>12</th>\n",
       "      <td>Race - Ethnicity_Asian or Pacific Islander - N...</td>\n",
       "      <td>-0.784309</td>\n",
       "    </tr>\n",
       "    <tr>\n",
       "      <th>10</th>\n",
       "      <td>Release Type_parole</td>\n",
       "      <td>-0.757509</td>\n",
       "    </tr>\n",
       "    <tr>\n",
       "      <th>14</th>\n",
       "      <td>Race - Ethnicity_White - Hispanic</td>\n",
       "      <td>-0.727851</td>\n",
       "    </tr>\n",
       "    <tr>\n",
       "      <th>33</th>\n",
       "      <td>Offense Subtype_OWI</td>\n",
       "      <td>-0.662653</td>\n",
       "    </tr>\n",
       "    <tr>\n",
       "      <th>32</th>\n",
       "      <td>Offense Subtype_Murder/Manslaughter</td>\n",
       "      <td>-0.637276</td>\n",
       "    </tr>\n",
       "    <tr>\n",
       "      <th>42</th>\n",
       "      <td>Offense Subtype_Traffic</td>\n",
       "      <td>-0.608674</td>\n",
       "    </tr>\n",
       "    <tr>\n",
       "      <th>45</th>\n",
       "      <td>Offense Subtype_Weapons</td>\n",
       "      <td>-0.598410</td>\n",
       "    </tr>\n",
       "    <tr>\n",
       "      <th>39</th>\n",
       "      <td>Offense Subtype_Sex</td>\n",
       "      <td>-0.411411</td>\n",
       "    </tr>\n",
       "    <tr>\n",
       "      <th>13</th>\n",
       "      <td>Race - Ethnicity_Black - Non-Hispanic</td>\n",
       "      <td>-0.393089</td>\n",
       "    </tr>\n",
       "    <tr>\n",
       "      <th>15</th>\n",
       "      <td>Race - Ethnicity_White - Non-Hispanic</td>\n",
       "      <td>-0.390851</td>\n",
       "    </tr>\n",
       "    <tr>\n",
       "      <th>17</th>\n",
       "      <td>Age At Release _45-54</td>\n",
       "      <td>-0.383476</td>\n",
       "    </tr>\n",
       "    <tr>\n",
       "      <th>40</th>\n",
       "      <td>Offense Subtype_Sex Offender Registry/Residency</td>\n",
       "      <td>-0.368563</td>\n",
       "    </tr>\n",
       "    <tr>\n",
       "      <th>44</th>\n",
       "      <td>Offense Subtype_Vandalism</td>\n",
       "      <td>-0.367860</td>\n",
       "    </tr>\n",
       "    <tr>\n",
       "      <th>27</th>\n",
       "      <td>Offense Subtype_Arson</td>\n",
       "      <td>-0.215112</td>\n",
       "    </tr>\n",
       "    <tr>\n",
       "      <th>5</th>\n",
       "      <td>Main Supervising District_7JD</td>\n",
       "      <td>-0.202742</td>\n",
       "    </tr>\n",
       "    <tr>\n",
       "      <th>16</th>\n",
       "      <td>Age At Release _35-44</td>\n",
       "      <td>-0.151467</td>\n",
       "    </tr>\n",
       "    <tr>\n",
       "      <th>6</th>\n",
       "      <td>Main Supervising District_8JD</td>\n",
       "      <td>-0.130725</td>\n",
       "    </tr>\n",
       "    <tr>\n",
       "      <th>26</th>\n",
       "      <td>Offense Type_Violent</td>\n",
       "      <td>-0.128592</td>\n",
       "    </tr>\n",
       "    <tr>\n",
       "      <th>23</th>\n",
       "      <td>Offense Type_Other</td>\n",
       "      <td>-0.125023</td>\n",
       "    </tr>\n",
       "    <tr>\n",
       "      <th>38</th>\n",
       "      <td>Offense Subtype_Robbery</td>\n",
       "      <td>-0.084616</td>\n",
       "    </tr>\n",
       "    <tr>\n",
       "      <th>46</th>\n",
       "      <td>Target Population_Yes</td>\n",
       "      <td>-0.055609</td>\n",
       "    </tr>\n",
       "    <tr>\n",
       "      <th>35</th>\n",
       "      <td>Offense Subtype_Other Drug</td>\n",
       "      <td>-0.036969</td>\n",
       "    </tr>\n",
       "    <tr>\n",
       "      <th>4</th>\n",
       "      <td>Main Supervising District_6JD</td>\n",
       "      <td>-0.030287</td>\n",
       "    </tr>\n",
       "    <tr>\n",
       "      <th>1</th>\n",
       "      <td>Main Supervising District_3JD</td>\n",
       "      <td>-0.003019</td>\n",
       "    </tr>\n",
       "    <tr>\n",
       "      <th>0</th>\n",
       "      <td>Main Supervising District_2JD</td>\n",
       "      <td>0.010973</td>\n",
       "    </tr>\n",
       "    <tr>\n",
       "      <th>36</th>\n",
       "      <td>Offense Subtype_Other Public Order</td>\n",
       "      <td>0.027883</td>\n",
       "    </tr>\n",
       "    <tr>\n",
       "      <th>19</th>\n",
       "      <td>Age At Release _Under 25</td>\n",
       "      <td>0.053438</td>\n",
       "    </tr>\n",
       "    <tr>\n",
       "      <th>28</th>\n",
       "      <td>Offense Subtype_Assault</td>\n",
       "      <td>0.091720</td>\n",
       "    </tr>\n",
       "    <tr>\n",
       "      <th>2</th>\n",
       "      <td>Main Supervising District_4JD</td>\n",
       "      <td>0.098538</td>\n",
       "    </tr>\n",
       "    <tr>\n",
       "      <th>37</th>\n",
       "      <td>Offense Subtype_Other Violent</td>\n",
       "      <td>0.129257</td>\n",
       "    </tr>\n",
       "    <tr>\n",
       "      <th>24</th>\n",
       "      <td>Offense Type_Property</td>\n",
       "      <td>0.155034</td>\n",
       "    </tr>\n",
       "    <tr>\n",
       "      <th>22</th>\n",
       "      <td>Offense Classification_other</td>\n",
       "      <td>0.185119</td>\n",
       "    </tr>\n",
       "    <tr>\n",
       "      <th>21</th>\n",
       "      <td>Offense Classification_misdemeanor</td>\n",
       "      <td>0.188633</td>\n",
       "    </tr>\n",
       "    <tr>\n",
       "      <th>41</th>\n",
       "      <td>Offense Subtype_Theft</td>\n",
       "      <td>0.190145</td>\n",
       "    </tr>\n",
       "    <tr>\n",
       "      <th>3</th>\n",
       "      <td>Main Supervising District_5JD</td>\n",
       "      <td>0.209852</td>\n",
       "    </tr>\n",
       "    <tr>\n",
       "      <th>11</th>\n",
       "      <td>Release Type_special sentence</td>\n",
       "      <td>0.212531</td>\n",
       "    </tr>\n",
       "    <tr>\n",
       "      <th>29</th>\n",
       "      <td>Offense Subtype_Burglary</td>\n",
       "      <td>0.218379</td>\n",
       "    </tr>\n",
       "    <tr>\n",
       "      <th>43</th>\n",
       "      <td>Offense Subtype_Trafficking</td>\n",
       "      <td>0.250555</td>\n",
       "    </tr>\n",
       "    <tr>\n",
       "      <th>30</th>\n",
       "      <td>Offense Subtype_Drug Possession</td>\n",
       "      <td>0.303325</td>\n",
       "    </tr>\n",
       "    <tr>\n",
       "      <th>31</th>\n",
       "      <td>Offense Subtype_Forgery/Fraud</td>\n",
       "      <td>0.329483</td>\n",
       "    </tr>\n",
       "    <tr>\n",
       "      <th>20</th>\n",
       "      <td>Sex_Male</td>\n",
       "      <td>0.385159</td>\n",
       "    </tr>\n",
       "    <tr>\n",
       "      <th>25</th>\n",
       "      <td>Offense Type_Public Order</td>\n",
       "      <td>0.575413</td>\n",
       "    </tr>\n",
       "    <tr>\n",
       "      <th>34</th>\n",
       "      <td>Offense Subtype_Other Criminal</td>\n",
       "      <td>0.658710</td>\n",
       "    </tr>\n",
       "  </tbody>\n",
       "</table>\n",
       "</div>"
      ],
      "text/plain": [
       "                                              Feature  Coeffficient\n",
       "7                       Main Supervising District_ISC     -1.722445\n",
       "8        Main Supervising District_Interstate Compact     -1.690184\n",
       "9                      Main Supervising District_None     -1.601111\n",
       "18                       Age At Release _55 and Older     -0.842631\n",
       "12  Race - Ethnicity_Asian or Pacific Islander - N...     -0.784309\n",
       "10                                Release Type_parole     -0.757509\n",
       "14                  Race - Ethnicity_White - Hispanic     -0.727851\n",
       "33                                Offense Subtype_OWI     -0.662653\n",
       "32                Offense Subtype_Murder/Manslaughter     -0.637276\n",
       "42                            Offense Subtype_Traffic     -0.608674\n",
       "45                            Offense Subtype_Weapons     -0.598410\n",
       "39                                Offense Subtype_Sex     -0.411411\n",
       "13              Race - Ethnicity_Black - Non-Hispanic     -0.393089\n",
       "15              Race - Ethnicity_White - Non-Hispanic     -0.390851\n",
       "17                              Age At Release _45-54     -0.383476\n",
       "40    Offense Subtype_Sex Offender Registry/Residency     -0.368563\n",
       "44                          Offense Subtype_Vandalism     -0.367860\n",
       "27                              Offense Subtype_Arson     -0.215112\n",
       "5                       Main Supervising District_7JD     -0.202742\n",
       "16                              Age At Release _35-44     -0.151467\n",
       "6                       Main Supervising District_8JD     -0.130725\n",
       "26                               Offense Type_Violent     -0.128592\n",
       "23                                 Offense Type_Other     -0.125023\n",
       "38                            Offense Subtype_Robbery     -0.084616\n",
       "46                              Target Population_Yes     -0.055609\n",
       "35                         Offense Subtype_Other Drug     -0.036969\n",
       "4                       Main Supervising District_6JD     -0.030287\n",
       "1                       Main Supervising District_3JD     -0.003019\n",
       "0                       Main Supervising District_2JD      0.010973\n",
       "36                 Offense Subtype_Other Public Order      0.027883\n",
       "19                           Age At Release _Under 25      0.053438\n",
       "28                            Offense Subtype_Assault      0.091720\n",
       "2                       Main Supervising District_4JD      0.098538\n",
       "37                      Offense Subtype_Other Violent      0.129257\n",
       "24                              Offense Type_Property      0.155034\n",
       "22                       Offense Classification_other      0.185119\n",
       "21                 Offense Classification_misdemeanor      0.188633\n",
       "41                              Offense Subtype_Theft      0.190145\n",
       "3                       Main Supervising District_5JD      0.209852\n",
       "11                      Release Type_special sentence      0.212531\n",
       "29                           Offense Subtype_Burglary      0.218379\n",
       "43                        Offense Subtype_Trafficking      0.250555\n",
       "30                    Offense Subtype_Drug Possession      0.303325\n",
       "31                      Offense Subtype_Forgery/Fraud      0.329483\n",
       "20                                           Sex_Male      0.385159\n",
       "25                          Offense Type_Public Order      0.575413\n",
       "34                     Offense Subtype_Other Criminal      0.658710"
      ]
     },
     "execution_count": 108,
     "metadata": {},
     "output_type": "execute_result"
    }
   ],
   "source": [
    "results.sort_values(by='Coeffficient')"
   ]
  },
  {
   "cell_type": "markdown",
   "metadata": {},
   "source": [
    "## Exploratory Data Analysis"
   ]
  },
  {
   "cell_type": "code",
   "execution_count": 134,
   "metadata": {},
   "outputs": [],
   "source": [
    "clean_data = pd.concat([y_train, X_train_clean], axis=1)"
   ]
  },
  {
   "cell_type": "code",
   "execution_count": 135,
   "metadata": {},
   "outputs": [
    {
     "data": {
      "text/plain": [
       "Index(['Return to Prison', 'Main Supervising District', 'Release Type',\n",
       "       'Race - Ethnicity', 'Age At Release ', 'Sex', 'Offense Classification',\n",
       "       'Offense Type', 'Offense Subtype', 'Target Population'],\n",
       "      dtype='object')"
      ]
     },
     "execution_count": 135,
     "metadata": {},
     "output_type": "execute_result"
    }
   ],
   "source": [
    "clean_data.columns"
   ]
  },
  {
   "cell_type": "code",
   "execution_count": 148,
   "metadata": {},
   "outputs": [
    {
     "data": {
      "text/html": [
       "<div>\n",
       "<style scoped>\n",
       "    .dataframe tbody tr th:only-of-type {\n",
       "        vertical-align: middle;\n",
       "    }\n",
       "\n",
       "    .dataframe tbody tr th {\n",
       "        vertical-align: top;\n",
       "    }\n",
       "\n",
       "    .dataframe thead th {\n",
       "        text-align: right;\n",
       "    }\n",
       "</style>\n",
       "<table border=\"1\" class=\"dataframe\">\n",
       "  <thead>\n",
       "    <tr style=\"text-align: right;\">\n",
       "      <th>Return to Prison</th>\n",
       "      <th>0</th>\n",
       "      <th>1</th>\n",
       "    </tr>\n",
       "    <tr>\n",
       "      <th>Sex</th>\n",
       "      <th></th>\n",
       "      <th></th>\n",
       "    </tr>\n",
       "  </thead>\n",
       "  <tbody>\n",
       "    <tr>\n",
       "      <th>Female</th>\n",
       "      <td>0.697615</td>\n",
       "      <td>0.302385</td>\n",
       "    </tr>\n",
       "    <tr>\n",
       "      <th>Male</th>\n",
       "      <td>0.649718</td>\n",
       "      <td>0.350282</td>\n",
       "    </tr>\n",
       "  </tbody>\n",
       "</table>\n",
       "</div>"
      ],
      "text/plain": [
       "Return to Prison         0         1\n",
       "Sex                                 \n",
       "Female            0.697615  0.302385\n",
       "Male              0.649718  0.350282"
      ]
     },
     "execution_count": 148,
     "metadata": {},
     "output_type": "execute_result"
    }
   ],
   "source": [
    "recidvism_by_sex = pd.crosstab(clean_data.Sex, clean_data['Return to Prison'], normalize='index')\n",
    "recidvism_by_sex"
   ]
  },
  {
   "cell_type": "code",
   "execution_count": 155,
   "metadata": {},
   "outputs": [
    {
     "data": {
      "image/png": "[encoded data removed]",
      "text/plain": [
       "<Figure size 720x576 with 1 Axes>"
      ]
     },
     "metadata": {
      "needs_background": "light"
     },
     "output_type": "display_data"
    }
   ],
   "source": [
    "# Graph the crosstab table\n",
    "fig, ax = plt.subplots(figsize=(10, 8))\n",
    "recidvism_by_sex[1].plot.bar(ax=ax, color=('orangered', 'cornflowerblue'))\n",
    "plt.title('Recidivism by Sex', size=15)\n",
    "plt.ylabel('% of Population Returning to Prison within 3 years of release', size=12)\n",
    "\n",
    "plt.legend()\n",
    "plt.xticks(rotation = 45)\n",
    "plt.show()"
   ]
  },
  {
   "cell_type": "code",
   "execution_count": null,
   "metadata": {},
   "outputs": [],
   "source": []
  }
 ],
 "metadata": {
  "kernelspec": {
   "display_name": "Python (learn-env)",
   "language": "python",
   "name": "learn-env"
  },
  "language_info": {
   "codemirror_mode": {
    "name": "ipython",
    "version": 3
   },
   "file_extension": ".py",
   "mimetype": "text/x-python",
   "name": "python",
   "nbconvert_exporter": "python",
   "pygments_lexer": "ipython3",
   "version": "3.8.5"
  }
 },
 "nbformat": 4,
 "nbformat_minor": 4
}
