{
 "cells": [
  {
   "cell_type": "markdown",
   "metadata": {},
   "source": [
    "# Iowa Prison Recidivism Analysis\n",
    "\n",
    "Flatiron School Phase 3 Data Science Project\n",
    "Author: Robert Harrow\n",
    "\n",
    "## Overview\n",
    "\n",
    "The stakeholder for this analysis is the Iowa Department of Corrections (IDC). The IDC wants to better understand factors that may lead to recidivism and to have a model that can help predict whether a person is at risk of reoffending.\n",
    "\n",
    "## Business Understanding\n",
    "\n",
    "The Department of Corrections uses recidivism as an indicator on whether strategies are reducing offenders relapse into criminal behavior. It wants to use analysis to pin-point whether current strategies are failing certain populations or groups at disproportionate rates so it can better study what is or isn't working."
   ]
  },
  {
   "cell_type": "markdown",
   "metadata": {},
   "source": [
    "## Data Understanding & Preparation\n",
    "\n",
    "To study recidivism, the IDC maintains a database of prisoner recidivism. The file contains 17 features, and over 26,000 records - each pertaining to a given prisoner between 2010 and 2015.\n",
    "\n",
    "The TARGET column was 'Return to Prison', which indicates whether the prisoner returned to prison within 3 years of release. Below is a dictionary explaining the data.\n",
    "\n",
    "Here is how the data is distributed\n",
    "\n",
    "| Class = 'Return to Prison' | Occurrences | % of Total |\n",
    "|----------------------------|-------------|------------|\n",
    "| Yes (1)                    | 8681        | 35%        |\n",
    "| No (0)                     | 17339       | 65%        |\n",
    "\n",
    "From the IDC:\n",
    "\n",
    "\"This dataset reports whether an offender is re-admitted to prison or not within three years from being released from prison in Iowa. The recidivism reporting year is the fiscal year (year ending June 30) marking the end of the three year tracking period.\n",
    "\n",
    "The Department of Corrections uses recidivism as an indicator on whether strategies are reducing offenders relapse into criminal behavior. A three year time frame is used as studies have shown if an offender relapses into criminal behavior it is most likely to happen within three years of being released.\"\n",
    "\n",
    "### Importing Dataset\n",
    "\n",
    "Dataset located at: https://mydata.iowa.gov/Correctional-System/3-Year-Recidivism-for-Offenders-Released-from-Pris/mw8r-vqy4\n",
    "\n",
    "**Load Dependencies**"
   ]
  },
  {
   "cell_type": "code",
   "execution_count": 1,
   "metadata": {
    "scrolled": false
   },
   "outputs": [],
   "source": [
    "import pandas as pd\n",
    "import numpy as np\n",
    "import seaborn as sns\n",
    "import matplotlib.pyplot as plt\n",
    "%matplotlib inline\n",
    "\n",
    "from sklearn.preprocessing import OneHotEncoder, FunctionTransformer\n",
    "from sklearn.pipeline import Pipeline\n",
    "\n",
    "from imblearn.over_sampling import SMOTEN\n",
    "from imblearn import under_sampling, over_sampling\n",
    "from imblearn.pipeline import Pipeline as imbpipe\n",
    "\n",
    "from sklearn.dummy import DummyClassifier\n",
    "from sklearn.linear_model import LogisticRegression\n",
    "from sklearn.tree import DecisionTreeClassifier\n",
    "from sklearn.ensemble import RandomForestClassifier\n",
    "from xgboost import XGBClassifier\n",
    "\n",
    "from sklearn.metrics import accuracy_score, precision_score, recall_score, confusion_matrix,\\\n",
    "precision_recall_fscore_support, f1_score, plot_confusion_matrix\n",
    "from sklearn.model_selection import train_test_split, GridSearchCV,\\\n",
    "cross_validate, cross_val_predict, cross_val_score\n",
    "\n",
    "import warnings\n",
    "warnings.filterwarnings('ignore')"
   ]
  },
  {
   "cell_type": "markdown",
   "metadata": {},
   "source": [
    "### Data Dictionary\n",
    "\n",
    "| Column Name                | Description                                                                                                                                                                                                          |\n",
    "|:---------------------------|:---------------------------------------------------------------------------------------------------------------------------------------------------------------------------------------------------------------------|\n",
    "| Fiscal Year Released       | Fiscal year (year ending June 30) for which the offender was released from prison.                                                                                                                                   |\n",
    "| Recidivism Reporting Year  | Fiscal year (year ending June 30) that marks the end of the 3-year tracking period. For example, offenders exited prison in FY 2012 are found in recidivism reporting year FY 2015.                                  |\n",
    "| Main Supervising District  | The Judicial District supervising the offender for the longest time during the tracking period.                                                                                                                      |\n",
    "| Release Type               | Reasoning for Offender's release from prison.                                                                                                                                                                        |\n",
    "| Race - Ethnicity           | Offender's Race and Ethnicity                                                                                                                                                                                        |\n",
    "| Age At Release             | Offender's age group at release from prison.                                                                                                                                                                         |\n",
    "| Sex                        | Gender of our offender                                                                                                                                                                                               |\n",
    "| Offense Classification     | Maximum penalties: A Felony = Life; B Felony = 25 or 50 years; C Felony = 10 years; D Felony = 5 years; Aggravated Misdemeanor = 2 years; Serious Misdemeanor = 1 year; Simple Misdemeanor = 30 days                 |\n",
    "| Offense Type               | General category for the most serious offense for which the offender was placed in prison.                                                                                                                           |\n",
    "| Offense Subtype            | Further classification of the most serious offense for which the offender was placed in prison.                                                                                                                      |\n",
    "| Return to Prison           | No = Did not return to prison within the three year tracking period; Yes = Admitted to prison for any reason within the three year tracking period                                                                   |\n",
    "| Days to Return             | Number of days it took before the offender returned to prison.                                                                                                                                                       |\n",
    "| Recidivism Type            | Indicates the reason for return to prison.                                                                                                                                                                           |\n",
    "| New Offense Classification | New conviction maximum penalties: A Felony = Life; B Felony = 25 or 50 years; C Felony = 10 years; D Felony = 5 years; Aggravated Misdemeanor = 2 years; Serious Misdemeanor = 1 year; Simple Misdemeanor = 30 days  |\n",
    "| New Offense Type           | General category for the new conviction while the offender is out of prison.                                                                                                                                         |\n",
    "| New Offense Sub Type       | Further classification of the new conviction.                                                                                                                                                                        |\n",
    "| Target Population          | The Department of Corrections has undertaken specific strategies to reduce recidivism rates for prisoners who are on parole.                                                                                         |\n"
   ]
  },
  {
   "cell_type": "code",
   "execution_count": 2,
   "metadata": {
    "scrolled": false
   },
   "outputs": [],
   "source": [
    "prisoner_df = pd.read_csv('data/recidivism.csv')"
   ]
  },
  {
   "cell_type": "code",
   "execution_count": 3,
   "metadata": {
    "scrolled": false
   },
   "outputs": [
    {
     "data": {
      "text/html": [
       "<div>\n",
       "<style scoped>\n",
       "    .dataframe tbody tr th:only-of-type {\n",
       "        vertical-align: middle;\n",
       "    }\n",
       "\n",
       "    .dataframe tbody tr th {\n",
       "        vertical-align: top;\n",
       "    }\n",
       "\n",
       "    .dataframe thead th {\n",
       "        text-align: right;\n",
       "    }\n",
       "</style>\n",
       "<table border=\"1\" class=\"dataframe\">\n",
       "  <thead>\n",
       "    <tr style=\"text-align: right;\">\n",
       "      <th></th>\n",
       "      <th>Fiscal Year Released</th>\n",
       "      <th>Recidivism Reporting Year</th>\n",
       "      <th>Main Supervising District</th>\n",
       "      <th>Release Type</th>\n",
       "      <th>Race - Ethnicity</th>\n",
       "      <th>Age At Release</th>\n",
       "      <th>Sex</th>\n",
       "      <th>Offense Classification</th>\n",
       "      <th>Offense Type</th>\n",
       "      <th>Offense Subtype</th>\n",
       "      <th>Return to Prison</th>\n",
       "      <th>Days to Return</th>\n",
       "      <th>Recidivism Type</th>\n",
       "      <th>New Offense Classification</th>\n",
       "      <th>New Offense Type</th>\n",
       "      <th>New Offense Sub Type</th>\n",
       "      <th>Target Population</th>\n",
       "    </tr>\n",
       "  </thead>\n",
       "  <tbody>\n",
       "    <tr>\n",
       "      <th>0</th>\n",
       "      <td>2010</td>\n",
       "      <td>2013</td>\n",
       "      <td>7JD</td>\n",
       "      <td>Parole</td>\n",
       "      <td>Black - Non-Hispanic</td>\n",
       "      <td>25-34</td>\n",
       "      <td>Male</td>\n",
       "      <td>C Felony</td>\n",
       "      <td>Violent</td>\n",
       "      <td>Robbery</td>\n",
       "      <td>Yes</td>\n",
       "      <td>433.0</td>\n",
       "      <td>New</td>\n",
       "      <td>C Felony</td>\n",
       "      <td>Drug</td>\n",
       "      <td>Trafficking</td>\n",
       "      <td>Yes</td>\n",
       "    </tr>\n",
       "    <tr>\n",
       "      <th>1</th>\n",
       "      <td>2010</td>\n",
       "      <td>2013</td>\n",
       "      <td>NaN</td>\n",
       "      <td>Discharged – End of Sentence</td>\n",
       "      <td>White - Non-Hispanic</td>\n",
       "      <td>25-34</td>\n",
       "      <td>Male</td>\n",
       "      <td>D Felony</td>\n",
       "      <td>Property</td>\n",
       "      <td>Theft</td>\n",
       "      <td>Yes</td>\n",
       "      <td>453.0</td>\n",
       "      <td>Tech</td>\n",
       "      <td>NaN</td>\n",
       "      <td>NaN</td>\n",
       "      <td>NaN</td>\n",
       "      <td>No</td>\n",
       "    </tr>\n",
       "    <tr>\n",
       "      <th>2</th>\n",
       "      <td>2010</td>\n",
       "      <td>2013</td>\n",
       "      <td>5JD</td>\n",
       "      <td>Parole</td>\n",
       "      <td>White - Non-Hispanic</td>\n",
       "      <td>35-44</td>\n",
       "      <td>Male</td>\n",
       "      <td>B Felony</td>\n",
       "      <td>Drug</td>\n",
       "      <td>Trafficking</td>\n",
       "      <td>Yes</td>\n",
       "      <td>832.0</td>\n",
       "      <td>Tech</td>\n",
       "      <td>NaN</td>\n",
       "      <td>NaN</td>\n",
       "      <td>NaN</td>\n",
       "      <td>Yes</td>\n",
       "    </tr>\n",
       "    <tr>\n",
       "      <th>3</th>\n",
       "      <td>2010</td>\n",
       "      <td>2013</td>\n",
       "      <td>6JD</td>\n",
       "      <td>Parole</td>\n",
       "      <td>White - Non-Hispanic</td>\n",
       "      <td>25-34</td>\n",
       "      <td>Male</td>\n",
       "      <td>B Felony</td>\n",
       "      <td>Other</td>\n",
       "      <td>Other Criminal</td>\n",
       "      <td>No</td>\n",
       "      <td>NaN</td>\n",
       "      <td>No Recidivism</td>\n",
       "      <td>NaN</td>\n",
       "      <td>NaN</td>\n",
       "      <td>NaN</td>\n",
       "      <td>Yes</td>\n",
       "    </tr>\n",
       "    <tr>\n",
       "      <th>4</th>\n",
       "      <td>2010</td>\n",
       "      <td>2013</td>\n",
       "      <td>NaN</td>\n",
       "      <td>Discharged – End of Sentence</td>\n",
       "      <td>Black - Non-Hispanic</td>\n",
       "      <td>35-44</td>\n",
       "      <td>Male</td>\n",
       "      <td>D Felony</td>\n",
       "      <td>Violent</td>\n",
       "      <td>Assault</td>\n",
       "      <td>Yes</td>\n",
       "      <td>116.0</td>\n",
       "      <td>Tech</td>\n",
       "      <td>NaN</td>\n",
       "      <td>NaN</td>\n",
       "      <td>NaN</td>\n",
       "      <td>No</td>\n",
       "    </tr>\n",
       "  </tbody>\n",
       "</table>\n",
       "</div>"
      ],
      "text/plain": [
       "   Fiscal Year Released  Recidivism Reporting Year Main Supervising District  \\\n",
       "0                  2010                       2013                       7JD   \n",
       "1                  2010                       2013                       NaN   \n",
       "2                  2010                       2013                       5JD   \n",
       "3                  2010                       2013                       6JD   \n",
       "4                  2010                       2013                       NaN   \n",
       "\n",
       "                   Release Type      Race - Ethnicity Age At Release    Sex  \\\n",
       "0                        Parole  Black - Non-Hispanic           25-34  Male   \n",
       "1  Discharged – End of Sentence  White - Non-Hispanic           25-34  Male   \n",
       "2                        Parole  White - Non-Hispanic           35-44  Male   \n",
       "3                        Parole  White - Non-Hispanic           25-34  Male   \n",
       "4  Discharged – End of Sentence  Black - Non-Hispanic           35-44  Male   \n",
       "\n",
       "  Offense Classification Offense Type Offense Subtype Return to Prison  \\\n",
       "0               C Felony      Violent         Robbery              Yes   \n",
       "1               D Felony     Property           Theft              Yes   \n",
       "2               B Felony         Drug     Trafficking              Yes   \n",
       "3               B Felony        Other  Other Criminal               No   \n",
       "4               D Felony      Violent         Assault              Yes   \n",
       "\n",
       "   Days to Return Recidivism Type New Offense Classification New Offense Type  \\\n",
       "0           433.0             New                   C Felony             Drug   \n",
       "1           453.0            Tech                        NaN              NaN   \n",
       "2           832.0            Tech                        NaN              NaN   \n",
       "3             NaN   No Recidivism                        NaN              NaN   \n",
       "4           116.0            Tech                        NaN              NaN   \n",
       "\n",
       "  New Offense Sub Type Target Population  \n",
       "0          Trafficking               Yes  \n",
       "1                  NaN                No  \n",
       "2                  NaN               Yes  \n",
       "3                  NaN               Yes  \n",
       "4                  NaN                No  "
      ]
     },
     "execution_count": 3,
     "metadata": {},
     "output_type": "execute_result"
    }
   ],
   "source": [
    "# Preview first 5 rows\n",
    "prisoner_df.head()"
   ]
  },
  {
   "cell_type": "code",
   "execution_count": 4,
   "metadata": {
    "scrolled": false
   },
   "outputs": [
    {
     "name": "stdout",
     "output_type": "stream",
     "text": [
      "<class 'pandas.core.frame.DataFrame'>\n",
      "RangeIndex: 26020 entries, 0 to 26019\n",
      "Data columns (total 17 columns):\n",
      " #   Column                      Non-Null Count  Dtype  \n",
      "---  ------                      --------------  -----  \n",
      " 0   Fiscal Year Released        26020 non-null  int64  \n",
      " 1   Recidivism Reporting Year   26020 non-null  int64  \n",
      " 2   Main Supervising District   16439 non-null  object \n",
      " 3   Release Type                24258 non-null  object \n",
      " 4   Race - Ethnicity            25990 non-null  object \n",
      " 5   Age At Release              26017 non-null  object \n",
      " 6   Sex                         26017 non-null  object \n",
      " 7   Offense Classification      26020 non-null  object \n",
      " 8   Offense Type                26020 non-null  object \n",
      " 9   Offense Subtype             26020 non-null  object \n",
      " 10  Return to Prison            26020 non-null  object \n",
      " 11  Days to Return              8681 non-null   float64\n",
      " 12  Recidivism Type             26020 non-null  object \n",
      " 13  New Offense Classification  6718 non-null   object \n",
      " 14  New Offense Type            6718 non-null   object \n",
      " 15  New Offense Sub Type        6699 non-null   object \n",
      " 16  Target Population           26020 non-null  object \n",
      "dtypes: float64(1), int64(2), object(14)\n",
      "memory usage: 3.4+ MB\n"
     ]
    }
   ],
   "source": [
    "# Get overview of the data\n",
    "prisoner_df.info()"
   ]
  },
  {
   "cell_type": "code",
   "execution_count": 5,
   "metadata": {
    "scrolled": false
   },
   "outputs": [
    {
     "data": {
      "text/plain": [
       "No     17339\n",
       "Yes     8681\n",
       "Name: Return to Prison, dtype: int64"
      ]
     },
     "execution_count": 5,
     "metadata": {},
     "output_type": "execute_result"
    }
   ],
   "source": [
    "# Explore distribution of target\n",
    "prisoner_df['Return to Prison'].value_counts()"
   ]
  },
  {
   "cell_type": "code",
   "execution_count": 6,
   "metadata": {
    "scrolled": false
   },
   "outputs": [
    {
     "data": {
      "text/plain": [
       "Fiscal Year Released          0.000000\n",
       "Recidivism Reporting Year     0.000000\n",
       "Main Supervising District     0.368217\n",
       "Release Type                  0.067717\n",
       "Race - Ethnicity              0.001153\n",
       "Age At Release                0.000115\n",
       "Sex                           0.000115\n",
       "Offense Classification        0.000000\n",
       "Offense Type                  0.000000\n",
       "Offense Subtype               0.000000\n",
       "Return to Prison              0.000000\n",
       "Days to Return                0.666372\n",
       "Recidivism Type               0.000000\n",
       "New Offense Classification    0.741814\n",
       "New Offense Type              0.741814\n",
       "New Offense Sub Type          0.742544\n",
       "Target Population             0.000000\n",
       "dtype: float64"
      ]
     },
     "execution_count": 6,
     "metadata": {},
     "output_type": "execute_result"
    }
   ],
   "source": [
    "# Exploring proportion of missing data\n",
    "prisoner_df.isna().mean()"
   ]
  },
  {
   "cell_type": "markdown",
   "metadata": {},
   "source": [
    "### Basic Data Cleaning\n",
    "\n",
    "Data is missing for the following columns:\n",
    "* **Main Supervising District.** Based on an email I received from the Iowa Department of Corrections <em>\"When a Main Supervising District is blank, this means they discharged straight from prison and were not supervised by Community Based Corrections.\"</em>\n",
    "* **Release Type/Race - Ethnicity/Age At Release/Sex.** Just 0.01% - 6% of data is missing here. I will likely just drop these records.\n",
    "* **Days to Return/New Offense Classification/New Offense Type/New Offense Sub Type.** It makes sense for this data to be missing since we have records of people who never returned to prison. Also, we don't need these columns for modeling."
   ]
  },
  {
   "cell_type": "code",
   "execution_count": 7,
   "metadata": {
    "scrolled": false
   },
   "outputs": [],
   "source": [
    "# Replacing Main Supervising District NaN with 'None'\n",
    "prisoner_df['Main Supervising District'] = prisoner_df['Main Supervising District'].fillna('None')"
   ]
  },
  {
   "cell_type": "code",
   "execution_count": 8,
   "metadata": {
    "scrolled": false
   },
   "outputs": [],
   "source": [
    "# Dealing with records with small amounts of missing values\n",
    "prisoner_df.dropna(subset=['Release Type', 'Race - Ethnicity','Age At Release ','Sex'], inplace=True)"
   ]
  },
  {
   "cell_type": "code",
   "execution_count": 9,
   "metadata": {
    "scrolled": false
   },
   "outputs": [],
   "source": [
    "# Dropping columns not needed for modeling\n",
    "cols_to_drop = ['Fiscal Year Released',\n",
    "                'Recidivism Reporting Year',\n",
    "                'Days to Return',\n",
    "                'Recidivism Type',\n",
    "                'New Offense Classification',\n",
    "                'New Offense Type',\n",
    "                'New Offense Sub Type',\n",
    "#                'Offense Subtype'\n",
    "               ]"
   ]
  },
  {
   "cell_type": "code",
   "execution_count": 10,
   "metadata": {
    "scrolled": false
   },
   "outputs": [],
   "source": [
    "prisoner_df_relevant = prisoner_df.drop(cols_to_drop, axis=1)"
   ]
  },
  {
   "cell_type": "code",
   "execution_count": 11,
   "metadata": {
    "scrolled": false
   },
   "outputs": [],
   "source": [
    "prisoner_df_relevant[\"Return to Prison\"].replace({\"Yes\": 1, \"No\": 0}, inplace=True)"
   ]
  },
  {
   "cell_type": "code",
   "execution_count": 12,
   "metadata": {
    "scrolled": true
   },
   "outputs": [
    {
     "name": "stdout",
     "output_type": "stream",
     "text": [
      "None                  7787\n",
      "5JD                   4982\n",
      "1JD                   2787\n",
      "2JD                   1988\n",
      "8JD                   1556\n",
      "7JD                   1514\n",
      "3JD                   1188\n",
      "6JD                   1098\n",
      "4JD                    666\n",
      "ISC                    350\n",
      "Interstate Compact     309\n",
      "Name: Main Supervising District, dtype: int64\n",
      "Parole                                 9810\n",
      "Parole Granted                         5577\n",
      "Discharged – End of Sentence           5007\n",
      "Discharged - Expiration of Sentence    2335\n",
      "Released to Special Sentence            401\n",
      "Special Sentence                        347\n",
      "Paroled w/Immediate Discharge           334\n",
      "Paroled to Detainer - Out of State      137\n",
      "Paroled to Detainer - INS               134\n",
      "Paroled to Detainer - U.S. Marshall      77\n",
      "Paroled to Detainer - Iowa               66\n",
      "Name: Release Type, dtype: int64\n",
      "White - Non-Hispanic                               16460\n",
      "Black - Non-Hispanic                                5687\n",
      "White - Hispanic                                    1365\n",
      "American Indian or Alaska Native - Non-Hispanic      463\n",
      "Asian or Pacific Islander - Non-Hispanic             175\n",
      "Black - Hispanic                                      36\n",
      "American Indian or Alaska Native - Hispanic           19\n",
      "White -                                               12\n",
      "Asian or Pacific Islander - Hispanic                   5\n",
      "Black -                                                2\n",
      "N/A -                                                  1\n",
      "Name: Race - Ethnicity, dtype: int64\n",
      "25-34           8879\n",
      "35-44           5847\n",
      "Under 25        4229\n",
      "45-54           4079\n",
      "55 and Older    1191\n",
      "Name: Age At Release , dtype: int64\n",
      "Male      21050\n",
      "Female     3175\n",
      "Name: Sex, dtype: int64\n",
      "D Felony                                    9786\n",
      "C Felony                                    6453\n",
      "Aggravated Misdemeanor                      4327\n",
      "B Felony                                    1716\n",
      "Felony - Enhancement to Original Penalty    1488\n",
      "Felony - Enhanced                            220\n",
      "Serious Misdemeanor                          139\n",
      "Special Sentence 2005                         69\n",
      "Felony - Mandatory Minimum                    10\n",
      "Other Felony                                   6\n",
      "A Felony                                       4\n",
      "Simple Misdemeanor                             3\n",
      "Other Felony (Old Code)                        2\n",
      "Sexual Predator Community Supervision          2\n",
      "Name: Offense Classification, dtype: int64\n",
      "Drug            7573\n",
      "Property        6863\n",
      "Violent         5288\n",
      "Public Order    3334\n",
      "Other           1167\n",
      "Name: Offense Type, dtype: int64\n",
      "Trafficking                        6242\n",
      "Assault                            2906\n",
      "Burglary                           2765\n",
      "Theft                              2481\n",
      "OWI                                1687\n",
      "Forgery/Fraud                      1133\n",
      "Sex                                1096\n",
      "Drug Possession                    1071\n",
      "Other Criminal                     1051\n",
      "Other Violent                       573\n",
      "Traffic                             490\n",
      "Murder/Manslaughter                 377\n",
      "Weapons                             348\n",
      "Vandalism                           323\n",
      "Robbery                             320\n",
      "Alcohol                             312\n",
      "Other Drug                          260\n",
      "Other Public Order                  258\n",
      "Arson                               152\n",
      "Sex Offender Registry/Residency     129\n",
      "Flight/Escape                        78\n",
      "Special Sentence Revocation          63\n",
      "Kidnap                               63\n",
      "Prostitution/Pimping                 32\n",
      "Stolen Property                       9\n",
      "Animals                               6\n",
      "Name: Offense Subtype, dtype: int64\n",
      "0    15894\n",
      "1     8331\n",
      "Name: Return to Prison, dtype: int64\n",
      "Yes    13807\n",
      "No     10418\n",
      "Name: Target Population, dtype: int64\n"
     ]
    }
   ],
   "source": [
    "for col in prisoner_df_relevant.columns:\n",
    "    print(prisoner_df_relevant[col].value_counts())"
   ]
  },
  {
   "cell_type": "code",
   "execution_count": 13,
   "metadata": {
    "scrolled": false
   },
   "outputs": [],
   "source": [
    "# Dropping records in some groups for which we don't much data for\n",
    "prisoner_df_relevant = prisoner_df_relevant.groupby('Race - Ethnicity').filter(lambda x: len(x) > 100)\n",
    "prisoner_df_relevant = prisoner_df_relevant.groupby('Offense Classification').filter(lambda x: len(x) > 100)\n",
    "prisoner_df_relevant = prisoner_df_relevant.groupby('Offense Subtype').filter(lambda x: len(x) > 100)"
   ]
  },
  {
   "cell_type": "code",
   "execution_count": 14,
   "metadata": {},
   "outputs": [],
   "source": [
    "# Interstate Compact and ISC are the same thing, just coded differently\n",
    "prisoner_df_relevant[\"Main Supervising District\"].replace({\"Interstate Compact\": \"ISC\"}, inplace=True)"
   ]
  },
  {
   "cell_type": "markdown",
   "metadata": {},
   "source": [
    "### Split data for cleaning & training"
   ]
  },
  {
   "cell_type": "code",
   "execution_count": 15,
   "metadata": {
    "scrolled": false
   },
   "outputs": [],
   "source": [
    "X = prisoner_df_relevant.drop(['Return to Prison'], axis=1)\n",
    "y = prisoner_df_relevant['Return to Prison']\n",
    "\n",
    "X_train, X_test, y_train, y_test = train_test_split(X, y, random_state=42, stratify=y)"
   ]
  },
  {
   "cell_type": "markdown",
   "metadata": {},
   "source": [
    "### Creating Helper Functions to Clean Data & Score Models\n",
    "\n",
    "Based on some emails I exchanged with a representative of the IDC, I was able to help clean up some data and group it into smaller buckets. Some labels meant the same thing, but were coded differently. This applies to \"Release Type\" and \"Offense Classification."
   ]
  },
  {
   "cell_type": "code",
   "execution_count": 16,
   "metadata": {
    "scrolled": false
   },
   "outputs": [],
   "source": [
    "# Cleaning up labels related to Release Type\n",
    "\n",
    "def release_type_transformer(df):\n",
    "    df.loc[df['Release Type'].str.contains('parole', case=False), 'Release Type'] = 'parole'\n",
    "    df.loc[df['Release Type'].str.contains('discharged', case=False), 'Release Type'] = 'discharged'\n",
    "    df.loc[df['Release Type'].str.contains('special', case=False), 'Release Type'] = 'special sentence'\n",
    "    return df\n",
    "\n",
    "# Function for cleaning up offense classifications with 'enhanced' label\n",
    "def offense_classification_transformer(df):\n",
    "    df.loc[df['Offense Classification'].str.contains('enhance', case=False),\n",
    "           'Offense Classification'] = 'enhanced felony'\n",
    "    return df\n",
    "\n",
    "# Creating helper function that will help me understand how the models do\n",
    "\n",
    "def model_performance(pipe, X, y):\n",
    "    \n",
    "    scoring = ['accuracy','precision_macro', 'recall_macro', 'f1_macro']\n",
    "    cv = cross_validate(pipe, X, y, return_train_score=True, scoring=scoring)\n",
    "    \n",
    "    # Printing Train & CV Scores\n",
    "    \n",
    "    print('Training Accuracy', round(cv['train_accuracy'].mean(),3))\n",
    "    print('---')\n",
    "    print('Cross_Val Accuracy', round(cv['test_accuracy'].mean(),3))\n",
    "    print('---')\n",
    "    print('Training Macro Precision:', round(cv['train_precision_macro'].mean(),3))\n",
    "    print('Cross_Val Macro Precision:', round(cv['test_precision_macro'].mean(),3))\n",
    "    print('---')\n",
    "    print('Training Macro Recall:', round(cv['train_recall_macro'].mean(),3))\n",
    "    print('Cross_Val Macro Recall:', round(cv['test_recall_macro'].mean(),3))\n",
    "    print('---')\n",
    "    print('Training Macro F1:', round(cv['train_f1_macro'].mean(),3))\n",
    "    print('Cross_Val Macro F1:', round(cv['test_f1_macro'].mean(),3))\n",
    "   \n",
    "    # Plotting a confusion matrix\n",
    "    plot_confusion_matrix(pipe, X, y, normalize='true')"
   ]
  },
  {
   "cell_type": "code",
   "execution_count": 17,
   "metadata": {
    "scrolled": false
   },
   "outputs": [],
   "source": [
    "# I now create a pipeline for cleaning\n",
    "cleaning_pipeline = Pipeline(steps=[\n",
    "    ('release', FunctionTransformer(release_type_transformer)),\n",
    "    ('classification', FunctionTransformer(offense_classification_transformer))\n",
    "])"
   ]
  },
  {
   "cell_type": "code",
   "execution_count": 18,
   "metadata": {
    "scrolled": false
   },
   "outputs": [],
   "source": [
    "# Applying the cleaning pipeline to the training data\n",
    "X_train_clean = cleaning_pipeline.fit_transform(X_train)"
   ]
  },
  {
   "cell_type": "markdown",
   "metadata": {},
   "source": [
    "### Model Iterations\n",
    "\n",
    "Next we begin modeling.\n",
    "\n",
    "My main score will be **macro recall**. This is because I'm interested in correctly predicting a specific class (return to prison). I will, however, keep an eye on precision and accuracy since I don't want a model that just always guesses the minority class."
   ]
  },
  {
   "cell_type": "markdown",
   "metadata": {},
   "source": [
    "### Dummy classifier\n",
    "\n",
    "I start with a dummy classifier that just guesses the majority class (in this case that's people who don't return to prison). This dummy will serve as a baseline to score our other models."
   ]
  },
  {
   "cell_type": "code",
   "execution_count": 19,
   "metadata": {
    "scrolled": false
   },
   "outputs": [],
   "source": [
    "dummy_pipe = Pipeline(steps=[\n",
    "    (\"ohe\", OneHotEncoder(sparse=False)),\n",
    "    ('dc', DummyClassifier(strategy='most_frequent'))])"
   ]
  },
  {
   "cell_type": "code",
   "execution_count": 20,
   "metadata": {
    "scrolled": false
   },
   "outputs": [
    {
     "data": {
      "text/html": [
       "<style>#sk-container-id-1 {color: black;background-color: white;}#sk-container-id-1 pre{padding: 0;}#sk-container-id-1 div.sk-toggleable {background-color: white;}#sk-container-id-1 label.sk-toggleable__label {cursor: pointer;display: block;width: 100%;margin-bottom: 0;padding: 0.3em;box-sizing: border-box;text-align: center;}#sk-container-id-1 label.sk-toggleable__label-arrow:before {content: \"▸\";float: left;margin-right: 0.25em;color: #696969;}#sk-container-id-1 label.sk-toggleable__label-arrow:hover:before {color: black;}#sk-container-id-1 div.sk-estimator:hover label.sk-toggleable__label-arrow:before {color: black;}#sk-container-id-1 div.sk-toggleable__content {max-height: 0;max-width: 0;overflow: hidden;text-align: left;background-color: #f0f8ff;}#sk-container-id-1 div.sk-toggleable__content pre {margin: 0.2em;color: black;border-radius: 0.25em;background-color: #f0f8ff;}#sk-container-id-1 input.sk-toggleable__control:checked~div.sk-toggleable__content {max-height: 200px;max-width: 100%;overflow: auto;}#sk-container-id-1 input.sk-toggleable__control:checked~label.sk-toggleable__label-arrow:before {content: \"▾\";}#sk-container-id-1 div.sk-estimator input.sk-toggleable__control:checked~label.sk-toggleable__label {background-color: #d4ebff;}#sk-container-id-1 div.sk-label input.sk-toggleable__control:checked~label.sk-toggleable__label {background-color: #d4ebff;}#sk-container-id-1 input.sk-hidden--visually {border: 0;clip: rect(1px 1px 1px 1px);clip: rect(1px, 1px, 1px, 1px);height: 1px;margin: -1px;overflow: hidden;padding: 0;position: absolute;width: 1px;}#sk-container-id-1 div.sk-estimator {font-family: monospace;background-color: #f0f8ff;border: 1px dotted black;border-radius: 0.25em;box-sizing: border-box;margin-bottom: 0.5em;}#sk-container-id-1 div.sk-estimator:hover {background-color: #d4ebff;}#sk-container-id-1 div.sk-parallel-item::after {content: \"\";width: 100%;border-bottom: 1px solid gray;flex-grow: 1;}#sk-container-id-1 div.sk-label:hover label.sk-toggleable__label {background-color: #d4ebff;}#sk-container-id-1 div.sk-serial::before {content: \"\";position: absolute;border-left: 1px solid gray;box-sizing: border-box;top: 0;bottom: 0;left: 50%;z-index: 0;}#sk-container-id-1 div.sk-serial {display: flex;flex-direction: column;align-items: center;background-color: white;padding-right: 0.2em;padding-left: 0.2em;position: relative;}#sk-container-id-1 div.sk-item {position: relative;z-index: 1;}#sk-container-id-1 div.sk-parallel {display: flex;align-items: stretch;justify-content: center;background-color: white;position: relative;}#sk-container-id-1 div.sk-item::before, #sk-container-id-1 div.sk-parallel-item::before {content: \"\";position: absolute;border-left: 1px solid gray;box-sizing: border-box;top: 0;bottom: 0;left: 50%;z-index: -1;}#sk-container-id-1 div.sk-parallel-item {display: flex;flex-direction: column;z-index: 1;position: relative;background-color: white;}#sk-container-id-1 div.sk-parallel-item:first-child::after {align-self: flex-end;width: 50%;}#sk-container-id-1 div.sk-parallel-item:last-child::after {align-self: flex-start;width: 50%;}#sk-container-id-1 div.sk-parallel-item:only-child::after {width: 0;}#sk-container-id-1 div.sk-dashed-wrapped {border: 1px dashed gray;margin: 0 0.4em 0.5em 0.4em;box-sizing: border-box;padding-bottom: 0.4em;background-color: white;}#sk-container-id-1 div.sk-label label {font-family: monospace;font-weight: bold;display: inline-block;line-height: 1.2em;}#sk-container-id-1 div.sk-label-container {text-align: center;}#sk-container-id-1 div.sk-container {/* jupyter's `normalize.less` sets `[hidden] { display: none; }` but bootstrap.min.css set `[hidden] { display: none !important; }` so we also need the `!important` here to be able to override the default hidden behavior on the sphinx rendered scikit-learn.org. See: https://github.com/scikit-learn/scikit-learn/issues/21755 */display: inline-block !important;position: relative;}#sk-container-id-1 div.sk-text-repr-fallback {display: none;}</style><div id=\"sk-container-id-1\" class=\"sk-top-container\"><div class=\"sk-text-repr-fallback\"><pre>Pipeline(steps=[(&#x27;ohe&#x27;, OneHotEncoder(sparse=False)),\n",
       "                (&#x27;dc&#x27;, DummyClassifier(strategy=&#x27;most_frequent&#x27;))])</pre><b>In a Jupyter environment, please rerun this cell to show the HTML representation or trust the notebook. <br />On GitHub, the HTML representation is unable to render, please try loading this page with nbviewer.org.</b></div><div class=\"sk-container\" hidden><div class=\"sk-item sk-dashed-wrapped\"><div class=\"sk-label-container\"><div class=\"sk-label sk-toggleable\"><input class=\"sk-toggleable__control sk-hidden--visually\" id=\"sk-estimator-id-1\" type=\"checkbox\" ><label for=\"sk-estimator-id-1\" class=\"sk-toggleable__label sk-toggleable__label-arrow\">Pipeline</label><div class=\"sk-toggleable__content\"><pre>Pipeline(steps=[(&#x27;ohe&#x27;, OneHotEncoder(sparse=False)),\n",
       "                (&#x27;dc&#x27;, DummyClassifier(strategy=&#x27;most_frequent&#x27;))])</pre></div></div></div><div class=\"sk-serial\"><div class=\"sk-item\"><div class=\"sk-estimator sk-toggleable\"><input class=\"sk-toggleable__control sk-hidden--visually\" id=\"sk-estimator-id-2\" type=\"checkbox\" ><label for=\"sk-estimator-id-2\" class=\"sk-toggleable__label sk-toggleable__label-arrow\">OneHotEncoder</label><div class=\"sk-toggleable__content\"><pre>OneHotEncoder(sparse=False)</pre></div></div></div><div class=\"sk-item\"><div class=\"sk-estimator sk-toggleable\"><input class=\"sk-toggleable__control sk-hidden--visually\" id=\"sk-estimator-id-3\" type=\"checkbox\" ><label for=\"sk-estimator-id-3\" class=\"sk-toggleable__label sk-toggleable__label-arrow\">DummyClassifier</label><div class=\"sk-toggleable__content\"><pre>DummyClassifier(strategy=&#x27;most_frequent&#x27;)</pre></div></div></div></div></div></div></div>"
      ],
      "text/plain": [
       "Pipeline(steps=[('ohe', OneHotEncoder(sparse=False)),\n",
       "                ('dc', DummyClassifier(strategy='most_frequent'))])"
      ]
     },
     "execution_count": 20,
     "metadata": {},
     "output_type": "execute_result"
    }
   ],
   "source": [
    "dummy_pipe.fit(X_train_clean, y_train)"
   ]
  },
  {
   "cell_type": "code",
   "execution_count": 21,
   "metadata": {
    "scrolled": false
   },
   "outputs": [
    {
     "name": "stdout",
     "output_type": "stream",
     "text": [
      "Training Accuracy 0.656\n",
      "---\n",
      "Cross_Val Accuracy 0.656\n",
      "---\n",
      "Training Macro Precision: 0.328\n",
      "Cross_Val Macro Precision: 0.328\n",
      "---\n",
      "Training Macro Recall: 0.5\n",
      "Cross_Val Macro Recall: 0.5\n",
      "---\n",
      "Training Macro F1: 0.396\n",
      "Cross_Val Macro F1: 0.396\n"
     ]
    },
    {
     "data": {
      "image/png": "[encoded data removed]",
      "text/plain": [
       "<Figure size 432x288 with 2 Axes>"
      ]
     },
     "metadata": {
      "needs_background": "light"
     },
     "output_type": "display_data"
    }
   ],
   "source": [
    "# Score the model\n",
    "model_performance(dummy_pipe, X_train_clean, y_train)"
   ]
  },
  {
   "cell_type": "markdown",
   "metadata": {},
   "source": [
    "### Decision Tree classifier\n",
    "\n",
    "We start with a Decision Tree. Decision trees are highly interoperable which is great for our use-case since we're trying to do inferential analysis to determine factors leading to recidivism.\n",
    "\n",
    "#### Iteration 1\n",
    "We start off by running a Decision Tree with all default parameters."
   ]
  },
  {
   "cell_type": "code",
   "execution_count": 22,
   "metadata": {},
   "outputs": [
    {
     "data": {
      "text/html": [
       "<style>#sk-container-id-2 {color: black;background-color: white;}#sk-container-id-2 pre{padding: 0;}#sk-container-id-2 div.sk-toggleable {background-color: white;}#sk-container-id-2 label.sk-toggleable__label {cursor: pointer;display: block;width: 100%;margin-bottom: 0;padding: 0.3em;box-sizing: border-box;text-align: center;}#sk-container-id-2 label.sk-toggleable__label-arrow:before {content: \"▸\";float: left;margin-right: 0.25em;color: #696969;}#sk-container-id-2 label.sk-toggleable__label-arrow:hover:before {color: black;}#sk-container-id-2 div.sk-estimator:hover label.sk-toggleable__label-arrow:before {color: black;}#sk-container-id-2 div.sk-toggleable__content {max-height: 0;max-width: 0;overflow: hidden;text-align: left;background-color: #f0f8ff;}#sk-container-id-2 div.sk-toggleable__content pre {margin: 0.2em;color: black;border-radius: 0.25em;background-color: #f0f8ff;}#sk-container-id-2 input.sk-toggleable__control:checked~div.sk-toggleable__content {max-height: 200px;max-width: 100%;overflow: auto;}#sk-container-id-2 input.sk-toggleable__control:checked~label.sk-toggleable__label-arrow:before {content: \"▾\";}#sk-container-id-2 div.sk-estimator input.sk-toggleable__control:checked~label.sk-toggleable__label {background-color: #d4ebff;}#sk-container-id-2 div.sk-label input.sk-toggleable__control:checked~label.sk-toggleable__label {background-color: #d4ebff;}#sk-container-id-2 input.sk-hidden--visually {border: 0;clip: rect(1px 1px 1px 1px);clip: rect(1px, 1px, 1px, 1px);height: 1px;margin: -1px;overflow: hidden;padding: 0;position: absolute;width: 1px;}#sk-container-id-2 div.sk-estimator {font-family: monospace;background-color: #f0f8ff;border: 1px dotted black;border-radius: 0.25em;box-sizing: border-box;margin-bottom: 0.5em;}#sk-container-id-2 div.sk-estimator:hover {background-color: #d4ebff;}#sk-container-id-2 div.sk-parallel-item::after {content: \"\";width: 100%;border-bottom: 1px solid gray;flex-grow: 1;}#sk-container-id-2 div.sk-label:hover label.sk-toggleable__label {background-color: #d4ebff;}#sk-container-id-2 div.sk-serial::before {content: \"\";position: absolute;border-left: 1px solid gray;box-sizing: border-box;top: 0;bottom: 0;left: 50%;z-index: 0;}#sk-container-id-2 div.sk-serial {display: flex;flex-direction: column;align-items: center;background-color: white;padding-right: 0.2em;padding-left: 0.2em;position: relative;}#sk-container-id-2 div.sk-item {position: relative;z-index: 1;}#sk-container-id-2 div.sk-parallel {display: flex;align-items: stretch;justify-content: center;background-color: white;position: relative;}#sk-container-id-2 div.sk-item::before, #sk-container-id-2 div.sk-parallel-item::before {content: \"\";position: absolute;border-left: 1px solid gray;box-sizing: border-box;top: 0;bottom: 0;left: 50%;z-index: -1;}#sk-container-id-2 div.sk-parallel-item {display: flex;flex-direction: column;z-index: 1;position: relative;background-color: white;}#sk-container-id-2 div.sk-parallel-item:first-child::after {align-self: flex-end;width: 50%;}#sk-container-id-2 div.sk-parallel-item:last-child::after {align-self: flex-start;width: 50%;}#sk-container-id-2 div.sk-parallel-item:only-child::after {width: 0;}#sk-container-id-2 div.sk-dashed-wrapped {border: 1px dashed gray;margin: 0 0.4em 0.5em 0.4em;box-sizing: border-box;padding-bottom: 0.4em;background-color: white;}#sk-container-id-2 div.sk-label label {font-family: monospace;font-weight: bold;display: inline-block;line-height: 1.2em;}#sk-container-id-2 div.sk-label-container {text-align: center;}#sk-container-id-2 div.sk-container {/* jupyter's `normalize.less` sets `[hidden] { display: none; }` but bootstrap.min.css set `[hidden] { display: none !important; }` so we also need the `!important` here to be able to override the default hidden behavior on the sphinx rendered scikit-learn.org. See: https://github.com/scikit-learn/scikit-learn/issues/21755 */display: inline-block !important;position: relative;}#sk-container-id-2 div.sk-text-repr-fallback {display: none;}</style><div id=\"sk-container-id-2\" class=\"sk-top-container\"><div class=\"sk-text-repr-fallback\"><pre>Pipeline(steps=[(&#x27;ohe&#x27;, OneHotEncoder(sparse=False)),\n",
       "                [&#x27;dt&#x27;, DecisionTreeClassifier(random_state=123)]])</pre><b>In a Jupyter environment, please rerun this cell to show the HTML representation or trust the notebook. <br />On GitHub, the HTML representation is unable to render, please try loading this page with nbviewer.org.</b></div><div class=\"sk-container\" hidden><div class=\"sk-item sk-dashed-wrapped\"><div class=\"sk-label-container\"><div class=\"sk-label sk-toggleable\"><input class=\"sk-toggleable__control sk-hidden--visually\" id=\"sk-estimator-id-4\" type=\"checkbox\" ><label for=\"sk-estimator-id-4\" class=\"sk-toggleable__label sk-toggleable__label-arrow\">Pipeline</label><div class=\"sk-toggleable__content\"><pre>Pipeline(steps=[(&#x27;ohe&#x27;, OneHotEncoder(sparse=False)),\n",
       "                [&#x27;dt&#x27;, DecisionTreeClassifier(random_state=123)]])</pre></div></div></div><div class=\"sk-serial\"><div class=\"sk-item\"><div class=\"sk-estimator sk-toggleable\"><input class=\"sk-toggleable__control sk-hidden--visually\" id=\"sk-estimator-id-5\" type=\"checkbox\" ><label for=\"sk-estimator-id-5\" class=\"sk-toggleable__label sk-toggleable__label-arrow\">OneHotEncoder</label><div class=\"sk-toggleable__content\"><pre>OneHotEncoder(sparse=False)</pre></div></div></div><div class=\"sk-item\"><div class=\"sk-estimator sk-toggleable\"><input class=\"sk-toggleable__control sk-hidden--visually\" id=\"sk-estimator-id-6\" type=\"checkbox\" ><label for=\"sk-estimator-id-6\" class=\"sk-toggleable__label sk-toggleable__label-arrow\">DecisionTreeClassifier</label><div class=\"sk-toggleable__content\"><pre>DecisionTreeClassifier(random_state=123)</pre></div></div></div></div></div></div></div>"
      ],
      "text/plain": [
       "Pipeline(steps=[('ohe', OneHotEncoder(sparse=False)),\n",
       "                ['dt', DecisionTreeClassifier(random_state=123)]])"
      ]
     },
     "execution_count": 22,
     "metadata": {},
     "output_type": "execute_result"
    }
   ],
   "source": [
    "dt_pipe = Pipeline(steps=[\n",
    "    [\"ohe\", OneHotEncoder(sparse=False)],\n",
    "    ['dt', DecisionTreeClassifier(random_state=123)]\n",
    "])\n",
    "\n",
    "dt_pipe.fit(X_train_clean, y_train)"
   ]
  },
  {
   "cell_type": "code",
   "execution_count": 23,
   "metadata": {},
   "outputs": [
    {
     "name": "stdout",
     "output_type": "stream",
     "text": [
      "Training Accuracy 0.79\n",
      "---\n",
      "Cross_Val Accuracy 0.631\n",
      "---\n",
      "Training Macro Precision: 0.793\n",
      "Cross_Val Macro Precision: 0.568\n",
      "---\n",
      "Training Macro Recall: 0.726\n",
      "Cross_Val Macro Recall: 0.555\n",
      "---\n",
      "Training Macro F1: 0.742\n",
      "Cross_Val Macro F1: 0.553\n"
     ]
    },
    {
     "data": {
      "image/png": "[encoded data removed]",
      "text/plain": [
       "<Figure size 432x288 with 2 Axes>"
      ]
     },
     "metadata": {
      "needs_background": "light"
     },
     "output_type": "display_data"
    }
   ],
   "source": [
    "# Score the model\n",
    "model_performance(dt_pipe, X_train_clean, y_train)"
   ]
  },
  {
   "cell_type": "markdown",
   "metadata": {},
   "source": [
    "**Model Evaluation:** This is an improvement over the dummy model based on the improvement to both recall and precision, without much of a hit to accuracy. However, it looks like we're overfitting based on the disparity between training and cross_val scores."
   ]
  },
  {
   "cell_type": "markdown",
   "metadata": {},
   "source": [
    "#### Decision Tree Iteration  2 - GridSearch\n",
    "\n",
    "Next we will GridSearch over different hyperparameters to see if we can drive better performance and also reduce overfitting.\n",
    "\n",
    "To reduce overfitting in a Decision Tree we can try pre-prunning by altering hyperparameters like max_depth, min_samples_leaf and min_samples_split."
   ]
  },
  {
   "cell_type": "code",
   "execution_count": 24,
   "metadata": {
    "scrolled": false
   },
   "outputs": [
    {
     "name": "stdout",
     "output_type": "stream",
     "text": [
      "{'dt__class_weight': None, 'dt__criterion': 'entropy', 'dt__max_depth': 10, 'dt__min_samples_leaf': 2, 'dt__min_samples_split': 10}\n"
     ]
    }
   ],
   "source": [
    "dt_param_grid = {\n",
    "    'dt__criterion': ['gini', 'entropy'],\n",
    "    'dt__max_depth': [3, 5, 10, 15, 20],\n",
    "    'dt__min_samples_split': [2, 5, 7, 10],\n",
    "    'dt__min_samples_leaf': [2, 3, 5],\n",
    "    'dt__class_weight': [None, 'balanced']\n",
    "}\n",
    "\n",
    "dt_gridsearch = GridSearchCV(estimator=dt_pipe, \n",
    "                          param_grid=dt_param_grid)\n",
    "\n",
    "# Fit the training data\n",
    "dt_gridsearch.fit(X_train_clean, y_train)\n",
    "\n",
    "# We look to see the best parameters according to the above GridSearch\n",
    "print(dt_gridsearch.best_params_)"
   ]
  },
  {
   "cell_type": "code",
   "execution_count": 55,
   "metadata": {
    "scrolled": false
   },
   "outputs": [
    {
     "name": "stdout",
     "output_type": "stream",
     "text": [
      "Training Accuracy 0.676\n",
      "---\n",
      "Cross_Val Accuracy 0.662\n",
      "---\n",
      "Training Macro Precision: 0.632\n",
      "Cross_Val Macro Precision: 0.604\n",
      "---\n",
      "Training Macro Recall: 0.573\n",
      "Cross_Val Macro Recall: 0.557\n",
      "---\n",
      "Training Macro F1: 0.562\n",
      "Cross_Val Macro F1: 0.543\n"
     ]
    },
    {
     "data": {
      "image/png": "[encoded data removed]",
      "text/plain": [
       "<Figure size 432x288 with 2 Axes>"
      ]
     },
     "metadata": {
      "needs_background": "light"
     },
     "output_type": "display_data"
    }
   ],
   "source": [
    "# Now we run this Decision Tree and score it\n",
    "dt_pipe2 = Pipeline(steps=[\n",
    "    [\"ohe\", OneHotEncoder(sparse=False)],\n",
    "    ['dt', DecisionTreeClassifier(criterion='entropy',\n",
    "                                  max_depth = 10,\n",
    "                                  min_samples_leaf = 2,\n",
    "                                  min_samples_split= 10,\n",
    "                                  random_state=123)]\n",
    "])\n",
    "\n",
    "dt_pipe2.fit(X_train_clean, y_train)\n",
    "\n",
    "model_performance(dt_pipe2, X_train_clean, y_train)"
   ]
  },
  {
   "cell_type": "markdown",
   "metadata": {},
   "source": [
    "**Model Evaluation:** While overfitting was solved, our recall score dropped substantially to something just above our baseline model. It looks like this model basically mostly guessed the dominant class."
   ]
  },
  {
   "cell_type": "markdown",
   "metadata": {},
   "source": [
    "#### Decision Tree Iteration 3 - Dealing with Class Imbalance\n",
    "\n",
    "Given the data is somewhat imbalanced (65/35 split), we next look to see whether oversampling with SMOTEN improves our decision tree."
   ]
  },
  {
   "cell_type": "code",
   "execution_count": 56,
   "metadata": {
    "scrolled": false
   },
   "outputs": [
    {
     "name": "stdout",
     "output_type": "stream",
     "text": [
      "Training Accuracy 0.618\n",
      "---\n",
      "Cross_Val Accuracy 0.59\n",
      "---\n",
      "Training Macro Precision: 0.62\n",
      "Cross_Val Macro Precision: 0.593\n",
      "---\n",
      "Training Macro Recall: 0.633\n",
      "Cross_Val Macro Recall: 0.603\n",
      "---\n",
      "Training Macro F1: 0.609\n",
      "Cross_Val Macro F1: 0.581\n"
     ]
    },
    {
     "data": {
      "image/png": "[encoded data removed]",
      "text/plain": [
       "<Figure size 432x288 with 2 Axes>"
      ]
     },
     "metadata": {
      "needs_background": "light"
     },
     "output_type": "display_data"
    }
   ],
   "source": [
    "dt_pipe3 = imbpipe(steps=[\n",
    "    (\"ohe\", OneHotEncoder(sparse=False)),\n",
    "    ('sm', SMOTEN(random_state=123)),\n",
    "    ('dt', DecisionTreeClassifier(criterion='entropy',\n",
    "                                  max_depth = 10,\n",
    "                                  min_samples_leaf = 2,\n",
    "                                  min_samples_split= 10,\n",
    "                                  random_state=123))\n",
    "])\n",
    "\n",
    "# Fit the training data\n",
    "dt_pipe3.fit(X_train_clean, y_train)\n",
    "\n",
    "model_performance(dt_pipe3, X_train_clean, y_train)"
   ]
  },
  {
   "cell_type": "markdown",
   "metadata": {},
   "source": [
    "**Model Evaluation:** This is the best performing model so far based on recall, which is what we care about for the business case. The accuracy is still not as good as the dummy model, but that may be a cost worth paying."
   ]
  },
  {
   "cell_type": "markdown",
   "metadata": {},
   "source": [
    "### Random Forest classifier\n",
    "\n",
    "A natural next step after trying a Decision Tree is to try a random forest. So that's what we'll do.\n",
    "\n",
    "#### Random Forest Iteration 1 - Default Parameters"
   ]
  },
  {
   "cell_type": "code",
   "execution_count": 27,
   "metadata": {},
   "outputs": [
    {
     "name": "stdout",
     "output_type": "stream",
     "text": [
      "Training Accuracy 0.79\n",
      "---\n",
      "Cross_Val Accuracy 0.64\n",
      "---\n",
      "Training Macro Precision: 0.779\n",
      "Cross_Val Macro Precision: 0.583\n",
      "---\n",
      "Training Macro Recall: 0.739\n",
      "Cross_Val Macro Recall: 0.568\n",
      "---\n",
      "Training Macro F1: 0.751\n",
      "Cross_Val Macro F1: 0.568\n"
     ]
    },
    {
     "data": {
      "image/png": "[encoded data removed]",
      "text/plain": [
       "<Figure size 432x288 with 2 Axes>"
      ]
     },
     "metadata": {
      "needs_background": "light"
     },
     "output_type": "display_data"
    }
   ],
   "source": [
    "rf_pipe = Pipeline(steps=[\n",
    "    (\"ohe\", OneHotEncoder(sparse=False)),\n",
    "    ('rf',  RandomForestClassifier())\n",
    "])\n",
    "\n",
    "rf_pipe.fit(X_train_clean, y_train)\n",
    "\n",
    "model_performance(rf_pipe, X_train_clean, y_train)"
   ]
  },
  {
   "cell_type": "markdown",
   "metadata": {},
   "source": [
    "**Model Evaluation:** Immediately  with a random forest we run into overfitting issues. The scores are promising, but we need to see if they will hold after dealing with overfitting."
   ]
  },
  {
   "cell_type": "markdown",
   "metadata": {},
   "source": [
    "#### Random Forest Iteration 2 - GridSearch\n",
    "\n",
    "Once again, we search over some hyperparameters here in an effort to reduce overfitting."
   ]
  },
  {
   "cell_type": "code",
   "execution_count": 28,
   "metadata": {
    "scrolled": false
   },
   "outputs": [
    {
     "name": "stdout",
     "output_type": "stream",
     "text": [
      "{'rf__class_weight': None, 'rf__max_depth': 6, 'rf__min_samples_leaf': 5, 'rf__min_samples_split': 3, 'rf__n_estimators': 3}\n"
     ]
    }
   ],
   "source": [
    "# Searching for the best RF hyperparameters\n",
    "\n",
    "rf_grid = [{'rf__max_depth': [4, 5, 6], \n",
    "         'rf__min_samples_split': [3, 5, 10], \n",
    "         'rf__min_samples_leaf': [2, 3, 5],\n",
    "         'rf__n_estimators': [2, 3, 4, 5, 200],\n",
    "         'rf__class_weight': [None, 'balanced']\n",
    "           }]\n",
    "\n",
    "rf_gridsearch = GridSearchCV(estimator=rf_pipe, \n",
    "                          param_grid=rf_grid)\n",
    "\n",
    "# Fit the training data\n",
    "rf_gridsearch.fit(X_train_clean, y_train)\n",
    "\n",
    "# Print the best params\n",
    "print(rf_gridsearch.best_params_)"
   ]
  },
  {
   "cell_type": "code",
   "execution_count": 57,
   "metadata": {
    "scrolled": false
   },
   "outputs": [
    {
     "name": "stdout",
     "output_type": "stream",
     "text": [
      "Training Accuracy 0.661\n",
      "---\n",
      "Cross_Val Accuracy 0.659\n",
      "---\n",
      "Training Macro Precision: 0.643\n",
      "Cross_Val Macro Precision: 0.619\n",
      "---\n",
      "Training Macro Recall: 0.512\n",
      "Cross_Val Macro Recall: 0.509\n",
      "---\n",
      "Training Macro F1: 0.429\n",
      "Cross_Val Macro F1: 0.425\n"
     ]
    },
    {
     "data": {
      "image/png": "[encoded data removed]",
      "text/plain": [
       "<Figure size 432x288 with 2 Axes>"
      ]
     },
     "metadata": {
      "needs_background": "light"
     },
     "output_type": "display_data"
    }
   ],
   "source": [
    "# Run and score a model using the above hyper-parameters\n",
    "\n",
    "rf_pipe2 = Pipeline(steps=[\n",
    "    (\"ohe\", OneHotEncoder(sparse=False)),\n",
    "    ('dt',  RandomForestClassifier(max_depth = 6,\n",
    "                                   min_samples_leaf = 5,\n",
    "                                   min_samples_split = 3,\n",
    "                                   n_estimators = 3,\n",
    "                                   class_weight = None,\n",
    "                                   random_state=123))\n",
    "])\n",
    "\n",
    "rf_pipe2.fit(X_train_clean, y_train)\n",
    "\n",
    "model_performance(rf_pipe2, X_train_clean, y_train)"
   ]
  },
  {
   "cell_type": "markdown",
   "metadata": {},
   "source": [
    "**Model Evaluation:** Like with decision trees, overfitting was solved by the gridsearch at the cost of Recall - which is not acceptable. For Decision Trees, dealing with Class Imbalance through SMOTEN helped so that's what we'll do next."
   ]
  },
  {
   "cell_type": "markdown",
   "metadata": {},
   "source": [
    "#### Random Forest Iteration 3 - SMOTEN\n",
    "\n",
    "Now we try the above, correcting for class imbalance."
   ]
  },
  {
   "cell_type": "code",
   "execution_count": 30,
   "metadata": {
    "scrolled": false
   },
   "outputs": [
    {
     "name": "stdout",
     "output_type": "stream",
     "text": [
      "Training Accuracy 0.578\n",
      "---\n",
      "Cross_Val Accuracy 0.571\n",
      "---\n",
      "Training Macro Precision: 0.596\n",
      "Cross_Val Macro Precision: 0.592\n",
      "---\n",
      "Training Macro Recall: 0.605\n",
      "Cross_Val Macro Recall: 0.6\n",
      "---\n",
      "Training Macro F1: 0.573\n",
      "Cross_Val Macro F1: 0.567\n"
     ]
    },
    {
     "data": {
      "image/png": "[encoded data removed]",
      "text/plain": [
       "<Figure size 432x288 with 2 Axes>"
      ]
     },
     "metadata": {
      "needs_background": "light"
     },
     "output_type": "display_data"
    }
   ],
   "source": [
    "rf_pipe3 = imbpipe(steps=[\n",
    "    (\"ohe\", OneHotEncoder(sparse=False)),\n",
    "    ('sm', SMOTEN(random_state=123)),\n",
    "    ('dt',  RandomForestClassifier(max_depth = 5,\n",
    "                                   min_samples_leaf = 5,\n",
    "                                   min_samples_split = 3,\n",
    "                                   n_estimators = 3,\n",
    "                                   random_state=123))\n",
    "])\n",
    "\n",
    "rf_pipe3.fit(X_train_clean, y_train)\n",
    "\n",
    "model_performance(rf_pipe3, X_train_clean, y_train)"
   ]
  },
  {
   "cell_type": "markdown",
   "metadata": {},
   "source": [
    "**Model Evaluation** The recall improved to our best performing Decision Tree model, but has worse accuracy. So we abandon Random Forests and move on to something else."
   ]
  },
  {
   "cell_type": "markdown",
   "metadata": {},
   "source": [
    "### XGBoost classifier\n",
    "\n",
    "Next we try to improve on the model using XGBoost.\n",
    "\n",
    "#### XGBoost Iteration 1 - Default Parameters\n",
    "Like before, we start by just running the default hyperparameters."
   ]
  },
  {
   "cell_type": "code",
   "execution_count": 31,
   "metadata": {},
   "outputs": [
    {
     "name": "stdout",
     "output_type": "stream",
     "text": [
      "Training Accuracy 0.727\n",
      "---\n",
      "Cross_Val Accuracy 0.657\n",
      "---\n",
      "Training Macro Precision: 0.71\n",
      "Cross_Val Macro Precision: 0.597\n",
      "---\n",
      "Training Macro Recall: 0.644\n",
      "Cross_Val Macro Recall: 0.566\n",
      "---\n",
      "Training Macro F1: 0.651\n",
      "Cross_Val Macro F1: 0.561\n"
     ]
    },
    {
     "data": {
      "image/png": "[encoded data removed]",
      "text/plain": [
       "<Figure size 432x288 with 2 Axes>"
      ]
     },
     "metadata": {
      "needs_background": "light"
     },
     "output_type": "display_data"
    }
   ],
   "source": [
    "# Optimized XGBoost Classifier\n",
    "xgb_pipe = Pipeline(steps=[\n",
    "    (\"ohe\", OneHotEncoder(sparse=False)),\n",
    "    ('xg', XGBClassifier())\n",
    "])\n",
    "\n",
    "xgb_pipe.fit(X_train_clean, y_train)\n",
    "\n",
    "model_performance(xgb_pipe, X_train_clean, y_train)"
   ]
  },
  {
   "cell_type": "markdown",
   "metadata": {},
   "source": [
    "**Model Evaluation:** Like before, we didn't get the best results with just the default hyperparameters. There is some indication of overfitting. So we move to a GridSearch."
   ]
  },
  {
   "cell_type": "markdown",
   "metadata": {},
   "source": [
    "#### XGBoost Iteration 2 - GridSearch"
   ]
  },
  {
   "cell_type": "code",
   "execution_count": 32,
   "metadata": {
    "scrolled": false
   },
   "outputs": [
    {
     "name": "stdout",
     "output_type": "stream",
     "text": [
      "{'xg__learning_rate': 0.05, 'xg__max_depth': 6, 'xg__min_child_weight': 1, 'xg__subsample': 0.5}\n"
     ]
    }
   ],
   "source": [
    "# Searching for the best hyperparameters\n",
    "\n",
    "xgb_grid = {\n",
    "    'xg__learning_rate': [0.05, 0.10, 0.15],\n",
    "    'xg__max_depth': [3, 6, 12, 15],\n",
    "    'xg__min_child_weight': [1, 3, 5, 7],\n",
    "    'xg__subsample': [0.5, 0.7]\n",
    "}\n",
    "\n",
    "xgb_gridsearch = GridSearchCV(estimator=xgb_pipe, \n",
    "                          param_grid=xgb_grid)\n",
    "\n",
    "# Fit the training data\n",
    "xgb_gridsearch.fit(X_train_clean, y_train)\n",
    "\n",
    "# Print the recall on test set and best params\n",
    "print(xgb_gridsearch.best_params_)"
   ]
  },
  {
   "cell_type": "code",
   "execution_count": 58,
   "metadata": {
    "scrolled": false
   },
   "outputs": [
    {
     "name": "stdout",
     "output_type": "stream",
     "text": [
      "Training Accuracy 0.687\n",
      "---\n",
      "Cross_Val Accuracy 0.669\n",
      "---\n",
      "Training Macro Precision: 0.661\n",
      "Cross_Val Macro Precision: 0.621\n",
      "---\n",
      "Training Macro Recall: 0.577\n",
      "Cross_Val Macro Recall: 0.557\n",
      "---\n",
      "Training Macro F1: 0.563\n",
      "Cross_Val Macro F1: 0.538\n"
     ]
    },
    {
     "data": {
      "image/png": "[encoded data removed]",
      "text/plain": [
       "<Figure size 432x288 with 2 Axes>"
      ]
     },
     "metadata": {
      "needs_background": "light"
     },
     "output_type": "display_data"
    }
   ],
   "source": [
    "# Optimized XGBoost Classifier\n",
    "xgb_pipe2 = Pipeline(steps=[\n",
    "    (\"ohe\", OneHotEncoder(sparse=False)),\n",
    "    ('xg', XGBClassifier(learning_rate = 0.05,\n",
    "                         max_depth = 6,\n",
    "                         min_child_weight = 1,\n",
    "                         subsample = 0.5,\n",
    "                         random_state=123))\n",
    "])\n",
    "\n",
    "xgb_pipe2.fit(X_train_clean, y_train)\n",
    "\n",
    "model_performance(xgb_pipe2, X_train_clean, y_train)"
   ]
  },
  {
   "cell_type": "markdown",
   "metadata": {},
   "source": [
    "**Model Evaluation:** No or minimal overfitting, but a lackluster recall score compared to the DecisionTree from before. However, we haven't dealt with ClassImbalance yet, which is where the other models so far had their best showing so I do that next."
   ]
  },
  {
   "cell_type": "markdown",
   "metadata": {},
   "source": [
    "#### XGBoost Iteration 3 - SMOTEN"
   ]
  },
  {
   "cell_type": "code",
   "execution_count": 59,
   "metadata": {
    "scrolled": false
   },
   "outputs": [
    {
     "name": "stdout",
     "output_type": "stream",
     "text": [
      "Training Accuracy 0.645\n",
      "---\n",
      "Cross_Val Accuracy 0.615\n",
      "---\n",
      "Training Macro Precision: 0.636\n",
      "Cross_Val Macro Precision: 0.605\n",
      "---\n",
      "Training Macro Recall: 0.65\n",
      "Cross_Val Macro Recall: 0.616\n",
      "---\n",
      "Training Macro F1: 0.632\n",
      "Cross_Val Macro F1: 0.601\n"
     ]
    },
    {
     "data": {
      "image/png": "[encoded data removed]",
      "text/plain": [
       "<Figure size 432x288 with 2 Axes>"
      ]
     },
     "metadata": {
      "needs_background": "light"
     },
     "output_type": "display_data"
    }
   ],
   "source": [
    "xgb_pipe3 = imbpipe(steps=[\n",
    "    (\"ohe\", OneHotEncoder(sparse=False)),\n",
    "    ('sm', SMOTEN(random_state=123)),\n",
    "    ('dt',  XGBClassifier(learning_rate = 0.05,\n",
    "                         max_depth = 6,\n",
    "                         min_child_weight = 1,\n",
    "                         subsample = 0.5,\n",
    "                         random_state=123))\n",
    "])\n",
    "\n",
    "# Fit the training data\n",
    "xgb_pipe3.fit(X_train_clean, y_train)\n",
    "\n",
    "model_performance(xgb_pipe3, X_train_clean, y_train)"
   ]
  },
  {
   "cell_type": "markdown",
   "metadata": {},
   "source": [
    "**Model Evaluation:** The best recall so far!"
   ]
  },
  {
   "cell_type": "markdown",
   "metadata": {},
   "source": [
    "### Logistic Regression classifier\n",
    "\n",
    "Next, I try one more classifier - Logistic Regression."
   ]
  },
  {
   "cell_type": "markdown",
   "metadata": {},
   "source": [
    "#### Logistic Regression Iteration 1 - Default"
   ]
  },
  {
   "cell_type": "code",
   "execution_count": 35,
   "metadata": {},
   "outputs": [
    {
     "name": "stdout",
     "output_type": "stream",
     "text": [
      "Training Accuracy 0.667\n",
      "---\n",
      "Cross_Val Accuracy 0.665\n",
      "---\n",
      "Training Macro Precision: 0.614\n",
      "Cross_Val Macro Precision: 0.609\n",
      "---\n",
      "Training Macro Recall: 0.551\n",
      "Cross_Val Macro Recall: 0.549\n",
      "---\n",
      "Training Macro F1: 0.528\n",
      "Cross_Val Macro F1: 0.526\n"
     ]
    },
    {
     "data": {
      "image/png": "[encoded data removed]",
      "text/plain": [
       "<Figure size 432x288 with 2 Axes>"
      ]
     },
     "metadata": {
      "needs_background": "light"
     },
     "output_type": "display_data"
    }
   ],
   "source": [
    "lr_pipe = Pipeline(steps=[\n",
    "    (\"ohe\", OneHotEncoder(sparse=False)),\n",
    "    ('lr', LogisticRegression(random_state=123))\n",
    "])\n",
    "\n",
    "lr_pipe.fit(X_train_clean, y_train)\n",
    "\n",
    "model_performance(lr_pipe, X_train_clean, y_train)"
   ]
  },
  {
   "cell_type": "markdown",
   "metadata": {},
   "source": [
    "**Model Evaluation:** Not much better than the dummy model."
   ]
  },
  {
   "cell_type": "markdown",
   "metadata": {},
   "source": [
    "#### Logistic Regression Iteration 2 - GridSearch, With Penalty"
   ]
  },
  {
   "cell_type": "code",
   "execution_count": 36,
   "metadata": {},
   "outputs": [
    {
     "name": "stdout",
     "output_type": "stream",
     "text": [
      "{'lr__C': 0.1, 'lr__penalty': 'l1', 'lr__solver': 'liblinear'}\n"
     ]
    }
   ],
   "source": [
    "lr_param_grid = {\n",
    "    'lr__C': [0.01, 0.1, 1, 10, 1e5], # Trying different levels of regularization\n",
    "    'lr__penalty': ['l1', 'l2'], # Trying different levels of regularization\n",
    "    'lr__solver': ['lbfgs', 'liblinear', 'saga'] # Trying different solvers\n",
    "}\n",
    "\n",
    "lr_gridsearch = GridSearchCV(estimator=lr_pipe, \n",
    "                          param_grid=lr_param_grid)\n",
    "\n",
    "# Fit the training data\n",
    "lr_gridsearch.fit(X_train_clean, y_train)\n",
    "\n",
    "# Show the best parameters\n",
    "print(lr_gridsearch.best_params_)"
   ]
  },
  {
   "cell_type": "code",
   "execution_count": 60,
   "metadata": {},
   "outputs": [
    {
     "name": "stdout",
     "output_type": "stream",
     "text": [
      "Training Accuracy 0.666\n",
      "---\n",
      "Cross_Val Accuracy 0.665\n",
      "---\n",
      "Training Macro Precision: 0.616\n",
      "Cross_Val Macro Precision: 0.614\n",
      "---\n",
      "Training Macro Recall: 0.541\n",
      "Cross_Val Macro Recall: 0.54\n",
      "---\n",
      "Training Macro F1: 0.506\n",
      "Cross_Val Macro F1: 0.504\n"
     ]
    },
    {
     "data": {
      "image/png": "[encoded data removed]",
      "text/plain": [
       "<Figure size 432x288 with 2 Axes>"
      ]
     },
     "metadata": {
      "needs_background": "light"
     },
     "output_type": "display_data"
    }
   ],
   "source": [
    "# Logistic Regression with best params discovered above\n",
    "lr_pipe2 = Pipeline(steps=[\n",
    "    (\"ohe\", OneHotEncoder(sparse=False)),\n",
    "    ('lr', LogisticRegression(max_iter=1000, C = 0.1,\n",
    "                              penalty = 'l1',\n",
    "                              solver = 'liblinear',\n",
    "                              random_state=123))\n",
    "])\n",
    "\n",
    "lr_pipe2.fit(X_train_clean, y_train)\n",
    "\n",
    "model_performance(lr_pipe2, X_train_clean, y_train)"
   ]
  },
  {
   "cell_type": "markdown",
   "metadata": {},
   "source": [
    "#### Logistic Regression Iteration 3 - SMOTEN\n",
    "\n",
    "Next, I take that model and resolve the class imbalance."
   ]
  },
  {
   "cell_type": "code",
   "execution_count": 61,
   "metadata": {},
   "outputs": [
    {
     "name": "stdout",
     "output_type": "stream",
     "text": [
      "Training Accuracy 0.623\n",
      "---\n",
      "Cross_Val Accuracy 0.621\n",
      "---\n",
      "Training Macro Precision: 0.606\n",
      "Cross_Val Macro Precision: 0.604\n",
      "---\n",
      "Training Macro Recall: 0.615\n",
      "Cross_Val Macro Recall: 0.613\n",
      "---\n",
      "Training Macro F1: 0.604\n",
      "Cross_Val Macro F1: 0.602\n"
     ]
    },
    {
     "data": {
      "image/png": "[encoded data removed]",
      "text/plain": [
       "<Figure size 432x288 with 2 Axes>"
      ]
     },
     "metadata": {
      "needs_background": "light"
     },
     "output_type": "display_data"
    }
   ],
   "source": [
    "# Logistic Regression, No Penalty, Best Solver\n",
    "lr_pipe3 = imbpipe(steps=[\n",
    "    (\"ohe\", OneHotEncoder(sparse=False)),\n",
    "    ('sm', SMOTEN(random_state=123)),\n",
    "    ('lr', LogisticRegression(max_iter=1000, C = 0.1,\n",
    "                              penalty = 'l1',\n",
    "                              solver = 'liblinear',\n",
    "                              random_state=123))\n",
    "])\n",
    "\n",
    "lr_pipe3.fit(X_train_clean, y_train)\n",
    "\n",
    "model_performance(lr_pipe3, X_train_clean, y_train)"
   ]
  },
  {
   "cell_type": "markdown",
   "metadata": {},
   "source": [
    "#### Logistic Regression Iteration 4 - SMOTEN, No Penalty"
   ]
  },
  {
   "cell_type": "code",
   "execution_count": 39,
   "metadata": {},
   "outputs": [
    {
     "name": "stdout",
     "output_type": "stream",
     "text": [
      "Training Accuracy 0.633\n",
      "---\n",
      "Cross_Val Accuracy 0.628\n",
      "---\n",
      "Training Macro Precision: 0.604\n",
      "Cross_Val Macro Precision: 0.599\n",
      "---\n",
      "Training Macro Recall: 0.61\n",
      "Cross_Val Macro Recall: 0.605\n",
      "---\n",
      "Training Macro F1: 0.605\n",
      "Cross_Val Macro F1: 0.601\n"
     ]
    },
    {
     "data": {
      "image/png": "[encoded data removed]",
      "text/plain": [
       "<Figure size 432x288 with 2 Axes>"
      ]
     },
     "metadata": {
      "needs_background": "light"
     },
     "output_type": "display_data"
    }
   ],
   "source": [
    "# Logistic Regression, No Penalty, Best Solver\n",
    "lr_pipe4 = imbpipe(steps=[\n",
    "    (\"ohe\", OneHotEncoder(sparse=False)),\n",
    "    ('sm', SMOTEN(random_state=123)),\n",
    "    ('lr', LogisticRegression(penalty = 'none', random_state=123))\n",
    "])\n",
    "\n",
    "lr_pipe4.fit(X_train_clean, y_train)\n",
    "\n",
    "model_performance(lr_pipe4, X_train_clean, y_train)"
   ]
  },
  {
   "cell_type": "markdown",
   "metadata": {},
   "source": [
    "#### Logistic Regression Iteration 5 - Class_Weight Balanced, No Penalty\n",
    "\n",
    "Lastly, for good measure, I look to see whether setting a class balance instead of SMOTEN leads to better performance."
   ]
  },
  {
   "cell_type": "code",
   "execution_count": 40,
   "metadata": {},
   "outputs": [
    {
     "name": "stdout",
     "output_type": "stream",
     "text": [
      "Training Accuracy 0.607\n",
      "---\n",
      "Cross_Val Accuracy 0.603\n",
      "---\n",
      "Training Macro Precision: 0.612\n",
      "Cross_Val Macro Precision: 0.609\n",
      "---\n",
      "Training Macro Recall: 0.624\n",
      "Cross_Val Macro Recall: 0.62\n",
      "---\n",
      "Training Macro F1: 0.599\n",
      "Cross_Val Macro F1: 0.595\n"
     ]
    },
    {
     "data": {
      "image/png": "[encoded data removed]",
      "text/plain": [
       "<Figure size 432x288 with 2 Axes>"
      ]
     },
     "metadata": {
      "needs_background": "light"
     },
     "output_type": "display_data"
    }
   ],
   "source": [
    "# Logistic Regression, No Penalty, Best Solver\n",
    "\n",
    "lr_pipe5 = imbpipe(steps=[\n",
    "    (\"ohe\", OneHotEncoder(sparse=False)),\n",
    "    ('lr', LogisticRegression(penalty = 'none',\n",
    "                              class_weight = 'balanced',\n",
    "                              random_state=123))\n",
    "])\n",
    "\n",
    "lr_pipe5.fit(X_train_clean, y_train)\n",
    "\n",
    "model_performance(lr_pipe5, X_train_clean, y_train)"
   ]
  },
  {
   "cell_type": "markdown",
   "metadata": {},
   "source": [
    "**Model Evaluation:** This is the best recall score we got, so we'll move forward with this as our model."
   ]
  },
  {
   "cell_type": "markdown",
   "metadata": {},
   "source": [
    "### Model Evaluation"
   ]
  },
  {
   "cell_type": "code",
   "execution_count": 41,
   "metadata": {},
   "outputs": [
    {
     "name": "stdout",
     "output_type": "stream",
     "text": [
      "Recall score:  0.633\n",
      "Precision score:  0.62\n",
      "F1 score:  0.606\n"
     ]
    }
   ],
   "source": [
    "# Clean test data\n",
    "X_test_clean = cleaning_pipeline.transform(X_test)\n",
    "\n",
    "# Use model to predict target\n",
    "y_pred = lr_pipe5.predict(X_test_clean)\n",
    "\n",
    "# Score model on test data\n",
    "lr_pipe5.score(X_test_clean, y_test)\n",
    "\n",
    "print('Recall score: ', round(recall_score(y_test, y_pred, average='macro'), 3))\n",
    "print('Precision score: ', round(precision_score(y_test, y_pred, average='macro'), 3))\n",
    "print('F1 score: ', round(f1_score(y_test, y_pred, average='macro'), 3))"
   ]
  },
  {
   "cell_type": "markdown",
   "metadata": {},
   "source": [
    "### Investigating the Best Performing Model\n",
    "Out of all the different models and hyper-parameters we tried above, we got the best performance using Logistic Regression. Let's take a look at the coefficients driving that model."
   ]
  },
  {
   "cell_type": "code",
   "execution_count": 62,
   "metadata": {
    "scrolled": false
   },
   "outputs": [],
   "source": [
    "coefs = list(lr_pipe5['lr'].coef_[0])\n",
    "features = list(lr_pipe5['ohe'].get_feature_names())\n",
    "zipped = list(zip(features,coefs))\n",
    "results = pd.DataFrame(zipped, columns=['Feature','Coefficient'])"
   ]
  },
  {
   "cell_type": "code",
   "execution_count": 63,
   "metadata": {
    "scrolled": false
   },
   "outputs": [
    {
     "data": {
      "text/html": [
       "<div>\n",
       "<style scoped>\n",
       "    .dataframe tbody tr th:only-of-type {\n",
       "        vertical-align: middle;\n",
       "    }\n",
       "\n",
       "    .dataframe tbody tr th {\n",
       "        vertical-align: top;\n",
       "    }\n",
       "\n",
       "    .dataframe thead th {\n",
       "        text-align: right;\n",
       "    }\n",
       "</style>\n",
       "<table border=\"1\" class=\"dataframe\">\n",
       "  <thead>\n",
       "    <tr style=\"text-align: right;\">\n",
       "      <th></th>\n",
       "      <th>Feature</th>\n",
       "      <th>Coeffficient</th>\n",
       "    </tr>\n",
       "  </thead>\n",
       "  <tbody>\n",
       "    <tr>\n",
       "      <th>13</th>\n",
       "      <td>x2_American Indian or Alaska Native - Non-Hisp...</td>\n",
       "      <td>0.535666</td>\n",
       "    </tr>\n",
       "    <tr>\n",
       "      <th>4</th>\n",
       "      <td>x0_5JD</td>\n",
       "      <td>0.518542</td>\n",
       "    </tr>\n",
       "    <tr>\n",
       "      <th>44</th>\n",
       "      <td>x7_Other Criminal</td>\n",
       "      <td>0.446636</td>\n",
       "    </tr>\n",
       "    <tr>\n",
       "      <th>3</th>\n",
       "      <td>x0_4JD</td>\n",
       "      <td>0.436635</td>\n",
       "    </tr>\n",
       "    <tr>\n",
       "      <th>1</th>\n",
       "      <td>x0_2JD</td>\n",
       "      <td>0.380464</td>\n",
       "    </tr>\n",
       "    <tr>\n",
       "      <th>12</th>\n",
       "      <td>x1_special sentence</td>\n",
       "      <td>0.370741</td>\n",
       "    </tr>\n",
       "    <tr>\n",
       "      <th>36</th>\n",
       "      <td>x7_Alcohol</td>\n",
       "      <td>0.359166</td>\n",
       "    </tr>\n",
       "    <tr>\n",
       "      <th>22</th>\n",
       "      <td>x3_Under 25</td>\n",
       "      <td>0.343919</td>\n",
       "    </tr>\n",
       "    <tr>\n",
       "      <th>0</th>\n",
       "      <td>x0_1JD</td>\n",
       "      <td>0.324822</td>\n",
       "    </tr>\n",
       "    <tr>\n",
       "      <th>41</th>\n",
       "      <td>x7_Forgery/Fraud</td>\n",
       "      <td>0.306303</td>\n",
       "    </tr>\n",
       "    <tr>\n",
       "      <th>2</th>\n",
       "      <td>x0_3JD</td>\n",
       "      <td>0.290064</td>\n",
       "    </tr>\n",
       "    <tr>\n",
       "      <th>18</th>\n",
       "      <td>x3_25-34</td>\n",
       "      <td>0.287580</td>\n",
       "    </tr>\n",
       "    <tr>\n",
       "      <th>46</th>\n",
       "      <td>x7_Other Public Order</td>\n",
       "      <td>0.272154</td>\n",
       "    </tr>\n",
       "    <tr>\n",
       "      <th>7</th>\n",
       "      <td>x0_8JD</td>\n",
       "      <td>0.264400</td>\n",
       "    </tr>\n",
       "    <tr>\n",
       "      <th>39</th>\n",
       "      <td>x7_Burglary</td>\n",
       "      <td>0.249296</td>\n",
       "    </tr>\n",
       "    <tr>\n",
       "      <th>38</th>\n",
       "      <td>x7_Assault</td>\n",
       "      <td>0.235123</td>\n",
       "    </tr>\n",
       "    <tr>\n",
       "      <th>10</th>\n",
       "      <td>x1_discharged</td>\n",
       "      <td>0.230953</td>\n",
       "    </tr>\n",
       "    <tr>\n",
       "      <th>5</th>\n",
       "      <td>x0_6JD</td>\n",
       "      <td>0.222645</td>\n",
       "    </tr>\n",
       "    <tr>\n",
       "      <th>40</th>\n",
       "      <td>x7_Drug Possession</td>\n",
       "      <td>0.215814</td>\n",
       "    </tr>\n",
       "    <tr>\n",
       "      <th>24</th>\n",
       "      <td>x4_Male</td>\n",
       "      <td>0.211260</td>\n",
       "    </tr>\n",
       "    <tr>\n",
       "      <th>34</th>\n",
       "      <td>x6_Public Order</td>\n",
       "      <td>0.188818</td>\n",
       "    </tr>\n",
       "    <tr>\n",
       "      <th>51</th>\n",
       "      <td>x7_Theft</td>\n",
       "      <td>0.160374</td>\n",
       "    </tr>\n",
       "    <tr>\n",
       "      <th>33</th>\n",
       "      <td>x6_Property</td>\n",
       "      <td>0.130338</td>\n",
       "    </tr>\n",
       "    <tr>\n",
       "      <th>47</th>\n",
       "      <td>x7_Other Violent</td>\n",
       "      <td>0.126756</td>\n",
       "    </tr>\n",
       "    <tr>\n",
       "      <th>31</th>\n",
       "      <td>x6_Drug</td>\n",
       "      <td>0.125081</td>\n",
       "    </tr>\n",
       "    <tr>\n",
       "      <th>6</th>\n",
       "      <td>x0_7JD</td>\n",
       "      <td>0.117315</td>\n",
       "    </tr>\n",
       "    <tr>\n",
       "      <th>19</th>\n",
       "      <td>x3_35-44</td>\n",
       "      <td>0.098490</td>\n",
       "    </tr>\n",
       "    <tr>\n",
       "      <th>29</th>\n",
       "      <td>x5_Serious Misdemeanor</td>\n",
       "      <td>0.092271</td>\n",
       "    </tr>\n",
       "    <tr>\n",
       "      <th>30</th>\n",
       "      <td>x5_enhanced felony</td>\n",
       "      <td>0.080110</td>\n",
       "    </tr>\n",
       "    <tr>\n",
       "      <th>15</th>\n",
       "      <td>x2_Black - Non-Hispanic</td>\n",
       "      <td>0.078223</td>\n",
       "    </tr>\n",
       "    <tr>\n",
       "      <th>17</th>\n",
       "      <td>x2_White - Non-Hispanic</td>\n",
       "      <td>0.076801</td>\n",
       "    </tr>\n",
       "    <tr>\n",
       "      <th>26</th>\n",
       "      <td>x5_B Felony</td>\n",
       "      <td>0.060920</td>\n",
       "    </tr>\n",
       "    <tr>\n",
       "      <th>56</th>\n",
       "      <td>x8_No</td>\n",
       "      <td>0.024970</td>\n",
       "    </tr>\n",
       "    <tr>\n",
       "      <th>25</th>\n",
       "      <td>x5_Aggravated Misdemeanor</td>\n",
       "      <td>0.024622</td>\n",
       "    </tr>\n",
       "    <tr>\n",
       "      <th>27</th>\n",
       "      <td>x5_C Felony</td>\n",
       "      <td>0.024224</td>\n",
       "    </tr>\n",
       "    <tr>\n",
       "      <th>57</th>\n",
       "      <td>x8_Yes</td>\n",
       "      <td>0.006550</td>\n",
       "    </tr>\n",
       "    <tr>\n",
       "      <th>53</th>\n",
       "      <td>x7_Trafficking</td>\n",
       "      <td>-0.039658</td>\n",
       "    </tr>\n",
       "    <tr>\n",
       "      <th>50</th>\n",
       "      <td>x7_Sex Offender Registry/Residency</td>\n",
       "      <td>-0.042679</td>\n",
       "    </tr>\n",
       "    <tr>\n",
       "      <th>45</th>\n",
       "      <td>x7_Other Drug</td>\n",
       "      <td>-0.051074</td>\n",
       "    </tr>\n",
       "    <tr>\n",
       "      <th>55</th>\n",
       "      <td>x7_Weapons</td>\n",
       "      <td>-0.064486</td>\n",
       "    </tr>\n",
       "    <tr>\n",
       "      <th>20</th>\n",
       "      <td>x3_45-54</td>\n",
       "      <td>-0.119322</td>\n",
       "    </tr>\n",
       "    <tr>\n",
       "      <th>54</th>\n",
       "      <td>x7_Vandalism</td>\n",
       "      <td>-0.130376</td>\n",
       "    </tr>\n",
       "    <tr>\n",
       "      <th>52</th>\n",
       "      <td>x7_Traffic</td>\n",
       "      <td>-0.131125</td>\n",
       "    </tr>\n",
       "    <tr>\n",
       "      <th>32</th>\n",
       "      <td>x6_Other</td>\n",
       "      <td>-0.135143</td>\n",
       "    </tr>\n",
       "    <tr>\n",
       "      <th>23</th>\n",
       "      <td>x4_Female</td>\n",
       "      <td>-0.179741</td>\n",
       "    </tr>\n",
       "    <tr>\n",
       "      <th>43</th>\n",
       "      <td>x7_OWI</td>\n",
       "      <td>-0.204212</td>\n",
       "    </tr>\n",
       "    <tr>\n",
       "      <th>48</th>\n",
       "      <td>x7_Robbery</td>\n",
       "      <td>-0.232662</td>\n",
       "    </tr>\n",
       "    <tr>\n",
       "      <th>28</th>\n",
       "      <td>x5_D Felony</td>\n",
       "      <td>-0.250627</td>\n",
       "    </tr>\n",
       "    <tr>\n",
       "      <th>35</th>\n",
       "      <td>x6_Violent</td>\n",
       "      <td>-0.277575</td>\n",
       "    </tr>\n",
       "    <tr>\n",
       "      <th>14</th>\n",
       "      <td>x2_Asian or Pacific Islander - Non-Hispanic</td>\n",
       "      <td>-0.329540</td>\n",
       "    </tr>\n",
       "    <tr>\n",
       "      <th>16</th>\n",
       "      <td>x2_White - Hispanic</td>\n",
       "      <td>-0.329631</td>\n",
       "    </tr>\n",
       "    <tr>\n",
       "      <th>49</th>\n",
       "      <td>x7_Sex</td>\n",
       "      <td>-0.409799</td>\n",
       "    </tr>\n",
       "    <tr>\n",
       "      <th>37</th>\n",
       "      <td>x7_Arson</td>\n",
       "      <td>-0.455258</td>\n",
       "    </tr>\n",
       "    <tr>\n",
       "      <th>11</th>\n",
       "      <td>x1_parole</td>\n",
       "      <td>-0.570174</td>\n",
       "    </tr>\n",
       "    <tr>\n",
       "      <th>42</th>\n",
       "      <td>x7_Murder/Manslaughter</td>\n",
       "      <td>-0.578772</td>\n",
       "    </tr>\n",
       "    <tr>\n",
       "      <th>21</th>\n",
       "      <td>x3_55 and Older</td>\n",
       "      <td>-0.579147</td>\n",
       "    </tr>\n",
       "    <tr>\n",
       "      <th>8</th>\n",
       "      <td>x0_ISC</td>\n",
       "      <td>-1.259660</td>\n",
       "    </tr>\n",
       "    <tr>\n",
       "      <th>9</th>\n",
       "      <td>x0_None</td>\n",
       "      <td>-1.263708</td>\n",
       "    </tr>\n",
       "  </tbody>\n",
       "</table>\n",
       "</div>"
      ],
      "text/plain": [
       "                                              Feature  Coeffficient\n",
       "13  x2_American Indian or Alaska Native - Non-Hisp...      0.535666\n",
       "4                                              x0_5JD      0.518542\n",
       "44                                  x7_Other Criminal      0.446636\n",
       "3                                              x0_4JD      0.436635\n",
       "1                                              x0_2JD      0.380464\n",
       "12                                x1_special sentence      0.370741\n",
       "36                                         x7_Alcohol      0.359166\n",
       "22                                        x3_Under 25      0.343919\n",
       "0                                              x0_1JD      0.324822\n",
       "41                                   x7_Forgery/Fraud      0.306303\n",
       "2                                              x0_3JD      0.290064\n",
       "18                                           x3_25-34      0.287580\n",
       "46                              x7_Other Public Order      0.272154\n",
       "7                                              x0_8JD      0.264400\n",
       "39                                        x7_Burglary      0.249296\n",
       "38                                         x7_Assault      0.235123\n",
       "10                                      x1_discharged      0.230953\n",
       "5                                              x0_6JD      0.222645\n",
       "40                                 x7_Drug Possession      0.215814\n",
       "24                                            x4_Male      0.211260\n",
       "34                                    x6_Public Order      0.188818\n",
       "51                                           x7_Theft      0.160374\n",
       "33                                        x6_Property      0.130338\n",
       "47                                   x7_Other Violent      0.126756\n",
       "31                                            x6_Drug      0.125081\n",
       "6                                              x0_7JD      0.117315\n",
       "19                                           x3_35-44      0.098490\n",
       "29                             x5_Serious Misdemeanor      0.092271\n",
       "30                                 x5_enhanced felony      0.080110\n",
       "15                            x2_Black - Non-Hispanic      0.078223\n",
       "17                            x2_White - Non-Hispanic      0.076801\n",
       "26                                        x5_B Felony      0.060920\n",
       "56                                              x8_No      0.024970\n",
       "25                          x5_Aggravated Misdemeanor      0.024622\n",
       "27                                        x5_C Felony      0.024224\n",
       "57                                             x8_Yes      0.006550\n",
       "53                                     x7_Trafficking     -0.039658\n",
       "50                 x7_Sex Offender Registry/Residency     -0.042679\n",
       "45                                      x7_Other Drug     -0.051074\n",
       "55                                         x7_Weapons     -0.064486\n",
       "20                                           x3_45-54     -0.119322\n",
       "54                                       x7_Vandalism     -0.130376\n",
       "52                                         x7_Traffic     -0.131125\n",
       "32                                           x6_Other     -0.135143\n",
       "23                                          x4_Female     -0.179741\n",
       "43                                             x7_OWI     -0.204212\n",
       "48                                         x7_Robbery     -0.232662\n",
       "28                                        x5_D Felony     -0.250627\n",
       "35                                         x6_Violent     -0.277575\n",
       "14        x2_Asian or Pacific Islander - Non-Hispanic     -0.329540\n",
       "16                                x2_White - Hispanic     -0.329631\n",
       "49                                             x7_Sex     -0.409799\n",
       "37                                           x7_Arson     -0.455258\n",
       "11                                          x1_parole     -0.570174\n",
       "42                             x7_Murder/Manslaughter     -0.578772\n",
       "21                                    x3_55 and Older     -0.579147\n",
       "8                                              x0_ISC     -1.259660\n",
       "9                                             x0_None     -1.263708"
      ]
     },
     "execution_count": 63,
     "metadata": {},
     "output_type": "execute_result"
    }
   ],
   "source": [
    "results.sort_values(by='Coefficient', ascending=False)"
   ]
  },
  {
   "cell_type": "markdown",
   "metadata": {},
   "source": [
    "Looking at the coefficients above, it seems that the following features have a relatively higher predictive power as to whether an individual is likely to return to prison within 3 years of release:\n",
    "\n",
    "* Supervising District\n",
    "* Race - Ethnicity\n",
    "* Offense Subtype\n",
    "* Release Type\n",
    "\n",
    "In the next section we take a closer look at these features and create some visualizations to help better see their effect on the target outcome."
   ]
  },
  {
   "cell_type": "markdown",
   "metadata": {},
   "source": [
    "## Exploratory Data Analysis\n",
    "\n",
    "First, we take our cleaned training data and put it back together for the purposes of EDA."
   ]
  },
  {
   "cell_type": "code",
   "execution_count": 44,
   "metadata": {},
   "outputs": [],
   "source": [
    "# Create the cleaned dataset\n",
    "clean_data = pd.concat([y_train, X_train_clean], axis=1)"
   ]
  },
  {
   "cell_type": "code",
   "execution_count": 45,
   "metadata": {
    "scrolled": false
   },
   "outputs": [
    {
     "data": {
      "text/plain": [
       "Index(['Return to Prison', 'Main Supervising District', 'Release Type',\n",
       "       'Race - Ethnicity', 'Age At Release ', 'Sex', 'Offense Classification',\n",
       "       'Offense Type', 'Offense Subtype', 'Target Population'],\n",
       "      dtype='object')"
      ]
     },
     "execution_count": 45,
     "metadata": {},
     "output_type": "execute_result"
    }
   ],
   "source": [
    "# Double check the columns\n",
    "clean_data.columns"
   ]
  },
  {
   "cell_type": "code",
   "execution_count": 46,
   "metadata": {},
   "outputs": [],
   "source": [
    "# Get average occurrence of recidivism across all data as a benchmark\n",
    "avg_recidivism = clean_data['Return to Prison'].value_counts(normalize=True)[1]"
   ]
  },
  {
   "cell_type": "markdown",
   "metadata": {},
   "source": [
    "#### Looking at Recidivism by Supervising District\n",
    "\n",
    "Persons released from prison are either released to one of 8 Supervising Districts, discharged completely or discharged out-of-state (to ISC).\n",
    "\n",
    "**NOTE:** While rates look low for persons released to ISC (Interstate Compact) that is potentially misleading. These persons leave Iowa state, and if they return to a prison not located in Iowa, the IDC does not receive data on that."
   ]
  },
  {
   "cell_type": "code",
   "execution_count": 47,
   "metadata": {
    "scrolled": false
   },
   "outputs": [],
   "source": [
    "# Create a crosstab of our data for the feature\n",
    "recidvism_by_district = pd.crosstab(clean_data['Main Supervising District'],\n",
    "                                    clean_data['Return to Prison'],\n",
    "                                    normalize='index')"
   ]
  },
  {
   "cell_type": "code",
   "execution_count": 48,
   "metadata": {
    "scrolled": false
   },
   "outputs": [
    {
     "data": {
      "image/png": "[encoded data removed]",
      "text/plain": [
       "<Figure size 720x576 with 1 Axes>"
      ]
     },
     "metadata": {
      "needs_background": "light"
     },
     "output_type": "display_data"
    }
   ],
   "source": [
    "# Graph the results\n",
    "fig, ax = plt.subplots(figsize=(10, 8))\n",
    "recidvism_by_district[1].sort_values().plot.barh(ax=ax)\n",
    "plt.title('Recidivism by Supervising District', size=15)\n",
    "plt.xlabel('Rate of Recidivism',  rotation=0, size=12, labelpad=15)\n",
    "plt.ylabel('Supervising District',  rotation=0, size=12, labelpad=70)\n",
    "\n",
    "# Adding line to emphasize average recidivism rate in population\n",
    "plt.vlines(x=avg_recidivism, ymin=-50, ymax=100, alpha=0.8, color='red', ls='--')\n",
    "\n",
    "plt.legend()\n",
    "ax.legend(labels=['Average Rate of Recidivism', 'Group Recidivism Rate'])\n",
    "plt.show()"
   ]
  },
  {
   "cell_type": "markdown",
   "metadata": {},
   "source": [
    "#### Looking at Recidivism by Race - Ethnicity\n",
    "\n",
    "Another strong predictor in the model was whether the person was a Non-Hispanic American Indian or Alaska Native. The IDC should investigate why its current strategies are failing to help this group.\n",
    "\n",
    "The results for this and other races and ethnicities are shown below."
   ]
  },
  {
   "cell_type": "code",
   "execution_count": 49,
   "metadata": {
    "scrolled": false
   },
   "outputs": [],
   "source": [
    "recidvism_by_race = pd.crosstab(clean_data['Race - Ethnicity'],\n",
    "                               clean_data['Return to Prison'],\n",
    "                               normalize='index')"
   ]
  },
  {
   "cell_type": "code",
   "execution_count": 69,
   "metadata": {
    "scrolled": false
   },
   "outputs": [
    {
     "data": {
      "image/png": "[encoded data removed]",
      "text/plain": [
       "<Figure size 720x576 with 1 Axes>"
      ]
     },
     "metadata": {
      "needs_background": "light"
     },
     "output_type": "display_data"
    }
   ],
   "source": [
    "# Graph the crosstab table\n",
    "fig, ax = plt.subplots(figsize=(10, 8))\n",
    "recidvism_by_race[1].sort_values().plot.barh(ax=ax)\n",
    "plt.title('Recidivism by Race', size=15)\n",
    "plt.xlabel('Rate of Recidivism', size=12, rotation=0, labelpad=15)\n",
    "plt.ylabel('Race - Ethnicity', rotation = 0, size=12)\n",
    "\n",
    "# Adding line to emphasize average recidivism rate in population\n",
    "plt.vlines(x=avg_recidivism, ymin=-50, ymax=100, alpha=0.8, color='red', ls='--')\n",
    "\n",
    "plt.legend()\n",
    "ax.legend(labels=['Average Rate of Recidivism', 'Group Recidivism Rate'])\n",
    "plt.show()"
   ]
  },
  {
   "cell_type": "markdown",
   "metadata": {},
   "source": [
    "#### Looking at Recidivism by Offense Subtype\n",
    "\n",
    "Persons in prison for certain offense subtypes showed a greater likelihood of having above-average recidivism rates.\n",
    "\n",
    "* Persons with the 'Other Criminal' classification had the highest rate, and were the third strongest predictor in our model\n",
    "* This was followed by those who committed Burglary and Alcohol-related crimes."
   ]
  },
  {
   "cell_type": "code",
   "execution_count": 64,
   "metadata": {
    "scrolled": false
   },
   "outputs": [],
   "source": [
    "recidvism_by_off_subtype = pd.crosstab(clean_data['Offense Subtype'],\n",
    "                               clean_data['Return to Prison'],\n",
    "                               normalize='index')"
   ]
  },
  {
   "cell_type": "code",
   "execution_count": 68,
   "metadata": {},
   "outputs": [
    {
     "data": {
      "image/png": "[encoded data removed]",
      "text/plain": [
       "<Figure size 1152x576 with 1 Axes>"
      ]
     },
     "metadata": {
      "needs_background": "light"
     },
     "output_type": "display_data"
    }
   ],
   "source": [
    "# Graph the crosstab table\n",
    "fig, ax = plt.subplots(figsize=(16, 8))\n",
    "recidvism_by_off_subtype[1].sort_values().plot.barh(ax=ax)\n",
    "plt.title('Recidivism by Offense Subtype', size=15)\n",
    "plt.ylabel('Offense Subtype', rotation = 0, size=12)\n",
    "plt.xlabel('Rate of Recidivism', size=12, rotation=0, labelpad=15)\n",
    "\n",
    "# Adding line to emphasize average recidivism rate in population\n",
    "plt.vlines(x=avg_recidivism, ymin=-50, ymax=100, alpha=0.8, color='red', ls='--')\n",
    "\n",
    "plt.legend()\n",
    "ax.legend(labels=['Average Rate of Recidivism', 'Group Recidivism Rate'])\n",
    "plt.xticks(rotation = 0)\n",
    "plt.show()"
   ]
  },
  {
   "cell_type": "markdown",
   "metadata": {},
   "source": [
    "#### Looking at Recidivism by Type of Release\n",
    "\n",
    "Finally, the type of release was the 4th strongest predictor. Individuals released on a special sentence had significantly higher rates of recidivism compared to those discharged without special conditions and those discharged on parole.\n",
    "\n",
    "Special Sentences apply to Class \"B\" and Class \"C\" felonies and a definition can be found [here](https://www.legis.iowa.gov/docs/code/903B.1.pdf)."
   ]
  },
  {
   "cell_type": "code",
   "execution_count": 53,
   "metadata": {},
   "outputs": [],
   "source": [
    "recidvism_by_release = pd.crosstab(clean_data['Release Type'],\n",
    "                               clean_data['Return to Prison'],\n",
    "                               normalize='index')"
   ]
  },
  {
   "cell_type": "code",
   "execution_count": 54,
   "metadata": {},
   "outputs": [
    {
     "data": {
      "image/png": "[encoded data removed]",
      "text/plain": [
       "<Figure size 1152x576 with 1 Axes>"
      ]
     },
     "metadata": {
      "needs_background": "light"
     },
     "output_type": "display_data"
    }
   ],
   "source": [
    "# Graph the results\n",
    "fig, ax = plt.subplots(figsize=(16, 8))\n",
    "recidvism_by_release[1].sort_values().plot.bar(ax=ax)\n",
    "plt.title('Recidivism by Release Type', size=15)\n",
    "plt.ylabel('Rate of Recidivism', size=12, rotation=0, labelpad=70)\n",
    "plt.xlabel('Rate of Recidivism',  rotation=0, size=12, labelpad=15)\n",
    "\n",
    "# Adding line to emphasize average recidivism rate in population\n",
    "plt.hlines(y=avg_recidivism, xmin=-50, xmax=100, alpha=0.8, color='red', ls='--')\n",
    "\n",
    "plt.legend()\n",
    "ax.legend(labels=['Average Rate of Recidivism', 'Group Recidivism Rate'])\n",
    "plt.xticks(rotation = 0)\n",
    "plt.show()"
   ]
  },
  {
   "cell_type": "markdown",
   "metadata": {},
   "source": [
    "## Conclusions & Next Steps"
   ]
  },
  {
   "cell_type": "markdown",
   "metadata": {},
   "source": [
    "* Our logistic regression model was able to predict recidivism with a recall score of 0.62\n",
    "* The model identified that a person's Supervising District, Race - Ethnicity, Offense Subtype, and Type of Release were the most predictive features for whether or not they are likely to return to prison\n",
    "  * **Supervising Districts.** Persons released to Judicial Supervising districts showed higher rates of recidivism than those released without supervision.\n",
    "  * **Race - Ethnicity.** Non-Hispanic American Indian, Alaska Natives and White persons showed higher rates of recidivism relative to other races/thnicities.\n",
    "  * **Offense Subtype.** Persons committing \"other criminal\" crimes had a higher than average likelihood of reoffending.\n",
    "  * **Release Type.** Individuals released on a special sentence had far higher average recidivism rates than those released on parole or those discharged without parole.\n",
    "* The Iowa Department of Corrections should investigate why its programs are disproportionately not effective in helping these persons."
   ]
  },
  {
   "cell_type": "code",
   "execution_count": null,
   "metadata": {},
   "outputs": [],
   "source": []
  }
 ],
 "metadata": {
  "kernelspec": {
   "display_name": "Python (learn-env)",
   "language": "python",
   "name": "learn-env"
  },
  "language_info": {
   "codemirror_mode": {
    "name": "ipython",
    "version": 3
   },
   "file_extension": ".py",
   "mimetype": "text/x-python",
   "name": "python",
   "nbconvert_exporter": "python",
   "pygments_lexer": "ipython3",
   "version": "3.8.5"
  }
 },
 "nbformat": 4,
 "nbformat_minor": 4
}
